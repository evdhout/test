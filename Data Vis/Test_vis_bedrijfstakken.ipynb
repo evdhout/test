{
 "cells": [
  {
   "cell_type": "code",
   "execution_count": 83,
   "metadata": {},
   "outputs": [],
   "source": [
    "# import libraries\n",
    "import pandas as pd\n",
    "import numpy as np\n",
    "\n",
    "# data visualization\n",
    "import matplotlib.pyplot as plt\n",
    "%matplotlib inline\n",
    "import seaborn as sns\n",
    "import plotly.express as px\n",
    "import plotly.graph_objects as go\n",
    "from plotly.subplots import make_subplots"
   ]
  },
  {
   "cell_type": "code",
   "execution_count": 84,
   "metadata": {},
   "outputs": [
    {
     "data": {
      "text/html": [
       "<div>\n",
       "<style scoped>\n",
       "    .dataframe tbody tr th:only-of-type {\n",
       "        vertical-align: middle;\n",
       "    }\n",
       "\n",
       "    .dataframe tbody tr th {\n",
       "        vertical-align: top;\n",
       "    }\n",
       "\n",
       "    .dataframe thead th {\n",
       "        text-align: right;\n",
       "    }\n",
       "</style>\n",
       "<table border=\"1\" class=\"dataframe\">\n",
       "  <thead>\n",
       "    <tr style=\"text-align: right;\">\n",
       "      <th></th>\n",
       "      <th>Group</th>\n",
       "      <th>Category</th>\n",
       "      <th>Landbouw, bosbouw en visserij</th>\n",
       "      <th>Industrie</th>\n",
       "      <th>Gezondheids- en welzijnszorg</th>\n",
       "      <th>Openbaar bestuur</th>\n",
       "      <th>Onderwijs</th>\n",
       "      <th>Financiële instellingen</th>\n",
       "      <th>Horeca</th>\n",
       "      <th>Nederland (totaal)</th>\n",
       "    </tr>\n",
       "  </thead>\n",
       "  <tbody>\n",
       "    <tr>\n",
       "      <th>0</th>\n",
       "      <td>2013</td>\n",
       "      <td>Vierde kwartaal</td>\n",
       "      <td>2,8</td>\n",
       "      <td>4,9</td>\n",
       "      <td>4,7</td>\n",
       "      <td>4,9</td>\n",
       "      <td>4,9</td>\n",
       "      <td>2,9</td>\n",
       "      <td>2,1</td>\n",
       "      <td>3,9</td>\n",
       "    </tr>\n",
       "    <tr>\n",
       "      <th>1</th>\n",
       "      <td>2014</td>\n",
       "      <td>Eerste kwartaal</td>\n",
       "      <td>2,4</td>\n",
       "      <td>4,9</td>\n",
       "      <td>5,1</td>\n",
       "      <td>5</td>\n",
       "      <td>5,3</td>\n",
       "      <td>3</td>\n",
       "      <td>2,1</td>\n",
       "      <td>4</td>\n",
       "    </tr>\n",
       "    <tr>\n",
       "      <th>2</th>\n",
       "      <td>2014</td>\n",
       "      <td>Tweede kwartaal</td>\n",
       "      <td>2,3</td>\n",
       "      <td>4,6</td>\n",
       "      <td>4,7</td>\n",
       "      <td>4,6</td>\n",
       "      <td>4,9</td>\n",
       "      <td>2,9</td>\n",
       "      <td>2</td>\n",
       "      <td>3,7</td>\n",
       "    </tr>\n",
       "    <tr>\n",
       "      <th>3</th>\n",
       "      <td>2014</td>\n",
       "      <td>Derde Kwartaal</td>\n",
       "      <td>2,5</td>\n",
       "      <td>4,4</td>\n",
       "      <td>4,4</td>\n",
       "      <td>4,5</td>\n",
       "      <td>4,2</td>\n",
       "      <td>2,7</td>\n",
       "      <td>2</td>\n",
       "      <td>3,5</td>\n",
       "    </tr>\n",
       "    <tr>\n",
       "      <th>4</th>\n",
       "      <td>2014</td>\n",
       "      <td>Vierde kwartaal</td>\n",
       "      <td>2,9</td>\n",
       "      <td>5,1</td>\n",
       "      <td>5,1</td>\n",
       "      <td>5,3</td>\n",
       "      <td>5,1</td>\n",
       "      <td>3,2</td>\n",
       "      <td>2,2</td>\n",
       "      <td>4</td>\n",
       "    </tr>\n",
       "  </tbody>\n",
       "</table>\n",
       "</div>"
      ],
      "text/plain": [
       "   Group         Category Landbouw, bosbouw en visserij Industrie  \\\n",
       "0   2013  Vierde kwartaal                           2,8       4,9   \n",
       "1   2014  Eerste kwartaal                           2,4       4,9   \n",
       "2   2014  Tweede kwartaal                           2,3       4,6   \n",
       "3   2014   Derde Kwartaal                           2,5       4,4   \n",
       "4   2014  Vierde kwartaal                           2,9       5,1   \n",
       "\n",
       "  Gezondheids- en welzijnszorg Openbaar bestuur Onderwijs  \\\n",
       "0                          4,7              4,9       4,9   \n",
       "1                          5,1                5       5,3   \n",
       "2                          4,7              4,6       4,9   \n",
       "3                          4,4              4,5       4,2   \n",
       "4                          5,1              5,3       5,1   \n",
       "\n",
       "  Financiële instellingen Horeca Nederland (totaal)  \n",
       "0                     2,9    2,1                3,9  \n",
       "1                       3    2,1                  4  \n",
       "2                     2,9      2                3,7  \n",
       "3                     2,7      2                3,5  \n",
       "4                     3,2    2,2                  4  "
      ]
     },
     "execution_count": 84,
     "metadata": {},
     "output_type": "execute_result"
    }
   ],
   "source": [
    "df_cbs = pd.read_csv('Data/ziekteverzuim bedrijfstakken 190524.csv',)\n",
    "df_cbs.head()"
   ]
  },
  {
   "cell_type": "code",
   "execution_count": 85,
   "metadata": {},
   "outputs": [
    {
     "name": "stdout",
     "output_type": "stream",
     "text": [
      "   Group         Category Landbouw, bosbouw en visserij Industrie  \\\n",
      "0   2013  Vierde kwartaal                           2.8       4.9   \n",
      "1   2014  Eerste kwartaal                           2.4       4.9   \n",
      "2   2014  Tweede kwartaal                           2.3       4.6   \n",
      "3   2014   Derde Kwartaal                           2.5       4.4   \n",
      "4   2014  Vierde kwartaal                           2.9       5.1   \n",
      "\n",
      "  Gezondheids- en welzijnszorg Openbaar bestuur Onderwijs  \\\n",
      "0                          4.7              4.9       4.9   \n",
      "1                          5.1                5       5.3   \n",
      "2                          4.7              4.6       4.9   \n",
      "3                          4.4              4.5       4.2   \n",
      "4                          5.1              5.3       5.1   \n",
      "\n",
      "  Financiële instellingen Horeca Nederland (totaal)  \n",
      "0                     2.9    2.1                3.9  \n",
      "1                       3    2.1                  4  \n",
      "2                     2.9      2                3.7  \n",
      "3                     2.7      2                3.5  \n",
      "4                     3.2    2.2                  4  \n"
     ]
    },
    {
     "name": "stderr",
     "output_type": "stream",
     "text": [
      "C:\\Users\\c.hakker\\AppData\\Local\\Temp\\ipykernel_12684\\809626061.py:2: FutureWarning:\n",
      "\n",
      "DataFrame.applymap has been deprecated. Use DataFrame.map instead.\n",
      "\n"
     ]
    }
   ],
   "source": [
    "# Replace commas with periods in all columns\n",
    "df_cbs = df_cbs.applymap(lambda x: str(x).replace(',', '.') if isinstance(x, str) else x)\n",
    "\n",
    "# Display the first few rows to check the changes\n",
    "print(df_cbs.head())"
   ]
  },
  {
   "cell_type": "code",
   "execution_count": 86,
   "metadata": {},
   "outputs": [],
   "source": [
    "df_cbs.loc[:, ['Landbouw, bosbouw en visserij', 'Industrie', 'Gezondheids- en welzijnszorg', 'Openbaar bestuur', 'Onderwijs', 'Financiële instellingen', 'Horeca', 'Nederland (totaal)']] = df_cbs.loc[:, ['Landbouw, bosbouw en visserij', 'Industrie', 'Gezondheids- en welzijnszorg', 'Openbaar bestuur', 'Onderwijs', 'Financiële instellingen', 'Horeca', 'Nederland (totaal)']].astype(float)\n"
   ]
  },
  {
   "cell_type": "code",
   "execution_count": 87,
   "metadata": {},
   "outputs": [
    {
     "name": "stdout",
     "output_type": "stream",
     "text": [
      "Landbouw, bosbouw en visserij    float64\n",
      "Industrie                        float64\n",
      "Gezondheids- en welzijnszorg     float64\n",
      "Openbaar bestuur                 float64\n",
      "Onderwijs                        float64\n",
      "Financiële instellingen          float64\n",
      "Horeca                           float64\n",
      "Nederland (totaal)               float64\n",
      "dtype: object\n"
     ]
    }
   ],
   "source": [
    "# Lijst van kolomnamen die je wilt omzetten naar float\n",
    "columns_to_convert = ['Landbouw, bosbouw en visserij', 'Industrie', 'Gezondheids- en welzijnszorg','Openbaar bestuur', 'Onderwijs', 'Financiële instellingen', 'Horeca', 'Nederland (totaal)']\n",
    "\n",
    "# Zet de geselecteerde kolommen naar float\n",
    "df_cbs[columns_to_convert] = df_cbs[columns_to_convert].astype(float)\n",
    "\n",
    "# Controleer de wijzigingen\n",
    "print(df_cbs[columns_to_convert].dtypes)"
   ]
  },
  {
   "cell_type": "code",
   "execution_count": 88,
   "metadata": {},
   "outputs": [
    {
     "name": "stdout",
     "output_type": "stream",
     "text": [
      "<class 'pandas.core.frame.DataFrame'>\n",
      "RangeIndex: 41 entries, 0 to 40\n",
      "Data columns (total 10 columns):\n",
      " #   Column                         Non-Null Count  Dtype  \n",
      "---  ------                         --------------  -----  \n",
      " 0   Group                          41 non-null     int64  \n",
      " 1   Category                       41 non-null     object \n",
      " 2   Landbouw, bosbouw en visserij  41 non-null     float64\n",
      " 3   Industrie                      41 non-null     float64\n",
      " 4   Gezondheids- en welzijnszorg   41 non-null     float64\n",
      " 5   Openbaar bestuur               41 non-null     float64\n",
      " 6   Onderwijs                      41 non-null     float64\n",
      " 7   Financiële instellingen        41 non-null     float64\n",
      " 8   Horeca                         41 non-null     float64\n",
      " 9   Nederland (totaal)             41 non-null     float64\n",
      "dtypes: float64(8), int64(1), object(1)\n",
      "memory usage: 3.3+ KB\n",
      "None\n"
     ]
    }
   ],
   "source": [
    "print(df_cbs.info())"
   ]
  },
  {
   "cell_type": "code",
   "execution_count": 89,
   "metadata": {},
   "outputs": [
    {
     "data": {
      "text/html": [
       "<div>\n",
       "<style scoped>\n",
       "    .dataframe tbody tr th:only-of-type {\n",
       "        vertical-align: middle;\n",
       "    }\n",
       "\n",
       "    .dataframe tbody tr th {\n",
       "        vertical-align: top;\n",
       "    }\n",
       "\n",
       "    .dataframe thead th {\n",
       "        text-align: right;\n",
       "    }\n",
       "</style>\n",
       "<table border=\"1\" class=\"dataframe\">\n",
       "  <thead>\n",
       "    <tr style=\"text-align: right;\">\n",
       "      <th></th>\n",
       "      <th>Group</th>\n",
       "      <th>Category</th>\n",
       "      <th>Landbouw, bosbouw en visserij</th>\n",
       "      <th>Industrie</th>\n",
       "      <th>Gezondheids- en welzijnszorg</th>\n",
       "      <th>Openbaar bestuur</th>\n",
       "      <th>Onderwijs</th>\n",
       "      <th>Financiële instellingen</th>\n",
       "      <th>Horeca</th>\n",
       "      <th>Nederland (totaal)</th>\n",
       "    </tr>\n",
       "  </thead>\n",
       "  <tbody>\n",
       "    <tr>\n",
       "      <th>0</th>\n",
       "      <td>2013</td>\n",
       "      <td>Vierde kwartaal</td>\n",
       "      <td>2.8</td>\n",
       "      <td>4.9</td>\n",
       "      <td>4.7</td>\n",
       "      <td>4.9</td>\n",
       "      <td>4.9</td>\n",
       "      <td>2.9</td>\n",
       "      <td>2.1</td>\n",
       "      <td>3.9</td>\n",
       "    </tr>\n",
       "    <tr>\n",
       "      <th>1</th>\n",
       "      <td>2014</td>\n",
       "      <td>Eerste kwartaal</td>\n",
       "      <td>2.4</td>\n",
       "      <td>4.9</td>\n",
       "      <td>5.1</td>\n",
       "      <td>5.0</td>\n",
       "      <td>5.3</td>\n",
       "      <td>3.0</td>\n",
       "      <td>2.1</td>\n",
       "      <td>4.0</td>\n",
       "    </tr>\n",
       "    <tr>\n",
       "      <th>2</th>\n",
       "      <td>2014</td>\n",
       "      <td>Tweede kwartaal</td>\n",
       "      <td>2.3</td>\n",
       "      <td>4.6</td>\n",
       "      <td>4.7</td>\n",
       "      <td>4.6</td>\n",
       "      <td>4.9</td>\n",
       "      <td>2.9</td>\n",
       "      <td>2.0</td>\n",
       "      <td>3.7</td>\n",
       "    </tr>\n",
       "    <tr>\n",
       "      <th>3</th>\n",
       "      <td>2014</td>\n",
       "      <td>Derde Kwartaal</td>\n",
       "      <td>2.5</td>\n",
       "      <td>4.4</td>\n",
       "      <td>4.4</td>\n",
       "      <td>4.5</td>\n",
       "      <td>4.2</td>\n",
       "      <td>2.7</td>\n",
       "      <td>2.0</td>\n",
       "      <td>3.5</td>\n",
       "    </tr>\n",
       "    <tr>\n",
       "      <th>4</th>\n",
       "      <td>2014</td>\n",
       "      <td>Vierde kwartaal</td>\n",
       "      <td>2.9</td>\n",
       "      <td>5.1</td>\n",
       "      <td>5.1</td>\n",
       "      <td>5.3</td>\n",
       "      <td>5.1</td>\n",
       "      <td>3.2</td>\n",
       "      <td>2.2</td>\n",
       "      <td>4.0</td>\n",
       "    </tr>\n",
       "  </tbody>\n",
       "</table>\n",
       "</div>"
      ],
      "text/plain": [
       "   Group         Category  Landbouw, bosbouw en visserij  Industrie  \\\n",
       "0   2013  Vierde kwartaal                            2.8        4.9   \n",
       "1   2014  Eerste kwartaal                            2.4        4.9   \n",
       "2   2014  Tweede kwartaal                            2.3        4.6   \n",
       "3   2014   Derde Kwartaal                            2.5        4.4   \n",
       "4   2014  Vierde kwartaal                            2.9        5.1   \n",
       "\n",
       "   Gezondheids- en welzijnszorg  Openbaar bestuur  Onderwijs  \\\n",
       "0                           4.7               4.9        4.9   \n",
       "1                           5.1               5.0        5.3   \n",
       "2                           4.7               4.6        4.9   \n",
       "3                           4.4               4.5        4.2   \n",
       "4                           5.1               5.3        5.1   \n",
       "\n",
       "   Financiële instellingen  Horeca  Nederland (totaal)  \n",
       "0                      2.9     2.1                 3.9  \n",
       "1                      3.0     2.1                 4.0  \n",
       "2                      2.9     2.0                 3.7  \n",
       "3                      2.7     2.0                 3.5  \n",
       "4                      3.2     2.2                 4.0  "
      ]
     },
     "execution_count": 89,
     "metadata": {},
     "output_type": "execute_result"
    }
   ],
   "source": [
    "df_cbs.head()"
   ]
  },
  {
   "cell_type": "code",
   "execution_count": 90,
   "metadata": {},
   "outputs": [],
   "source": [
    "# Sort the Group column in descending order and get the unique values\n",
    "year_order = sorted(df_cbs['Group'].unique(), reverse=True)"
   ]
  },
  {
   "cell_type": "code",
   "execution_count": 91,
   "metadata": {},
   "outputs": [],
   "source": [
    "# Define the order of the categories\n",
    "category_order = ['Eerste kwartaal', 'Tweede kwartaal', 'Derde Kwartaal', 'Vierde kwartaal'] "
   ]
  },
  {
   "cell_type": "code",
   "execution_count": 92,
   "metadata": {},
   "outputs": [
    {
     "data": {
      "text/html": [
       "<div>\n",
       "<style scoped>\n",
       "    .dataframe tbody tr th:only-of-type {\n",
       "        vertical-align: middle;\n",
       "    }\n",
       "\n",
       "    .dataframe tbody tr th {\n",
       "        vertical-align: top;\n",
       "    }\n",
       "\n",
       "    .dataframe thead th {\n",
       "        text-align: right;\n",
       "    }\n",
       "</style>\n",
       "<table border=\"1\" class=\"dataframe\">\n",
       "  <thead>\n",
       "    <tr style=\"text-align: right;\">\n",
       "      <th></th>\n",
       "      <th>Group</th>\n",
       "      <th>Category</th>\n",
       "      <th>Landbouw, bosbouw en visserij</th>\n",
       "      <th>Industrie</th>\n",
       "      <th>Gezondheids- en welzijnszorg</th>\n",
       "      <th>Openbaar bestuur</th>\n",
       "      <th>Onderwijs</th>\n",
       "      <th>Financiële instellingen</th>\n",
       "      <th>Horeca</th>\n",
       "      <th>Nederland (totaal)</th>\n",
       "    </tr>\n",
       "  </thead>\n",
       "  <tbody>\n",
       "    <tr>\n",
       "      <th>0</th>\n",
       "      <td>2013</td>\n",
       "      <td>Vierde kwartaal</td>\n",
       "      <td>2.8</td>\n",
       "      <td>4.9</td>\n",
       "      <td>4.7</td>\n",
       "      <td>4.9</td>\n",
       "      <td>4.9</td>\n",
       "      <td>2.9</td>\n",
       "      <td>2.1</td>\n",
       "      <td>3.9</td>\n",
       "    </tr>\n",
       "    <tr>\n",
       "      <th>1</th>\n",
       "      <td>2014</td>\n",
       "      <td>Eerste kwartaal</td>\n",
       "      <td>2.4</td>\n",
       "      <td>4.9</td>\n",
       "      <td>5.1</td>\n",
       "      <td>5.0</td>\n",
       "      <td>5.3</td>\n",
       "      <td>3.0</td>\n",
       "      <td>2.1</td>\n",
       "      <td>4.0</td>\n",
       "    </tr>\n",
       "    <tr>\n",
       "      <th>2</th>\n",
       "      <td>2014</td>\n",
       "      <td>Tweede kwartaal</td>\n",
       "      <td>2.3</td>\n",
       "      <td>4.6</td>\n",
       "      <td>4.7</td>\n",
       "      <td>4.6</td>\n",
       "      <td>4.9</td>\n",
       "      <td>2.9</td>\n",
       "      <td>2.0</td>\n",
       "      <td>3.7</td>\n",
       "    </tr>\n",
       "    <tr>\n",
       "      <th>3</th>\n",
       "      <td>2014</td>\n",
       "      <td>Derde Kwartaal</td>\n",
       "      <td>2.5</td>\n",
       "      <td>4.4</td>\n",
       "      <td>4.4</td>\n",
       "      <td>4.5</td>\n",
       "      <td>4.2</td>\n",
       "      <td>2.7</td>\n",
       "      <td>2.0</td>\n",
       "      <td>3.5</td>\n",
       "    </tr>\n",
       "    <tr>\n",
       "      <th>4</th>\n",
       "      <td>2014</td>\n",
       "      <td>Vierde kwartaal</td>\n",
       "      <td>2.9</td>\n",
       "      <td>5.1</td>\n",
       "      <td>5.1</td>\n",
       "      <td>5.3</td>\n",
       "      <td>5.1</td>\n",
       "      <td>3.2</td>\n",
       "      <td>2.2</td>\n",
       "      <td>4.0</td>\n",
       "    </tr>\n",
       "  </tbody>\n",
       "</table>\n",
       "</div>"
      ],
      "text/plain": [
       "   Group         Category  Landbouw, bosbouw en visserij  Industrie  \\\n",
       "0   2013  Vierde kwartaal                            2.8        4.9   \n",
       "1   2014  Eerste kwartaal                            2.4        4.9   \n",
       "2   2014  Tweede kwartaal                            2.3        4.6   \n",
       "3   2014   Derde Kwartaal                            2.5        4.4   \n",
       "4   2014  Vierde kwartaal                            2.9        5.1   \n",
       "\n",
       "   Gezondheids- en welzijnszorg  Openbaar bestuur  Onderwijs  \\\n",
       "0                           4.7               4.9        4.9   \n",
       "1                           5.1               5.0        5.3   \n",
       "2                           4.7               4.6        4.9   \n",
       "3                           4.4               4.5        4.2   \n",
       "4                           5.1               5.3        5.1   \n",
       "\n",
       "   Financiële instellingen  Horeca  Nederland (totaal)  \n",
       "0                      2.9     2.1                 3.9  \n",
       "1                      3.0     2.1                 4.0  \n",
       "2                      2.9     2.0                 3.7  \n",
       "3                      2.7     2.0                 3.5  \n",
       "4                      3.2     2.2                 4.0  "
      ]
     },
     "execution_count": 92,
     "metadata": {},
     "output_type": "execute_result"
    }
   ],
   "source": [
    "df_cbs.head()"
   ]
  },
  {
   "cell_type": "code",
   "execution_count": 93,
   "metadata": {},
   "outputs": [],
   "source": [
    "df_cbs = df_cbs.rename(columns={'Group': 'Year', 'Category': 'Quarter'})"
   ]
  },
  {
   "cell_type": "code",
   "execution_count": 94,
   "metadata": {},
   "outputs": [
    {
     "data": {
      "text/html": [
       "<div>\n",
       "<style scoped>\n",
       "    .dataframe tbody tr th:only-of-type {\n",
       "        vertical-align: middle;\n",
       "    }\n",
       "\n",
       "    .dataframe tbody tr th {\n",
       "        vertical-align: top;\n",
       "    }\n",
       "\n",
       "    .dataframe thead th {\n",
       "        text-align: right;\n",
       "    }\n",
       "</style>\n",
       "<table border=\"1\" class=\"dataframe\">\n",
       "  <thead>\n",
       "    <tr style=\"text-align: right;\">\n",
       "      <th></th>\n",
       "      <th>Year</th>\n",
       "      <th>Quarter</th>\n",
       "      <th>Landbouw, bosbouw en visserij</th>\n",
       "      <th>Industrie</th>\n",
       "      <th>Gezondheids- en welzijnszorg</th>\n",
       "      <th>Openbaar bestuur</th>\n",
       "      <th>Onderwijs</th>\n",
       "      <th>Financiële instellingen</th>\n",
       "      <th>Horeca</th>\n",
       "      <th>Nederland (totaal)</th>\n",
       "    </tr>\n",
       "  </thead>\n",
       "  <tbody>\n",
       "    <tr>\n",
       "      <th>0</th>\n",
       "      <td>2013</td>\n",
       "      <td>Vierde kwartaal</td>\n",
       "      <td>2.8</td>\n",
       "      <td>4.9</td>\n",
       "      <td>4.7</td>\n",
       "      <td>4.9</td>\n",
       "      <td>4.9</td>\n",
       "      <td>2.9</td>\n",
       "      <td>2.1</td>\n",
       "      <td>3.9</td>\n",
       "    </tr>\n",
       "    <tr>\n",
       "      <th>1</th>\n",
       "      <td>2014</td>\n",
       "      <td>Eerste kwartaal</td>\n",
       "      <td>2.4</td>\n",
       "      <td>4.9</td>\n",
       "      <td>5.1</td>\n",
       "      <td>5.0</td>\n",
       "      <td>5.3</td>\n",
       "      <td>3.0</td>\n",
       "      <td>2.1</td>\n",
       "      <td>4.0</td>\n",
       "    </tr>\n",
       "    <tr>\n",
       "      <th>2</th>\n",
       "      <td>2014</td>\n",
       "      <td>Tweede kwartaal</td>\n",
       "      <td>2.3</td>\n",
       "      <td>4.6</td>\n",
       "      <td>4.7</td>\n",
       "      <td>4.6</td>\n",
       "      <td>4.9</td>\n",
       "      <td>2.9</td>\n",
       "      <td>2.0</td>\n",
       "      <td>3.7</td>\n",
       "    </tr>\n",
       "    <tr>\n",
       "      <th>3</th>\n",
       "      <td>2014</td>\n",
       "      <td>Derde Kwartaal</td>\n",
       "      <td>2.5</td>\n",
       "      <td>4.4</td>\n",
       "      <td>4.4</td>\n",
       "      <td>4.5</td>\n",
       "      <td>4.2</td>\n",
       "      <td>2.7</td>\n",
       "      <td>2.0</td>\n",
       "      <td>3.5</td>\n",
       "    </tr>\n",
       "    <tr>\n",
       "      <th>4</th>\n",
       "      <td>2014</td>\n",
       "      <td>Vierde kwartaal</td>\n",
       "      <td>2.9</td>\n",
       "      <td>5.1</td>\n",
       "      <td>5.1</td>\n",
       "      <td>5.3</td>\n",
       "      <td>5.1</td>\n",
       "      <td>3.2</td>\n",
       "      <td>2.2</td>\n",
       "      <td>4.0</td>\n",
       "    </tr>\n",
       "  </tbody>\n",
       "</table>\n",
       "</div>"
      ],
      "text/plain": [
       "   Year          Quarter  Landbouw, bosbouw en visserij  Industrie  \\\n",
       "0  2013  Vierde kwartaal                            2.8        4.9   \n",
       "1  2014  Eerste kwartaal                            2.4        4.9   \n",
       "2  2014  Tweede kwartaal                            2.3        4.6   \n",
       "3  2014   Derde Kwartaal                            2.5        4.4   \n",
       "4  2014  Vierde kwartaal                            2.9        5.1   \n",
       "\n",
       "   Gezondheids- en welzijnszorg  Openbaar bestuur  Onderwijs  \\\n",
       "0                           4.7               4.9        4.9   \n",
       "1                           5.1               5.0        5.3   \n",
       "2                           4.7               4.6        4.9   \n",
       "3                           4.4               4.5        4.2   \n",
       "4                           5.1               5.3        5.1   \n",
       "\n",
       "   Financiële instellingen  Horeca  Nederland (totaal)  \n",
       "0                      2.9     2.1                 3.9  \n",
       "1                      3.0     2.1                 4.0  \n",
       "2                      2.9     2.0                 3.7  \n",
       "3                      2.7     2.0                 3.5  \n",
       "4                      3.2     2.2                 4.0  "
      ]
     },
     "execution_count": 94,
     "metadata": {},
     "output_type": "execute_result"
    }
   ],
   "source": [
    "df_cbs.head()"
   ]
  },
  {
   "cell_type": "code",
   "execution_count": 95,
   "metadata": {},
   "outputs": [],
   "source": [
    "df_cbs['Year_Quarter'] = df_cbs['Year'].astype(str) + '-' + df_cbs['Quarter'].astype(str)"
   ]
  },
  {
   "cell_type": "code",
   "execution_count": 96,
   "metadata": {},
   "outputs": [
    {
     "data": {
      "application/vnd.plotly.v1+json": {
       "config": {
        "plotlyServerURL": "https://plot.ly"
       },
       "data": [
        {
         "hovertemplate": "Sector=Landbouw, bosbouw en visserij<br>Year_Quarter=%{x}<br>Percentage=%{y}<extra></extra>",
         "legendgroup": "Landbouw, bosbouw en visserij",
         "line": {
          "color": "#636efa",
          "dash": "solid"
         },
         "marker": {
          "symbol": "circle"
         },
         "mode": "lines",
         "name": "Landbouw, bosbouw en visserij",
         "orientation": "v",
         "showlegend": true,
         "type": "scatter",
         "x": [
          "2013-Vierde kwartaal",
          "2014-Eerste kwartaal",
          "2014-Tweede kwartaal",
          "2014-Derde Kwartaal",
          "2014-Vierde kwartaal",
          "2015-Eerste kwartaal",
          "2015-Tweede kwartaal",
          "2015-Derde Kwartaal",
          "2015-Vierde kwartaal",
          "2016-Eerste kwartaal",
          "2016-Tweede kwartaal",
          "2016-Derde Kwartaal",
          "2016-Vierde kwartaal",
          "2017-Eerste kwartaal",
          "2017-Tweede kwartaal",
          "2017-Derde Kwartaal",
          "2017-Vierde kwartaal",
          "2018-Eerste kwartaal",
          "2018-Tweede kwartaal",
          "2018-Derde Kwartaal",
          "2018-Vierde kwartaal",
          "2019-Eerste kwartaal",
          "2019-Tweede kwartaal",
          "2019-Derde Kwartaal",
          "2019-Vierde kwartaal",
          "2020-Eerste kwartaal",
          "2020-Tweede kwartaal",
          "2020-Derde Kwartaal",
          "2020-Vierde kwartaal",
          "2021-Eerste kwartaal",
          "2021-Tweede kwartaal",
          "2021-Derde Kwartaal",
          "2021-Vierde kwartaal",
          "2022-Eerste kwartaal",
          "2022-Tweede kwartaal",
          "2022-Derde Kwartaal",
          "2022-Vierde kwartaal",
          "2023-Eerste kwartaal",
          "2023-Tweede kwartaal",
          "2023-Derde Kwartaal",
          "2023-Vierde kwartaal"
         ],
         "xaxis": "x",
         "y": [
          2.8,
          2.4,
          2.3,
          2.5,
          2.9,
          2.9,
          2.5,
          2.7,
          3,
          2.7,
          2.5,
          2.4,
          2.5,
          2.6,
          2.5,
          2.4,
          2.4,
          2.5,
          2.5,
          2.8,
          2.4,
          2.7,
          2.7,
          2.6,
          2.5,
          3,
          3.2,
          3.7,
          3.6,
          3.6,
          3.3,
          3.5,
          3.8,
          4.2,
          4.1,
          3.1,
          3.3,
          3.8,
          3.4,
          3.7,
          3.7
         ],
         "yaxis": "y"
        },
        {
         "hovertemplate": "Sector=Industrie<br>Year_Quarter=%{x}<br>Percentage=%{y}<extra></extra>",
         "legendgroup": "Industrie",
         "line": {
          "color": "#EF553B",
          "dash": "solid"
         },
         "marker": {
          "symbol": "circle"
         },
         "mode": "lines",
         "name": "Industrie",
         "orientation": "v",
         "showlegend": true,
         "type": "scatter",
         "x": [
          "2013-Vierde kwartaal",
          "2014-Eerste kwartaal",
          "2014-Tweede kwartaal",
          "2014-Derde Kwartaal",
          "2014-Vierde kwartaal",
          "2015-Eerste kwartaal",
          "2015-Tweede kwartaal",
          "2015-Derde Kwartaal",
          "2015-Vierde kwartaal",
          "2016-Eerste kwartaal",
          "2016-Tweede kwartaal",
          "2016-Derde Kwartaal",
          "2016-Vierde kwartaal",
          "2017-Eerste kwartaal",
          "2017-Tweede kwartaal",
          "2017-Derde Kwartaal",
          "2017-Vierde kwartaal",
          "2018-Eerste kwartaal",
          "2018-Tweede kwartaal",
          "2018-Derde Kwartaal",
          "2018-Vierde kwartaal",
          "2019-Eerste kwartaal",
          "2019-Tweede kwartaal",
          "2019-Derde Kwartaal",
          "2019-Vierde kwartaal",
          "2020-Eerste kwartaal",
          "2020-Tweede kwartaal",
          "2020-Derde Kwartaal",
          "2020-Vierde kwartaal",
          "2021-Eerste kwartaal",
          "2021-Tweede kwartaal",
          "2021-Derde Kwartaal",
          "2021-Vierde kwartaal",
          "2022-Eerste kwartaal",
          "2022-Tweede kwartaal",
          "2022-Derde Kwartaal",
          "2022-Vierde kwartaal",
          "2023-Eerste kwartaal",
          "2023-Tweede kwartaal",
          "2023-Derde Kwartaal",
          "2023-Vierde kwartaal"
         ],
         "xaxis": "x",
         "y": [
          4.9,
          4.9,
          4.6,
          4.4,
          5.1,
          5.5,
          4.5,
          4.3,
          4.9,
          5.5,
          4.6,
          4.3,
          5,
          5.4,
          4.8,
          4.6,
          5.3,
          6.1,
          5.1,
          5,
          5.4,
          5.8,
          5.3,
          5,
          5.6,
          6.7,
          5.8,
          5.4,
          6.1,
          5.8,
          5.8,
          5.4,
          6.5,
          7.4,
          6.3,
          5.9,
          6.6,
          6.8,
          5.7,
          5.5,
          6.4
         ],
         "yaxis": "y"
        },
        {
         "hovertemplate": "Sector=Gezondheids- en welzijnszorg<br>Year_Quarter=%{x}<br>Percentage=%{y}<extra></extra>",
         "legendgroup": "Gezondheids- en welzijnszorg",
         "line": {
          "color": "#00cc96",
          "dash": "solid"
         },
         "marker": {
          "symbol": "circle"
         },
         "mode": "lines",
         "name": "Gezondheids- en welzijnszorg",
         "orientation": "v",
         "showlegend": true,
         "type": "scatter",
         "x": [
          "2013-Vierde kwartaal",
          "2014-Eerste kwartaal",
          "2014-Tweede kwartaal",
          "2014-Derde Kwartaal",
          "2014-Vierde kwartaal",
          "2015-Eerste kwartaal",
          "2015-Tweede kwartaal",
          "2015-Derde Kwartaal",
          "2015-Vierde kwartaal",
          "2016-Eerste kwartaal",
          "2016-Tweede kwartaal",
          "2016-Derde Kwartaal",
          "2016-Vierde kwartaal",
          "2017-Eerste kwartaal",
          "2017-Tweede kwartaal",
          "2017-Derde Kwartaal",
          "2017-Vierde kwartaal",
          "2018-Eerste kwartaal",
          "2018-Tweede kwartaal",
          "2018-Derde Kwartaal",
          "2018-Vierde kwartaal",
          "2019-Eerste kwartaal",
          "2019-Tweede kwartaal",
          "2019-Derde Kwartaal",
          "2019-Vierde kwartaal",
          "2020-Eerste kwartaal",
          "2020-Tweede kwartaal",
          "2020-Derde Kwartaal",
          "2020-Vierde kwartaal",
          "2021-Eerste kwartaal",
          "2021-Tweede kwartaal",
          "2021-Derde Kwartaal",
          "2021-Vierde kwartaal",
          "2022-Eerste kwartaal",
          "2022-Tweede kwartaal",
          "2022-Derde Kwartaal",
          "2022-Vierde kwartaal",
          "2023-Eerste kwartaal",
          "2023-Tweede kwartaal",
          "2023-Derde Kwartaal",
          "2023-Vierde kwartaal"
         ],
         "xaxis": "x",
         "y": [
          4.7,
          5.1,
          4.7,
          4.4,
          5.1,
          5.6,
          4.8,
          4.5,
          5,
          5.8,
          4.9,
          4.6,
          5.3,
          5.7,
          5.1,
          4.9,
          5.6,
          6.5,
          5.4,
          5.1,
          5.8,
          6.1,
          5.7,
          5.3,
          5.9,
          6.6,
          6.1,
          5.9,
          6.9,
          6.8,
          6.5,
          6.3,
          7.5,
          8.9,
          7.5,
          7.1,
          8,
          8.1,
          7,
          6.7,
          7.7
         ],
         "yaxis": "y"
        },
        {
         "hovertemplate": "Sector=Openbaar bestuur<br>Year_Quarter=%{x}<br>Percentage=%{y}<extra></extra>",
         "legendgroup": "Openbaar bestuur",
         "line": {
          "color": "#ab63fa",
          "dash": "solid"
         },
         "marker": {
          "symbol": "circle"
         },
         "mode": "lines",
         "name": "Openbaar bestuur",
         "orientation": "v",
         "showlegend": true,
         "type": "scatter",
         "x": [
          "2013-Vierde kwartaal",
          "2014-Eerste kwartaal",
          "2014-Tweede kwartaal",
          "2014-Derde Kwartaal",
          "2014-Vierde kwartaal",
          "2015-Eerste kwartaal",
          "2015-Tweede kwartaal",
          "2015-Derde Kwartaal",
          "2015-Vierde kwartaal",
          "2016-Eerste kwartaal",
          "2016-Tweede kwartaal",
          "2016-Derde Kwartaal",
          "2016-Vierde kwartaal",
          "2017-Eerste kwartaal",
          "2017-Tweede kwartaal",
          "2017-Derde Kwartaal",
          "2017-Vierde kwartaal",
          "2018-Eerste kwartaal",
          "2018-Tweede kwartaal",
          "2018-Derde Kwartaal",
          "2018-Vierde kwartaal",
          "2019-Eerste kwartaal",
          "2019-Tweede kwartaal",
          "2019-Derde Kwartaal",
          "2019-Vierde kwartaal",
          "2020-Eerste kwartaal",
          "2020-Tweede kwartaal",
          "2020-Derde Kwartaal",
          "2020-Vierde kwartaal",
          "2021-Eerste kwartaal",
          "2021-Tweede kwartaal",
          "2021-Derde Kwartaal",
          "2021-Vierde kwartaal",
          "2022-Eerste kwartaal",
          "2022-Tweede kwartaal",
          "2022-Derde Kwartaal",
          "2022-Vierde kwartaal",
          "2023-Eerste kwartaal",
          "2023-Tweede kwartaal",
          "2023-Derde Kwartaal",
          "2023-Vierde kwartaal"
         ],
         "xaxis": "x",
         "y": [
          4.9,
          5,
          4.6,
          4.5,
          5.3,
          5.8,
          4.8,
          4.8,
          5.3,
          5.6,
          4.9,
          4.9,
          5.8,
          5.8,
          5.1,
          5,
          5.6,
          6.4,
          5.3,
          5,
          5.5,
          6.1,
          5.2,
          5,
          5.6,
          6.3,
          4.7,
          4.5,
          5,
          5,
          5,
          4.9,
          5.7,
          6.7,
          5.7,
          5.5,
          6.4,
          6.6,
          5.6,
          5.5,
          6.5
         ],
         "yaxis": "y"
        },
        {
         "hovertemplate": "Sector=Onderwijs<br>Year_Quarter=%{x}<br>Percentage=%{y}<extra></extra>",
         "legendgroup": "Onderwijs",
         "line": {
          "color": "#FFA15A",
          "dash": "solid"
         },
         "marker": {
          "symbol": "circle"
         },
         "mode": "lines",
         "name": "Onderwijs",
         "orientation": "v",
         "showlegend": true,
         "type": "scatter",
         "x": [
          "2013-Vierde kwartaal",
          "2014-Eerste kwartaal",
          "2014-Tweede kwartaal",
          "2014-Derde Kwartaal",
          "2014-Vierde kwartaal",
          "2015-Eerste kwartaal",
          "2015-Tweede kwartaal",
          "2015-Derde Kwartaal",
          "2015-Vierde kwartaal",
          "2016-Eerste kwartaal",
          "2016-Tweede kwartaal",
          "2016-Derde Kwartaal",
          "2016-Vierde kwartaal",
          "2017-Eerste kwartaal",
          "2017-Tweede kwartaal",
          "2017-Derde Kwartaal",
          "2017-Vierde kwartaal",
          "2018-Eerste kwartaal",
          "2018-Tweede kwartaal",
          "2018-Derde Kwartaal",
          "2018-Vierde kwartaal",
          "2019-Eerste kwartaal",
          "2019-Tweede kwartaal",
          "2019-Derde Kwartaal",
          "2019-Vierde kwartaal",
          "2020-Eerste kwartaal",
          "2020-Tweede kwartaal",
          "2020-Derde Kwartaal",
          "2020-Vierde kwartaal",
          "2021-Eerste kwartaal",
          "2021-Tweede kwartaal",
          "2021-Derde Kwartaal",
          "2021-Vierde kwartaal",
          "2022-Eerste kwartaal",
          "2022-Tweede kwartaal",
          "2022-Derde Kwartaal",
          "2022-Vierde kwartaal",
          "2023-Eerste kwartaal",
          "2023-Tweede kwartaal",
          "2023-Derde Kwartaal",
          "2023-Vierde kwartaal"
         ],
         "xaxis": "x",
         "y": [
          4.9,
          5.3,
          4.9,
          4.2,
          5.1,
          5.6,
          4.9,
          4.2,
          5,
          5.5,
          4.9,
          4.1,
          5.1,
          5.4,
          4.9,
          4.2,
          5.1,
          5.9,
          5,
          4.4,
          5.1,
          5.5,
          5.1,
          4.3,
          5.1,
          5.7,
          4.5,
          4.2,
          5,
          4.6,
          4.8,
          4.1,
          5.4,
          6.5,
          5.6,
          4.8,
          5.8,
          6.2,
          5.4,
          4.8,
          5.9
         ],
         "yaxis": "y"
        },
        {
         "hovertemplate": "Sector=Financiële instellingen<br>Year_Quarter=%{x}<br>Percentage=%{y}<extra></extra>",
         "legendgroup": "Financiële instellingen",
         "line": {
          "color": "#19d3f3",
          "dash": "solid"
         },
         "marker": {
          "symbol": "circle"
         },
         "mode": "lines",
         "name": "Financiële instellingen",
         "orientation": "v",
         "showlegend": true,
         "type": "scatter",
         "x": [
          "2013-Vierde kwartaal",
          "2014-Eerste kwartaal",
          "2014-Tweede kwartaal",
          "2014-Derde Kwartaal",
          "2014-Vierde kwartaal",
          "2015-Eerste kwartaal",
          "2015-Tweede kwartaal",
          "2015-Derde Kwartaal",
          "2015-Vierde kwartaal",
          "2016-Eerste kwartaal",
          "2016-Tweede kwartaal",
          "2016-Derde Kwartaal",
          "2016-Vierde kwartaal",
          "2017-Eerste kwartaal",
          "2017-Tweede kwartaal",
          "2017-Derde Kwartaal",
          "2017-Vierde kwartaal",
          "2018-Eerste kwartaal",
          "2018-Tweede kwartaal",
          "2018-Derde Kwartaal",
          "2018-Vierde kwartaal",
          "2019-Eerste kwartaal",
          "2019-Tweede kwartaal",
          "2019-Derde Kwartaal",
          "2019-Vierde kwartaal",
          "2020-Eerste kwartaal",
          "2020-Tweede kwartaal",
          "2020-Derde Kwartaal",
          "2020-Vierde kwartaal",
          "2021-Eerste kwartaal",
          "2021-Tweede kwartaal",
          "2021-Derde Kwartaal",
          "2021-Vierde kwartaal",
          "2022-Eerste kwartaal",
          "2022-Tweede kwartaal",
          "2022-Derde Kwartaal",
          "2022-Vierde kwartaal",
          "2023-Eerste kwartaal",
          "2023-Tweede kwartaal",
          "2023-Derde Kwartaal",
          "2023-Vierde kwartaal"
         ],
         "xaxis": "x",
         "y": [
          2.9,
          3,
          2.9,
          2.7,
          3.2,
          3.4,
          2.6,
          2.5,
          2.9,
          3.4,
          2.7,
          2.8,
          3.1,
          3.4,
          2.7,
          2.5,
          3.3,
          3.3,
          2.6,
          2.5,
          2.9,
          2.8,
          2.7,
          2.5,
          2.8,
          2.9,
          2.5,
          2.6,
          2.8,
          2.8,
          2.7,
          2.8,
          3,
          3.4,
          3.1,
          3,
          3.4,
          3.4,
          3.1,
          3.1,
          3.3
         ],
         "yaxis": "y"
        },
        {
         "hovertemplate": "Sector=Horeca<br>Year_Quarter=%{x}<br>Percentage=%{y}<extra></extra>",
         "legendgroup": "Horeca",
         "line": {
          "color": "#FF6692",
          "dash": "solid"
         },
         "marker": {
          "symbol": "circle"
         },
         "mode": "lines",
         "name": "Horeca",
         "orientation": "v",
         "showlegend": true,
         "type": "scatter",
         "x": [
          "2013-Vierde kwartaal",
          "2014-Eerste kwartaal",
          "2014-Tweede kwartaal",
          "2014-Derde Kwartaal",
          "2014-Vierde kwartaal",
          "2015-Eerste kwartaal",
          "2015-Tweede kwartaal",
          "2015-Derde Kwartaal",
          "2015-Vierde kwartaal",
          "2016-Eerste kwartaal",
          "2016-Tweede kwartaal",
          "2016-Derde Kwartaal",
          "2016-Vierde kwartaal",
          "2017-Eerste kwartaal",
          "2017-Tweede kwartaal",
          "2017-Derde Kwartaal",
          "2017-Vierde kwartaal",
          "2018-Eerste kwartaal",
          "2018-Tweede kwartaal",
          "2018-Derde Kwartaal",
          "2018-Vierde kwartaal",
          "2019-Eerste kwartaal",
          "2019-Tweede kwartaal",
          "2019-Derde Kwartaal",
          "2019-Vierde kwartaal",
          "2020-Eerste kwartaal",
          "2020-Tweede kwartaal",
          "2020-Derde Kwartaal",
          "2020-Vierde kwartaal",
          "2021-Eerste kwartaal",
          "2021-Tweede kwartaal",
          "2021-Derde Kwartaal",
          "2021-Vierde kwartaal",
          "2022-Eerste kwartaal",
          "2022-Tweede kwartaal",
          "2022-Derde Kwartaal",
          "2022-Vierde kwartaal",
          "2023-Eerste kwartaal",
          "2023-Tweede kwartaal",
          "2023-Derde Kwartaal",
          "2023-Vierde kwartaal"
         ],
         "xaxis": "x",
         "y": [
          2.1,
          2.1,
          2,
          2,
          2.2,
          2.1,
          2.1,
          2,
          2,
          2.2,
          2.1,
          2,
          2.3,
          2.3,
          2.2,
          2.2,
          2.3,
          2.3,
          2.3,
          2.3,
          2.2,
          2.7,
          2.6,
          2.6,
          2.8,
          3,
          3,
          4.1,
          4.3,
          3.9,
          3.4,
          4.1,
          4.5,
          6,
          4.3,
          4.1,
          4.3,
          4.3,
          3.9,
          3.6,
          3.9
         ],
         "yaxis": "y"
        }
       ],
       "layout": {
        "autosize": false,
        "height": 600,
        "legend": {
         "title": {
          "text": "Sector"
         },
         "tracegroupgap": 0
        },
        "margin": {
         "b": 100,
         "l": 50,
         "pad": 4,
         "r": 50,
         "t": 100
        },
        "template": {
         "data": {
          "bar": [
           {
            "error_x": {
             "color": "#2a3f5f"
            },
            "error_y": {
             "color": "#2a3f5f"
            },
            "marker": {
             "line": {
              "color": "#E5ECF6",
              "width": 0.5
             },
             "pattern": {
              "fillmode": "overlay",
              "size": 10,
              "solidity": 0.2
             }
            },
            "type": "bar"
           }
          ],
          "barpolar": [
           {
            "marker": {
             "line": {
              "color": "#E5ECF6",
              "width": 0.5
             },
             "pattern": {
              "fillmode": "overlay",
              "size": 10,
              "solidity": 0.2
             }
            },
            "type": "barpolar"
           }
          ],
          "carpet": [
           {
            "aaxis": {
             "endlinecolor": "#2a3f5f",
             "gridcolor": "white",
             "linecolor": "white",
             "minorgridcolor": "white",
             "startlinecolor": "#2a3f5f"
            },
            "baxis": {
             "endlinecolor": "#2a3f5f",
             "gridcolor": "white",
             "linecolor": "white",
             "minorgridcolor": "white",
             "startlinecolor": "#2a3f5f"
            },
            "type": "carpet"
           }
          ],
          "choropleth": [
           {
            "colorbar": {
             "outlinewidth": 0,
             "ticks": ""
            },
            "type": "choropleth"
           }
          ],
          "contour": [
           {
            "colorbar": {
             "outlinewidth": 0,
             "ticks": ""
            },
            "colorscale": [
             [
              0,
              "#0d0887"
             ],
             [
              0.1111111111111111,
              "#46039f"
             ],
             [
              0.2222222222222222,
              "#7201a8"
             ],
             [
              0.3333333333333333,
              "#9c179e"
             ],
             [
              0.4444444444444444,
              "#bd3786"
             ],
             [
              0.5555555555555556,
              "#d8576b"
             ],
             [
              0.6666666666666666,
              "#ed7953"
             ],
             [
              0.7777777777777778,
              "#fb9f3a"
             ],
             [
              0.8888888888888888,
              "#fdca26"
             ],
             [
              1,
              "#f0f921"
             ]
            ],
            "type": "contour"
           }
          ],
          "contourcarpet": [
           {
            "colorbar": {
             "outlinewidth": 0,
             "ticks": ""
            },
            "type": "contourcarpet"
           }
          ],
          "heatmap": [
           {
            "colorbar": {
             "outlinewidth": 0,
             "ticks": ""
            },
            "colorscale": [
             [
              0,
              "#0d0887"
             ],
             [
              0.1111111111111111,
              "#46039f"
             ],
             [
              0.2222222222222222,
              "#7201a8"
             ],
             [
              0.3333333333333333,
              "#9c179e"
             ],
             [
              0.4444444444444444,
              "#bd3786"
             ],
             [
              0.5555555555555556,
              "#d8576b"
             ],
             [
              0.6666666666666666,
              "#ed7953"
             ],
             [
              0.7777777777777778,
              "#fb9f3a"
             ],
             [
              0.8888888888888888,
              "#fdca26"
             ],
             [
              1,
              "#f0f921"
             ]
            ],
            "type": "heatmap"
           }
          ],
          "heatmapgl": [
           {
            "colorbar": {
             "outlinewidth": 0,
             "ticks": ""
            },
            "colorscale": [
             [
              0,
              "#0d0887"
             ],
             [
              0.1111111111111111,
              "#46039f"
             ],
             [
              0.2222222222222222,
              "#7201a8"
             ],
             [
              0.3333333333333333,
              "#9c179e"
             ],
             [
              0.4444444444444444,
              "#bd3786"
             ],
             [
              0.5555555555555556,
              "#d8576b"
             ],
             [
              0.6666666666666666,
              "#ed7953"
             ],
             [
              0.7777777777777778,
              "#fb9f3a"
             ],
             [
              0.8888888888888888,
              "#fdca26"
             ],
             [
              1,
              "#f0f921"
             ]
            ],
            "type": "heatmapgl"
           }
          ],
          "histogram": [
           {
            "marker": {
             "pattern": {
              "fillmode": "overlay",
              "size": 10,
              "solidity": 0.2
             }
            },
            "type": "histogram"
           }
          ],
          "histogram2d": [
           {
            "colorbar": {
             "outlinewidth": 0,
             "ticks": ""
            },
            "colorscale": [
             [
              0,
              "#0d0887"
             ],
             [
              0.1111111111111111,
              "#46039f"
             ],
             [
              0.2222222222222222,
              "#7201a8"
             ],
             [
              0.3333333333333333,
              "#9c179e"
             ],
             [
              0.4444444444444444,
              "#bd3786"
             ],
             [
              0.5555555555555556,
              "#d8576b"
             ],
             [
              0.6666666666666666,
              "#ed7953"
             ],
             [
              0.7777777777777778,
              "#fb9f3a"
             ],
             [
              0.8888888888888888,
              "#fdca26"
             ],
             [
              1,
              "#f0f921"
             ]
            ],
            "type": "histogram2d"
           }
          ],
          "histogram2dcontour": [
           {
            "colorbar": {
             "outlinewidth": 0,
             "ticks": ""
            },
            "colorscale": [
             [
              0,
              "#0d0887"
             ],
             [
              0.1111111111111111,
              "#46039f"
             ],
             [
              0.2222222222222222,
              "#7201a8"
             ],
             [
              0.3333333333333333,
              "#9c179e"
             ],
             [
              0.4444444444444444,
              "#bd3786"
             ],
             [
              0.5555555555555556,
              "#d8576b"
             ],
             [
              0.6666666666666666,
              "#ed7953"
             ],
             [
              0.7777777777777778,
              "#fb9f3a"
             ],
             [
              0.8888888888888888,
              "#fdca26"
             ],
             [
              1,
              "#f0f921"
             ]
            ],
            "type": "histogram2dcontour"
           }
          ],
          "mesh3d": [
           {
            "colorbar": {
             "outlinewidth": 0,
             "ticks": ""
            },
            "type": "mesh3d"
           }
          ],
          "parcoords": [
           {
            "line": {
             "colorbar": {
              "outlinewidth": 0,
              "ticks": ""
             }
            },
            "type": "parcoords"
           }
          ],
          "pie": [
           {
            "automargin": true,
            "type": "pie"
           }
          ],
          "scatter": [
           {
            "fillpattern": {
             "fillmode": "overlay",
             "size": 10,
             "solidity": 0.2
            },
            "type": "scatter"
           }
          ],
          "scatter3d": [
           {
            "line": {
             "colorbar": {
              "outlinewidth": 0,
              "ticks": ""
             }
            },
            "marker": {
             "colorbar": {
              "outlinewidth": 0,
              "ticks": ""
             }
            },
            "type": "scatter3d"
           }
          ],
          "scattercarpet": [
           {
            "marker": {
             "colorbar": {
              "outlinewidth": 0,
              "ticks": ""
             }
            },
            "type": "scattercarpet"
           }
          ],
          "scattergeo": [
           {
            "marker": {
             "colorbar": {
              "outlinewidth": 0,
              "ticks": ""
             }
            },
            "type": "scattergeo"
           }
          ],
          "scattergl": [
           {
            "marker": {
             "colorbar": {
              "outlinewidth": 0,
              "ticks": ""
             }
            },
            "type": "scattergl"
           }
          ],
          "scattermapbox": [
           {
            "marker": {
             "colorbar": {
              "outlinewidth": 0,
              "ticks": ""
             }
            },
            "type": "scattermapbox"
           }
          ],
          "scatterpolar": [
           {
            "marker": {
             "colorbar": {
              "outlinewidth": 0,
              "ticks": ""
             }
            },
            "type": "scatterpolar"
           }
          ],
          "scatterpolargl": [
           {
            "marker": {
             "colorbar": {
              "outlinewidth": 0,
              "ticks": ""
             }
            },
            "type": "scatterpolargl"
           }
          ],
          "scatterternary": [
           {
            "marker": {
             "colorbar": {
              "outlinewidth": 0,
              "ticks": ""
             }
            },
            "type": "scatterternary"
           }
          ],
          "surface": [
           {
            "colorbar": {
             "outlinewidth": 0,
             "ticks": ""
            },
            "colorscale": [
             [
              0,
              "#0d0887"
             ],
             [
              0.1111111111111111,
              "#46039f"
             ],
             [
              0.2222222222222222,
              "#7201a8"
             ],
             [
              0.3333333333333333,
              "#9c179e"
             ],
             [
              0.4444444444444444,
              "#bd3786"
             ],
             [
              0.5555555555555556,
              "#d8576b"
             ],
             [
              0.6666666666666666,
              "#ed7953"
             ],
             [
              0.7777777777777778,
              "#fb9f3a"
             ],
             [
              0.8888888888888888,
              "#fdca26"
             ],
             [
              1,
              "#f0f921"
             ]
            ],
            "type": "surface"
           }
          ],
          "table": [
           {
            "cells": {
             "fill": {
              "color": "#EBF0F8"
             },
             "line": {
              "color": "white"
             }
            },
            "header": {
             "fill": {
              "color": "#C8D4E3"
             },
             "line": {
              "color": "white"
             }
            },
            "type": "table"
           }
          ]
         },
         "layout": {
          "annotationdefaults": {
           "arrowcolor": "#2a3f5f",
           "arrowhead": 0,
           "arrowwidth": 1
          },
          "autotypenumbers": "strict",
          "coloraxis": {
           "colorbar": {
            "outlinewidth": 0,
            "ticks": ""
           }
          },
          "colorscale": {
           "diverging": [
            [
             0,
             "#8e0152"
            ],
            [
             0.1,
             "#c51b7d"
            ],
            [
             0.2,
             "#de77ae"
            ],
            [
             0.3,
             "#f1b6da"
            ],
            [
             0.4,
             "#fde0ef"
            ],
            [
             0.5,
             "#f7f7f7"
            ],
            [
             0.6,
             "#e6f5d0"
            ],
            [
             0.7,
             "#b8e186"
            ],
            [
             0.8,
             "#7fbc41"
            ],
            [
             0.9,
             "#4d9221"
            ],
            [
             1,
             "#276419"
            ]
           ],
           "sequential": [
            [
             0,
             "#0d0887"
            ],
            [
             0.1111111111111111,
             "#46039f"
            ],
            [
             0.2222222222222222,
             "#7201a8"
            ],
            [
             0.3333333333333333,
             "#9c179e"
            ],
            [
             0.4444444444444444,
             "#bd3786"
            ],
            [
             0.5555555555555556,
             "#d8576b"
            ],
            [
             0.6666666666666666,
             "#ed7953"
            ],
            [
             0.7777777777777778,
             "#fb9f3a"
            ],
            [
             0.8888888888888888,
             "#fdca26"
            ],
            [
             1,
             "#f0f921"
            ]
           ],
           "sequentialminus": [
            [
             0,
             "#0d0887"
            ],
            [
             0.1111111111111111,
             "#46039f"
            ],
            [
             0.2222222222222222,
             "#7201a8"
            ],
            [
             0.3333333333333333,
             "#9c179e"
            ],
            [
             0.4444444444444444,
             "#bd3786"
            ],
            [
             0.5555555555555556,
             "#d8576b"
            ],
            [
             0.6666666666666666,
             "#ed7953"
            ],
            [
             0.7777777777777778,
             "#fb9f3a"
            ],
            [
             0.8888888888888888,
             "#fdca26"
            ],
            [
             1,
             "#f0f921"
            ]
           ]
          },
          "colorway": [
           "#636efa",
           "#EF553B",
           "#00cc96",
           "#ab63fa",
           "#FFA15A",
           "#19d3f3",
           "#FF6692",
           "#B6E880",
           "#FF97FF",
           "#FECB52"
          ],
          "font": {
           "color": "#2a3f5f"
          },
          "geo": {
           "bgcolor": "white",
           "lakecolor": "white",
           "landcolor": "#E5ECF6",
           "showlakes": true,
           "showland": true,
           "subunitcolor": "white"
          },
          "hoverlabel": {
           "align": "left"
          },
          "hovermode": "closest",
          "mapbox": {
           "style": "light"
          },
          "paper_bgcolor": "white",
          "plot_bgcolor": "#E5ECF6",
          "polar": {
           "angularaxis": {
            "gridcolor": "white",
            "linecolor": "white",
            "ticks": ""
           },
           "bgcolor": "#E5ECF6",
           "radialaxis": {
            "gridcolor": "white",
            "linecolor": "white",
            "ticks": ""
           }
          },
          "scene": {
           "xaxis": {
            "backgroundcolor": "#E5ECF6",
            "gridcolor": "white",
            "gridwidth": 2,
            "linecolor": "white",
            "showbackground": true,
            "ticks": "",
            "zerolinecolor": "white"
           },
           "yaxis": {
            "backgroundcolor": "#E5ECF6",
            "gridcolor": "white",
            "gridwidth": 2,
            "linecolor": "white",
            "showbackground": true,
            "ticks": "",
            "zerolinecolor": "white"
           },
           "zaxis": {
            "backgroundcolor": "#E5ECF6",
            "gridcolor": "white",
            "gridwidth": 2,
            "linecolor": "white",
            "showbackground": true,
            "ticks": "",
            "zerolinecolor": "white"
           }
          },
          "shapedefaults": {
           "line": {
            "color": "#2a3f5f"
           }
          },
          "ternary": {
           "aaxis": {
            "gridcolor": "white",
            "linecolor": "white",
            "ticks": ""
           },
           "baxis": {
            "gridcolor": "white",
            "linecolor": "white",
            "ticks": ""
           },
           "bgcolor": "#E5ECF6",
           "caxis": {
            "gridcolor": "white",
            "linecolor": "white",
            "ticks": ""
           }
          },
          "title": {
           "x": 0.05
          },
          "xaxis": {
           "automargin": true,
           "gridcolor": "white",
           "linecolor": "white",
           "ticks": "",
           "title": {
            "standoff": 15
           },
           "zerolinecolor": "white",
           "zerolinewidth": 2
          },
          "yaxis": {
           "automargin": true,
           "gridcolor": "white",
           "linecolor": "white",
           "ticks": "",
           "title": {
            "standoff": 15
           },
           "zerolinecolor": "white",
           "zerolinewidth": 2
          }
         }
        },
        "title": {
         "text": "Sectoral Data Over Time (Line Plot)",
         "x": 0.5
        },
        "width": 1100,
        "xaxis": {
         "anchor": "y",
         "domain": [
          0,
          1
         ],
         "title": {
          "text": "Year_Quarter"
         }
        },
        "yaxis": {
         "anchor": "x",
         "domain": [
          0,
          1
         ],
         "title": {
          "text": "Percentage"
         }
        }
       }
      }
     },
     "metadata": {},
     "output_type": "display_data"
    }
   ],
   "source": [
    "fig_line = px.line(df_cbs, x='Year_Quarter', y=df_cbs.columns[2:9], \n",
    "              labels={'value': 'Percentage', 'variable': 'Sector'},\n",
    "              title='Sectoral Data Over Time (Line Plot)')\n",
    "# Adjust layout and margins\n",
    "fig_line.update_layout(\n",
    "    autosize=False,\n",
    "    width=1100,\n",
    "    height=600,\n",
    "    margin=dict(l=50, r=50, b=100, t=100, pad=4),\n",
    "    title={'x': 0.5}\n",
    ")\n",
    "\n",
    "fig_line.show()\n",
    "\n",
    "# Save the figure as an image with increased resolution\n",
    "fig_line.write_image(\"fig_line_plot.png\", scale=2)  # scale=2 increases the resolution\n",
    "\n",
    "# To ensure the code works properly, you may need the \"kaleido\" package for saving images\n",
    "# Install it using: pip install -U kaleido\n"
   ]
  },
  {
   "cell_type": "code",
   "execution_count": 97,
   "metadata": {},
   "outputs": [],
   "source": [
    "# Convert Year_Quarter to string to prevent automatic date parsing\n",
    "df_cbs['Year_Quarter'] = df_cbs['Year_Quarter'].astype(str)\n",
    "\n",
    "# Ensure Year_Quarter is treated as categorical if necessary\n",
    "df_cbs['Year_Quarter'] = pd.Categorical(df_cbs['Year_Quarter'], ordered=True)\n",
    "\n",
    "# Extract years and quarters for custom tick labels\n",
    "years = df_cbs['Year_Quarter'].str[:4].unique()\n",
    "\n",
    "# Create custom tick labels\n",
    "custom_ticks = []\n",
    "for year in years:\n",
    "    custom_ticks.extend([f\"{year} |\", \"|\", \"|\", \"|\"])\n",
    "\n",
    "# Make sure custom_ticks length matches the number of quarters\n",
    "if len(custom_ticks) > len(df_cbs['Year_Quarter']):\n",
    "    custom_ticks = custom_ticks[:len(df_cbs['Year_Quarter'])]\n",
    "elif len(custom_ticks) < len(df_cbs['Year_Quarter']):\n",
    "    custom_ticks.extend(['|'] * (len(df_cbs['Year_Quarter']) - len(custom_ticks)))\n",
    "\n",
    "# Specify the columns to show on the y-axis\n",
    "columns_to_show = [\n",
    "    'Landbouw, bosbouw en visserij', 'Industrie', 'Gezondheids- en welzijnszorg',\n",
    "    'Openbaar bestuur', 'Onderwijs', 'Financiële instellingen', 'Horeca', 'Nederland (totaal)'\n",
    "]\n"
   ]
  },
  {
   "cell_type": "code",
   "execution_count": 98,
   "metadata": {},
   "outputs": [
    {
     "data": {
      "application/vnd.plotly.v1+json": {
       "config": {
        "plotlyServerURL": "https://plot.ly"
       },
       "data": [
        {
         "colorscale": [
          [
           0,
           "#440154"
          ],
          [
           0.1111111111111111,
           "#482878"
          ],
          [
           0.2222222222222222,
           "#3e4989"
          ],
          [
           0.3333333333333333,
           "#31688e"
          ],
          [
           0.4444444444444444,
           "#26828e"
          ],
          [
           0.5555555555555556,
           "#1f9e89"
          ],
          [
           0.6666666666666666,
           "#35b779"
          ],
          [
           0.7777777777777778,
           "#6ece58"
          ],
          [
           0.8888888888888888,
           "#b5de2b"
          ],
          [
           1,
           "#fde725"
          ]
         ],
         "type": "heatmap",
         "x": [
          "2013-Vierde kwartaal",
          "2014-Eerste kwartaal",
          "2014-Tweede kwartaal",
          "2014-Derde Kwartaal",
          "2014-Vierde kwartaal",
          "2015-Eerste kwartaal",
          "2015-Tweede kwartaal",
          "2015-Derde Kwartaal",
          "2015-Vierde kwartaal",
          "2016-Eerste kwartaal",
          "2016-Tweede kwartaal",
          "2016-Derde Kwartaal",
          "2016-Vierde kwartaal",
          "2017-Eerste kwartaal",
          "2017-Tweede kwartaal",
          "2017-Derde Kwartaal",
          "2017-Vierde kwartaal",
          "2018-Eerste kwartaal",
          "2018-Tweede kwartaal",
          "2018-Derde Kwartaal",
          "2018-Vierde kwartaal",
          "2019-Eerste kwartaal",
          "2019-Tweede kwartaal",
          "2019-Derde Kwartaal",
          "2019-Vierde kwartaal",
          "2020-Eerste kwartaal",
          "2020-Tweede kwartaal",
          "2020-Derde Kwartaal",
          "2020-Vierde kwartaal",
          "2021-Eerste kwartaal",
          "2021-Tweede kwartaal",
          "2021-Derde Kwartaal",
          "2021-Vierde kwartaal",
          "2022-Eerste kwartaal",
          "2022-Tweede kwartaal",
          "2022-Derde Kwartaal",
          "2022-Vierde kwartaal",
          "2023-Eerste kwartaal",
          "2023-Tweede kwartaal",
          "2023-Derde Kwartaal",
          "2023-Vierde kwartaal"
         ],
         "y": [
          "Landbouw, bosbouw en visserij",
          "Industrie",
          "Gezondheids- en welzijnszorg",
          "Openbaar bestuur",
          "Onderwijs",
          "Financiële instellingen",
          "Horeca",
          "Nederland (totaal)"
         ],
         "z": [
          [
           2.8,
           2.4,
           2.3,
           2.5,
           2.9,
           2.9,
           2.5,
           2.7,
           3,
           2.7,
           2.5,
           2.4,
           2.5,
           2.6,
           2.5,
           2.4,
           2.4,
           2.5,
           2.5,
           2.8,
           2.4,
           2.7,
           2.7,
           2.6,
           2.5,
           3,
           3.2,
           3.7,
           3.6,
           3.6,
           3.3,
           3.5,
           3.8,
           4.2,
           4.1,
           3.1,
           3.3,
           3.8,
           3.4,
           3.7,
           3.7
          ],
          [
           4.9,
           4.9,
           4.6,
           4.4,
           5.1,
           5.5,
           4.5,
           4.3,
           4.9,
           5.5,
           4.6,
           4.3,
           5,
           5.4,
           4.8,
           4.6,
           5.3,
           6.1,
           5.1,
           5,
           5.4,
           5.8,
           5.3,
           5,
           5.6,
           6.7,
           5.8,
           5.4,
           6.1,
           5.8,
           5.8,
           5.4,
           6.5,
           7.4,
           6.3,
           5.9,
           6.6,
           6.8,
           5.7,
           5.5,
           6.4
          ],
          [
           4.7,
           5.1,
           4.7,
           4.4,
           5.1,
           5.6,
           4.8,
           4.5,
           5,
           5.8,
           4.9,
           4.6,
           5.3,
           5.7,
           5.1,
           4.9,
           5.6,
           6.5,
           5.4,
           5.1,
           5.8,
           6.1,
           5.7,
           5.3,
           5.9,
           6.6,
           6.1,
           5.9,
           6.9,
           6.8,
           6.5,
           6.3,
           7.5,
           8.9,
           7.5,
           7.1,
           8,
           8.1,
           7,
           6.7,
           7.7
          ],
          [
           4.9,
           5,
           4.6,
           4.5,
           5.3,
           5.8,
           4.8,
           4.8,
           5.3,
           5.6,
           4.9,
           4.9,
           5.8,
           5.8,
           5.1,
           5,
           5.6,
           6.4,
           5.3,
           5,
           5.5,
           6.1,
           5.2,
           5,
           5.6,
           6.3,
           4.7,
           4.5,
           5,
           5,
           5,
           4.9,
           5.7,
           6.7,
           5.7,
           5.5,
           6.4,
           6.6,
           5.6,
           5.5,
           6.5
          ],
          [
           4.9,
           5.3,
           4.9,
           4.2,
           5.1,
           5.6,
           4.9,
           4.2,
           5,
           5.5,
           4.9,
           4.1,
           5.1,
           5.4,
           4.9,
           4.2,
           5.1,
           5.9,
           5,
           4.4,
           5.1,
           5.5,
           5.1,
           4.3,
           5.1,
           5.7,
           4.5,
           4.2,
           5,
           4.6,
           4.8,
           4.1,
           5.4,
           6.5,
           5.6,
           4.8,
           5.8,
           6.2,
           5.4,
           4.8,
           5.9
          ],
          [
           2.9,
           3,
           2.9,
           2.7,
           3.2,
           3.4,
           2.6,
           2.5,
           2.9,
           3.4,
           2.7,
           2.8,
           3.1,
           3.4,
           2.7,
           2.5,
           3.3,
           3.3,
           2.6,
           2.5,
           2.9,
           2.8,
           2.7,
           2.5,
           2.8,
           2.9,
           2.5,
           2.6,
           2.8,
           2.8,
           2.7,
           2.8,
           3,
           3.4,
           3.1,
           3,
           3.4,
           3.4,
           3.1,
           3.1,
           3.3
          ],
          [
           2.1,
           2.1,
           2,
           2,
           2.2,
           2.1,
           2.1,
           2,
           2,
           2.2,
           2.1,
           2,
           2.3,
           2.3,
           2.2,
           2.2,
           2.3,
           2.3,
           2.3,
           2.3,
           2.2,
           2.7,
           2.6,
           2.6,
           2.8,
           3,
           3,
           4.1,
           4.3,
           3.9,
           3.4,
           4.1,
           4.5,
           6,
           4.3,
           4.1,
           4.3,
           4.3,
           3.9,
           3.6,
           3.9
          ],
          [
           3.9,
           4,
           3.7,
           3.5,
           4,
           4.4,
           3.7,
           3.5,
           3.9,
           4.3,
           3.8,
           3.5,
           4.1,
           4.3,
           3.9,
           3.7,
           4.2,
           4.9,
           4.1,
           3.9,
           4.3,
           4.7,
           4.3,
           4,
           4.5,
           5.2,
           4.5,
           4.4,
           4.9,
           4.8,
           4.7,
           4.6,
           5.4,
           6.3,
           5.4,
           5,
           5.6,
           5.7,
           5,
           4.8,
           5.5
          ]
         ]
        }
       ],
       "layout": {
        "autosize": false,
        "height": 600,
        "margin": {
         "b": 100,
         "l": 50,
         "pad": 4,
         "r": 50,
         "t": 100
        },
        "template": {
         "data": {
          "bar": [
           {
            "error_x": {
             "color": "#2a3f5f"
            },
            "error_y": {
             "color": "#2a3f5f"
            },
            "marker": {
             "line": {
              "color": "#E5ECF6",
              "width": 0.5
             },
             "pattern": {
              "fillmode": "overlay",
              "size": 10,
              "solidity": 0.2
             }
            },
            "type": "bar"
           }
          ],
          "barpolar": [
           {
            "marker": {
             "line": {
              "color": "#E5ECF6",
              "width": 0.5
             },
             "pattern": {
              "fillmode": "overlay",
              "size": 10,
              "solidity": 0.2
             }
            },
            "type": "barpolar"
           }
          ],
          "carpet": [
           {
            "aaxis": {
             "endlinecolor": "#2a3f5f",
             "gridcolor": "white",
             "linecolor": "white",
             "minorgridcolor": "white",
             "startlinecolor": "#2a3f5f"
            },
            "baxis": {
             "endlinecolor": "#2a3f5f",
             "gridcolor": "white",
             "linecolor": "white",
             "minorgridcolor": "white",
             "startlinecolor": "#2a3f5f"
            },
            "type": "carpet"
           }
          ],
          "choropleth": [
           {
            "colorbar": {
             "outlinewidth": 0,
             "ticks": ""
            },
            "type": "choropleth"
           }
          ],
          "contour": [
           {
            "colorbar": {
             "outlinewidth": 0,
             "ticks": ""
            },
            "colorscale": [
             [
              0,
              "#0d0887"
             ],
             [
              0.1111111111111111,
              "#46039f"
             ],
             [
              0.2222222222222222,
              "#7201a8"
             ],
             [
              0.3333333333333333,
              "#9c179e"
             ],
             [
              0.4444444444444444,
              "#bd3786"
             ],
             [
              0.5555555555555556,
              "#d8576b"
             ],
             [
              0.6666666666666666,
              "#ed7953"
             ],
             [
              0.7777777777777778,
              "#fb9f3a"
             ],
             [
              0.8888888888888888,
              "#fdca26"
             ],
             [
              1,
              "#f0f921"
             ]
            ],
            "type": "contour"
           }
          ],
          "contourcarpet": [
           {
            "colorbar": {
             "outlinewidth": 0,
             "ticks": ""
            },
            "type": "contourcarpet"
           }
          ],
          "heatmap": [
           {
            "colorbar": {
             "outlinewidth": 0,
             "ticks": ""
            },
            "colorscale": [
             [
              0,
              "#0d0887"
             ],
             [
              0.1111111111111111,
              "#46039f"
             ],
             [
              0.2222222222222222,
              "#7201a8"
             ],
             [
              0.3333333333333333,
              "#9c179e"
             ],
             [
              0.4444444444444444,
              "#bd3786"
             ],
             [
              0.5555555555555556,
              "#d8576b"
             ],
             [
              0.6666666666666666,
              "#ed7953"
             ],
             [
              0.7777777777777778,
              "#fb9f3a"
             ],
             [
              0.8888888888888888,
              "#fdca26"
             ],
             [
              1,
              "#f0f921"
             ]
            ],
            "type": "heatmap"
           }
          ],
          "heatmapgl": [
           {
            "colorbar": {
             "outlinewidth": 0,
             "ticks": ""
            },
            "colorscale": [
             [
              0,
              "#0d0887"
             ],
             [
              0.1111111111111111,
              "#46039f"
             ],
             [
              0.2222222222222222,
              "#7201a8"
             ],
             [
              0.3333333333333333,
              "#9c179e"
             ],
             [
              0.4444444444444444,
              "#bd3786"
             ],
             [
              0.5555555555555556,
              "#d8576b"
             ],
             [
              0.6666666666666666,
              "#ed7953"
             ],
             [
              0.7777777777777778,
              "#fb9f3a"
             ],
             [
              0.8888888888888888,
              "#fdca26"
             ],
             [
              1,
              "#f0f921"
             ]
            ],
            "type": "heatmapgl"
           }
          ],
          "histogram": [
           {
            "marker": {
             "pattern": {
              "fillmode": "overlay",
              "size": 10,
              "solidity": 0.2
             }
            },
            "type": "histogram"
           }
          ],
          "histogram2d": [
           {
            "colorbar": {
             "outlinewidth": 0,
             "ticks": ""
            },
            "colorscale": [
             [
              0,
              "#0d0887"
             ],
             [
              0.1111111111111111,
              "#46039f"
             ],
             [
              0.2222222222222222,
              "#7201a8"
             ],
             [
              0.3333333333333333,
              "#9c179e"
             ],
             [
              0.4444444444444444,
              "#bd3786"
             ],
             [
              0.5555555555555556,
              "#d8576b"
             ],
             [
              0.6666666666666666,
              "#ed7953"
             ],
             [
              0.7777777777777778,
              "#fb9f3a"
             ],
             [
              0.8888888888888888,
              "#fdca26"
             ],
             [
              1,
              "#f0f921"
             ]
            ],
            "type": "histogram2d"
           }
          ],
          "histogram2dcontour": [
           {
            "colorbar": {
             "outlinewidth": 0,
             "ticks": ""
            },
            "colorscale": [
             [
              0,
              "#0d0887"
             ],
             [
              0.1111111111111111,
              "#46039f"
             ],
             [
              0.2222222222222222,
              "#7201a8"
             ],
             [
              0.3333333333333333,
              "#9c179e"
             ],
             [
              0.4444444444444444,
              "#bd3786"
             ],
             [
              0.5555555555555556,
              "#d8576b"
             ],
             [
              0.6666666666666666,
              "#ed7953"
             ],
             [
              0.7777777777777778,
              "#fb9f3a"
             ],
             [
              0.8888888888888888,
              "#fdca26"
             ],
             [
              1,
              "#f0f921"
             ]
            ],
            "type": "histogram2dcontour"
           }
          ],
          "mesh3d": [
           {
            "colorbar": {
             "outlinewidth": 0,
             "ticks": ""
            },
            "type": "mesh3d"
           }
          ],
          "parcoords": [
           {
            "line": {
             "colorbar": {
              "outlinewidth": 0,
              "ticks": ""
             }
            },
            "type": "parcoords"
           }
          ],
          "pie": [
           {
            "automargin": true,
            "type": "pie"
           }
          ],
          "scatter": [
           {
            "fillpattern": {
             "fillmode": "overlay",
             "size": 10,
             "solidity": 0.2
            },
            "type": "scatter"
           }
          ],
          "scatter3d": [
           {
            "line": {
             "colorbar": {
              "outlinewidth": 0,
              "ticks": ""
             }
            },
            "marker": {
             "colorbar": {
              "outlinewidth": 0,
              "ticks": ""
             }
            },
            "type": "scatter3d"
           }
          ],
          "scattercarpet": [
           {
            "marker": {
             "colorbar": {
              "outlinewidth": 0,
              "ticks": ""
             }
            },
            "type": "scattercarpet"
           }
          ],
          "scattergeo": [
           {
            "marker": {
             "colorbar": {
              "outlinewidth": 0,
              "ticks": ""
             }
            },
            "type": "scattergeo"
           }
          ],
          "scattergl": [
           {
            "marker": {
             "colorbar": {
              "outlinewidth": 0,
              "ticks": ""
             }
            },
            "type": "scattergl"
           }
          ],
          "scattermapbox": [
           {
            "marker": {
             "colorbar": {
              "outlinewidth": 0,
              "ticks": ""
             }
            },
            "type": "scattermapbox"
           }
          ],
          "scatterpolar": [
           {
            "marker": {
             "colorbar": {
              "outlinewidth": 0,
              "ticks": ""
             }
            },
            "type": "scatterpolar"
           }
          ],
          "scatterpolargl": [
           {
            "marker": {
             "colorbar": {
              "outlinewidth": 0,
              "ticks": ""
             }
            },
            "type": "scatterpolargl"
           }
          ],
          "scatterternary": [
           {
            "marker": {
             "colorbar": {
              "outlinewidth": 0,
              "ticks": ""
             }
            },
            "type": "scatterternary"
           }
          ],
          "surface": [
           {
            "colorbar": {
             "outlinewidth": 0,
             "ticks": ""
            },
            "colorscale": [
             [
              0,
              "#0d0887"
             ],
             [
              0.1111111111111111,
              "#46039f"
             ],
             [
              0.2222222222222222,
              "#7201a8"
             ],
             [
              0.3333333333333333,
              "#9c179e"
             ],
             [
              0.4444444444444444,
              "#bd3786"
             ],
             [
              0.5555555555555556,
              "#d8576b"
             ],
             [
              0.6666666666666666,
              "#ed7953"
             ],
             [
              0.7777777777777778,
              "#fb9f3a"
             ],
             [
              0.8888888888888888,
              "#fdca26"
             ],
             [
              1,
              "#f0f921"
             ]
            ],
            "type": "surface"
           }
          ],
          "table": [
           {
            "cells": {
             "fill": {
              "color": "#EBF0F8"
             },
             "line": {
              "color": "white"
             }
            },
            "header": {
             "fill": {
              "color": "#C8D4E3"
             },
             "line": {
              "color": "white"
             }
            },
            "type": "table"
           }
          ]
         },
         "layout": {
          "annotationdefaults": {
           "arrowcolor": "#2a3f5f",
           "arrowhead": 0,
           "arrowwidth": 1
          },
          "autotypenumbers": "strict",
          "coloraxis": {
           "colorbar": {
            "outlinewidth": 0,
            "ticks": ""
           }
          },
          "colorscale": {
           "diverging": [
            [
             0,
             "#8e0152"
            ],
            [
             0.1,
             "#c51b7d"
            ],
            [
             0.2,
             "#de77ae"
            ],
            [
             0.3,
             "#f1b6da"
            ],
            [
             0.4,
             "#fde0ef"
            ],
            [
             0.5,
             "#f7f7f7"
            ],
            [
             0.6,
             "#e6f5d0"
            ],
            [
             0.7,
             "#b8e186"
            ],
            [
             0.8,
             "#7fbc41"
            ],
            [
             0.9,
             "#4d9221"
            ],
            [
             1,
             "#276419"
            ]
           ],
           "sequential": [
            [
             0,
             "#0d0887"
            ],
            [
             0.1111111111111111,
             "#46039f"
            ],
            [
             0.2222222222222222,
             "#7201a8"
            ],
            [
             0.3333333333333333,
             "#9c179e"
            ],
            [
             0.4444444444444444,
             "#bd3786"
            ],
            [
             0.5555555555555556,
             "#d8576b"
            ],
            [
             0.6666666666666666,
             "#ed7953"
            ],
            [
             0.7777777777777778,
             "#fb9f3a"
            ],
            [
             0.8888888888888888,
             "#fdca26"
            ],
            [
             1,
             "#f0f921"
            ]
           ],
           "sequentialminus": [
            [
             0,
             "#0d0887"
            ],
            [
             0.1111111111111111,
             "#46039f"
            ],
            [
             0.2222222222222222,
             "#7201a8"
            ],
            [
             0.3333333333333333,
             "#9c179e"
            ],
            [
             0.4444444444444444,
             "#bd3786"
            ],
            [
             0.5555555555555556,
             "#d8576b"
            ],
            [
             0.6666666666666666,
             "#ed7953"
            ],
            [
             0.7777777777777778,
             "#fb9f3a"
            ],
            [
             0.8888888888888888,
             "#fdca26"
            ],
            [
             1,
             "#f0f921"
            ]
           ]
          },
          "colorway": [
           "#636efa",
           "#EF553B",
           "#00cc96",
           "#ab63fa",
           "#FFA15A",
           "#19d3f3",
           "#FF6692",
           "#B6E880",
           "#FF97FF",
           "#FECB52"
          ],
          "font": {
           "color": "#2a3f5f"
          },
          "geo": {
           "bgcolor": "white",
           "lakecolor": "white",
           "landcolor": "#E5ECF6",
           "showlakes": true,
           "showland": true,
           "subunitcolor": "white"
          },
          "hoverlabel": {
           "align": "left"
          },
          "hovermode": "closest",
          "mapbox": {
           "style": "light"
          },
          "paper_bgcolor": "white",
          "plot_bgcolor": "#E5ECF6",
          "polar": {
           "angularaxis": {
            "gridcolor": "white",
            "linecolor": "white",
            "ticks": ""
           },
           "bgcolor": "#E5ECF6",
           "radialaxis": {
            "gridcolor": "white",
            "linecolor": "white",
            "ticks": ""
           }
          },
          "scene": {
           "xaxis": {
            "backgroundcolor": "#E5ECF6",
            "gridcolor": "white",
            "gridwidth": 2,
            "linecolor": "white",
            "showbackground": true,
            "ticks": "",
            "zerolinecolor": "white"
           },
           "yaxis": {
            "backgroundcolor": "#E5ECF6",
            "gridcolor": "white",
            "gridwidth": 2,
            "linecolor": "white",
            "showbackground": true,
            "ticks": "",
            "zerolinecolor": "white"
           },
           "zaxis": {
            "backgroundcolor": "#E5ECF6",
            "gridcolor": "white",
            "gridwidth": 2,
            "linecolor": "white",
            "showbackground": true,
            "ticks": "",
            "zerolinecolor": "white"
           }
          },
          "shapedefaults": {
           "line": {
            "color": "#2a3f5f"
           }
          },
          "ternary": {
           "aaxis": {
            "gridcolor": "white",
            "linecolor": "white",
            "ticks": ""
           },
           "baxis": {
            "gridcolor": "white",
            "linecolor": "white",
            "ticks": ""
           },
           "bgcolor": "#E5ECF6",
           "caxis": {
            "gridcolor": "white",
            "linecolor": "white",
            "ticks": ""
           }
          },
          "title": {
           "x": 0.05
          },
          "xaxis": {
           "automargin": true,
           "gridcolor": "white",
           "linecolor": "white",
           "ticks": "",
           "title": {
            "standoff": 15
           },
           "zerolinecolor": "white",
           "zerolinewidth": 2
          },
          "yaxis": {
           "automargin": true,
           "gridcolor": "white",
           "linecolor": "white",
           "ticks": "",
           "title": {
            "standoff": 15
           },
           "zerolinecolor": "white",
           "zerolinewidth": 2
          }
         }
        },
        "title": {
         "text": "Sectoral Data Over Time (Heatmap)",
         "x": 0.5
        },
        "width": 1100,
        "xaxis": {
         "tickangle": -45,
         "tickmode": "array",
         "ticktext": [
          "2013 |",
          "|",
          "|",
          "|",
          "2014 |",
          "|",
          "|",
          "|",
          "2015 |",
          "|",
          "|",
          "|",
          "2016 |",
          "|",
          "|",
          "|",
          "2017 |",
          "|",
          "|",
          "|",
          "2018 |",
          "|",
          "|",
          "|",
          "2019 |",
          "|",
          "|",
          "|",
          "2020 |",
          "|",
          "|",
          "|",
          "2021 |",
          "|",
          "|",
          "|",
          "2022 |",
          "|",
          "|",
          "|",
          "2023 |"
         ],
         "tickvals": [
          "2013-Vierde kwartaal",
          "2014-Eerste kwartaal",
          "2014-Tweede kwartaal",
          "2014-Derde Kwartaal",
          "2014-Vierde kwartaal",
          "2015-Eerste kwartaal",
          "2015-Tweede kwartaal",
          "2015-Derde Kwartaal",
          "2015-Vierde kwartaal",
          "2016-Eerste kwartaal",
          "2016-Tweede kwartaal",
          "2016-Derde Kwartaal",
          "2016-Vierde kwartaal",
          "2017-Eerste kwartaal",
          "2017-Tweede kwartaal",
          "2017-Derde Kwartaal",
          "2017-Vierde kwartaal",
          "2018-Eerste kwartaal",
          "2018-Tweede kwartaal",
          "2018-Derde Kwartaal",
          "2018-Vierde kwartaal",
          "2019-Eerste kwartaal",
          "2019-Tweede kwartaal",
          "2019-Derde Kwartaal",
          "2019-Vierde kwartaal",
          "2020-Eerste kwartaal",
          "2020-Tweede kwartaal",
          "2020-Derde Kwartaal",
          "2020-Vierde kwartaal",
          "2021-Eerste kwartaal",
          "2021-Tweede kwartaal",
          "2021-Derde Kwartaal",
          "2021-Vierde kwartaal",
          "2022-Eerste kwartaal",
          "2022-Tweede kwartaal",
          "2022-Derde Kwartaal",
          "2022-Vierde kwartaal",
          "2023-Eerste kwartaal",
          "2023-Tweede kwartaal",
          "2023-Derde Kwartaal",
          "2023-Vierde kwartaal"
         ],
         "title": {
          "text": "Year_Quarter"
         }
        },
        "yaxis": {
         "title": {
          "text": "Sector"
         }
        }
       }
      }
     },
     "metadata": {},
     "output_type": "display_data"
    }
   ],
   "source": [
    "# Create heatmap\n",
    "fig_heat = go.Figure(data=go.Heatmap(\n",
    "    z=df_cbs[columns_to_show].T,\n",
    "    x=df_cbs['Year_Quarter'],\n",
    "    y=columns_to_show,\n",
    "    colorscale='Viridis'\n",
    "))\n",
    "\n",
    "# Update layout for custom x-axis ticks\n",
    "fig_heat.update_layout(\n",
    "    title='Sectoral Data Over Time (Heatmap)',\n",
    "    xaxis=dict(\n",
    "        tickmode='array',\n",
    "        tickvals=df_cbs['Year_Quarter'],\n",
    "        ticktext=custom_ticks,\n",
    "        tickangle=-45\n",
    "    ),\n",
    "    yaxis_title='Sector',\n",
    "    xaxis_title='Year_Quarter'\n",
    ")\n",
    "\n",
    "# Adjust layout and margins\n",
    "fig_heat.update_layout(\n",
    "    autosize=False,\n",
    "    width=1100,\n",
    "    height=600,\n",
    "    margin=dict(l=50, r=50, b=100, t=100, pad=4),\n",
    "    title={'x': 0.5}\n",
    ")\n",
    "\n",
    "fig_heat.show()\n",
    "# Save the figure as an image with increased resolution\n",
    "fig_heat.write_image(\"fig_heat_plot.png\", scale=2)  # scale=2 increases the resolution"
   ]
  },
  {
   "cell_type": "code",
   "execution_count": 99,
   "metadata": {},
   "outputs": [],
   "source": [
    "import plotly.graph_objects as go\n",
    "import pandas as pd\n",
    "\n",
    "# Ensure Year_Quarter is treated as categorical if necessary\n",
    "df_cbs['Year_Quarter'] = pd.Categorical(df_cbs['Year_Quarter'], ordered=True)\n",
    "\n",
    "# Extract years and quarters for custom tick labels\n",
    "years = df_cbs['Year_Quarter'].str[:4].unique()\n",
    "\n",
    "# Create custom tick labels\n",
    "custom_ticks = []\n",
    "for year in years:\n",
    "    custom_ticks.extend([f\"{year} |\", \"|\", \"|\", \"|\"])\n",
    "\n",
    "# Make sure custom_ticks length matches the number of quarters\n",
    "if len(custom_ticks) > len(df_cbs['Year_Quarter']):\n",
    "    custom_ticks = custom_ticks[:len(df_cbs['Year_Quarter'])]\n",
    "elif len(custom_ticks) < len(df_cbs['Year_Quarter']):\n",
    "    custom_ticks.extend(['|'] * (len(df_cbs['Year_Quarter']) - len(custom_ticks)))\n",
    "\n",
    "# Specify the columns to show on the y-axis\n",
    "columns_to_show = [\n",
    "    'Landbouw, bosbouw en visserij', 'Industrie', 'Gezondheids- en welzijnszorg',\n",
    "    'Openbaar bestuur', 'Onderwijs', 'Financiële instellingen', 'Horeca', 'Nederland (totaal)'\n",
    "]\n"
   ]
  },
  {
   "cell_type": "code",
   "execution_count": 100,
   "metadata": {},
   "outputs": [
    {
     "data": {
      "application/vnd.plotly.v1+json": {
       "config": {
        "plotlyServerURL": "https://plot.ly"
       },
       "data": [
        {
         "marker": {
          "size": [
           2.8,
           2.4,
           2.3,
           2.5,
           2.9,
           2.9,
           2.5,
           2.7,
           3,
           2.7,
           2.5,
           2.4,
           2.5,
           2.6,
           2.5,
           2.4,
           2.4,
           2.5,
           2.5,
           2.8,
           2.4,
           2.7,
           2.7,
           2.6,
           2.5,
           3,
           3.2,
           3.7,
           3.6,
           3.6,
           3.3,
           3.5,
           3.8,
           4.2,
           4.1,
           3.1,
           3.3,
           3.8,
           3.4,
           3.7,
           3.7
          ],
          "sizemode": "area",
          "sizeref": 0.00525
         },
         "mode": "markers",
         "name": "Landbouw, bosbouw en visserij",
         "type": "scatter",
         "x": [
          "2013-Vierde kwartaal",
          "2014-Eerste kwartaal",
          "2014-Tweede kwartaal",
          "2014-Derde Kwartaal",
          "2014-Vierde kwartaal",
          "2015-Eerste kwartaal",
          "2015-Tweede kwartaal",
          "2015-Derde Kwartaal",
          "2015-Vierde kwartaal",
          "2016-Eerste kwartaal",
          "2016-Tweede kwartaal",
          "2016-Derde Kwartaal",
          "2016-Vierde kwartaal",
          "2017-Eerste kwartaal",
          "2017-Tweede kwartaal",
          "2017-Derde Kwartaal",
          "2017-Vierde kwartaal",
          "2018-Eerste kwartaal",
          "2018-Tweede kwartaal",
          "2018-Derde Kwartaal",
          "2018-Vierde kwartaal",
          "2019-Eerste kwartaal",
          "2019-Tweede kwartaal",
          "2019-Derde Kwartaal",
          "2019-Vierde kwartaal",
          "2020-Eerste kwartaal",
          "2020-Tweede kwartaal",
          "2020-Derde Kwartaal",
          "2020-Vierde kwartaal",
          "2021-Eerste kwartaal",
          "2021-Tweede kwartaal",
          "2021-Derde Kwartaal",
          "2021-Vierde kwartaal",
          "2022-Eerste kwartaal",
          "2022-Tweede kwartaal",
          "2022-Derde Kwartaal",
          "2022-Vierde kwartaal",
          "2023-Eerste kwartaal",
          "2023-Tweede kwartaal",
          "2023-Derde Kwartaal",
          "2023-Vierde kwartaal"
         ],
         "y": [
          2.8,
          2.4,
          2.3,
          2.5,
          2.9,
          2.9,
          2.5,
          2.7,
          3,
          2.7,
          2.5,
          2.4,
          2.5,
          2.6,
          2.5,
          2.4,
          2.4,
          2.5,
          2.5,
          2.8,
          2.4,
          2.7,
          2.7,
          2.6,
          2.5,
          3,
          3.2,
          3.7,
          3.6,
          3.6,
          3.3,
          3.5,
          3.8,
          4.2,
          4.1,
          3.1,
          3.3,
          3.8,
          3.4,
          3.7,
          3.7
         ]
        },
        {
         "marker": {
          "size": [
           4.9,
           4.9,
           4.6,
           4.4,
           5.1,
           5.5,
           4.5,
           4.3,
           4.9,
           5.5,
           4.6,
           4.3,
           5,
           5.4,
           4.8,
           4.6,
           5.3,
           6.1,
           5.1,
           5,
           5.4,
           5.8,
           5.3,
           5,
           5.6,
           6.7,
           5.8,
           5.4,
           6.1,
           5.8,
           5.8,
           5.4,
           6.5,
           7.4,
           6.3,
           5.9,
           6.6,
           6.8,
           5.7,
           5.5,
           6.4
          ],
          "sizemode": "area",
          "sizeref": 0.009250000000000001
         },
         "mode": "markers",
         "name": "Industrie",
         "type": "scatter",
         "x": [
          "2013-Vierde kwartaal",
          "2014-Eerste kwartaal",
          "2014-Tweede kwartaal",
          "2014-Derde Kwartaal",
          "2014-Vierde kwartaal",
          "2015-Eerste kwartaal",
          "2015-Tweede kwartaal",
          "2015-Derde Kwartaal",
          "2015-Vierde kwartaal",
          "2016-Eerste kwartaal",
          "2016-Tweede kwartaal",
          "2016-Derde Kwartaal",
          "2016-Vierde kwartaal",
          "2017-Eerste kwartaal",
          "2017-Tweede kwartaal",
          "2017-Derde Kwartaal",
          "2017-Vierde kwartaal",
          "2018-Eerste kwartaal",
          "2018-Tweede kwartaal",
          "2018-Derde Kwartaal",
          "2018-Vierde kwartaal",
          "2019-Eerste kwartaal",
          "2019-Tweede kwartaal",
          "2019-Derde Kwartaal",
          "2019-Vierde kwartaal",
          "2020-Eerste kwartaal",
          "2020-Tweede kwartaal",
          "2020-Derde Kwartaal",
          "2020-Vierde kwartaal",
          "2021-Eerste kwartaal",
          "2021-Tweede kwartaal",
          "2021-Derde Kwartaal",
          "2021-Vierde kwartaal",
          "2022-Eerste kwartaal",
          "2022-Tweede kwartaal",
          "2022-Derde Kwartaal",
          "2022-Vierde kwartaal",
          "2023-Eerste kwartaal",
          "2023-Tweede kwartaal",
          "2023-Derde Kwartaal",
          "2023-Vierde kwartaal"
         ],
         "y": [
          4.9,
          4.9,
          4.6,
          4.4,
          5.1,
          5.5,
          4.5,
          4.3,
          4.9,
          5.5,
          4.6,
          4.3,
          5,
          5.4,
          4.8,
          4.6,
          5.3,
          6.1,
          5.1,
          5,
          5.4,
          5.8,
          5.3,
          5,
          5.6,
          6.7,
          5.8,
          5.4,
          6.1,
          5.8,
          5.8,
          5.4,
          6.5,
          7.4,
          6.3,
          5.9,
          6.6,
          6.8,
          5.7,
          5.5,
          6.4
         ]
        },
        {
         "marker": {
          "size": [
           4.7,
           5.1,
           4.7,
           4.4,
           5.1,
           5.6,
           4.8,
           4.5,
           5,
           5.8,
           4.9,
           4.6,
           5.3,
           5.7,
           5.1,
           4.9,
           5.6,
           6.5,
           5.4,
           5.1,
           5.8,
           6.1,
           5.7,
           5.3,
           5.9,
           6.6,
           6.1,
           5.9,
           6.9,
           6.8,
           6.5,
           6.3,
           7.5,
           8.9,
           7.5,
           7.1,
           8,
           8.1,
           7,
           6.7,
           7.7
          ],
          "sizemode": "area",
          "sizeref": 0.011125000000000001
         },
         "mode": "markers",
         "name": "Gezondheids- en welzijnszorg",
         "type": "scatter",
         "x": [
          "2013-Vierde kwartaal",
          "2014-Eerste kwartaal",
          "2014-Tweede kwartaal",
          "2014-Derde Kwartaal",
          "2014-Vierde kwartaal",
          "2015-Eerste kwartaal",
          "2015-Tweede kwartaal",
          "2015-Derde Kwartaal",
          "2015-Vierde kwartaal",
          "2016-Eerste kwartaal",
          "2016-Tweede kwartaal",
          "2016-Derde Kwartaal",
          "2016-Vierde kwartaal",
          "2017-Eerste kwartaal",
          "2017-Tweede kwartaal",
          "2017-Derde Kwartaal",
          "2017-Vierde kwartaal",
          "2018-Eerste kwartaal",
          "2018-Tweede kwartaal",
          "2018-Derde Kwartaal",
          "2018-Vierde kwartaal",
          "2019-Eerste kwartaal",
          "2019-Tweede kwartaal",
          "2019-Derde Kwartaal",
          "2019-Vierde kwartaal",
          "2020-Eerste kwartaal",
          "2020-Tweede kwartaal",
          "2020-Derde Kwartaal",
          "2020-Vierde kwartaal",
          "2021-Eerste kwartaal",
          "2021-Tweede kwartaal",
          "2021-Derde Kwartaal",
          "2021-Vierde kwartaal",
          "2022-Eerste kwartaal",
          "2022-Tweede kwartaal",
          "2022-Derde Kwartaal",
          "2022-Vierde kwartaal",
          "2023-Eerste kwartaal",
          "2023-Tweede kwartaal",
          "2023-Derde Kwartaal",
          "2023-Vierde kwartaal"
         ],
         "y": [
          4.7,
          5.1,
          4.7,
          4.4,
          5.1,
          5.6,
          4.8,
          4.5,
          5,
          5.8,
          4.9,
          4.6,
          5.3,
          5.7,
          5.1,
          4.9,
          5.6,
          6.5,
          5.4,
          5.1,
          5.8,
          6.1,
          5.7,
          5.3,
          5.9,
          6.6,
          6.1,
          5.9,
          6.9,
          6.8,
          6.5,
          6.3,
          7.5,
          8.9,
          7.5,
          7.1,
          8,
          8.1,
          7,
          6.7,
          7.7
         ]
        },
        {
         "marker": {
          "size": [
           4.9,
           5,
           4.6,
           4.5,
           5.3,
           5.8,
           4.8,
           4.8,
           5.3,
           5.6,
           4.9,
           4.9,
           5.8,
           5.8,
           5.1,
           5,
           5.6,
           6.4,
           5.3,
           5,
           5.5,
           6.1,
           5.2,
           5,
           5.6,
           6.3,
           4.7,
           4.5,
           5,
           5,
           5,
           4.9,
           5.7,
           6.7,
           5.7,
           5.5,
           6.4,
           6.6,
           5.6,
           5.5,
           6.5
          ],
          "sizemode": "area",
          "sizeref": 0.008375
         },
         "mode": "markers",
         "name": "Openbaar bestuur",
         "type": "scatter",
         "x": [
          "2013-Vierde kwartaal",
          "2014-Eerste kwartaal",
          "2014-Tweede kwartaal",
          "2014-Derde Kwartaal",
          "2014-Vierde kwartaal",
          "2015-Eerste kwartaal",
          "2015-Tweede kwartaal",
          "2015-Derde Kwartaal",
          "2015-Vierde kwartaal",
          "2016-Eerste kwartaal",
          "2016-Tweede kwartaal",
          "2016-Derde Kwartaal",
          "2016-Vierde kwartaal",
          "2017-Eerste kwartaal",
          "2017-Tweede kwartaal",
          "2017-Derde Kwartaal",
          "2017-Vierde kwartaal",
          "2018-Eerste kwartaal",
          "2018-Tweede kwartaal",
          "2018-Derde Kwartaal",
          "2018-Vierde kwartaal",
          "2019-Eerste kwartaal",
          "2019-Tweede kwartaal",
          "2019-Derde Kwartaal",
          "2019-Vierde kwartaal",
          "2020-Eerste kwartaal",
          "2020-Tweede kwartaal",
          "2020-Derde Kwartaal",
          "2020-Vierde kwartaal",
          "2021-Eerste kwartaal",
          "2021-Tweede kwartaal",
          "2021-Derde Kwartaal",
          "2021-Vierde kwartaal",
          "2022-Eerste kwartaal",
          "2022-Tweede kwartaal",
          "2022-Derde Kwartaal",
          "2022-Vierde kwartaal",
          "2023-Eerste kwartaal",
          "2023-Tweede kwartaal",
          "2023-Derde Kwartaal",
          "2023-Vierde kwartaal"
         ],
         "y": [
          4.9,
          5,
          4.6,
          4.5,
          5.3,
          5.8,
          4.8,
          4.8,
          5.3,
          5.6,
          4.9,
          4.9,
          5.8,
          5.8,
          5.1,
          5,
          5.6,
          6.4,
          5.3,
          5,
          5.5,
          6.1,
          5.2,
          5,
          5.6,
          6.3,
          4.7,
          4.5,
          5,
          5,
          5,
          4.9,
          5.7,
          6.7,
          5.7,
          5.5,
          6.4,
          6.6,
          5.6,
          5.5,
          6.5
         ]
        },
        {
         "marker": {
          "size": [
           4.9,
           5.3,
           4.9,
           4.2,
           5.1,
           5.6,
           4.9,
           4.2,
           5,
           5.5,
           4.9,
           4.1,
           5.1,
           5.4,
           4.9,
           4.2,
           5.1,
           5.9,
           5,
           4.4,
           5.1,
           5.5,
           5.1,
           4.3,
           5.1,
           5.7,
           4.5,
           4.2,
           5,
           4.6,
           4.8,
           4.1,
           5.4,
           6.5,
           5.6,
           4.8,
           5.8,
           6.2,
           5.4,
           4.8,
           5.9
          ],
          "sizemode": "area",
          "sizeref": 0.008125
         },
         "mode": "markers",
         "name": "Onderwijs",
         "type": "scatter",
         "x": [
          "2013-Vierde kwartaal",
          "2014-Eerste kwartaal",
          "2014-Tweede kwartaal",
          "2014-Derde Kwartaal",
          "2014-Vierde kwartaal",
          "2015-Eerste kwartaal",
          "2015-Tweede kwartaal",
          "2015-Derde Kwartaal",
          "2015-Vierde kwartaal",
          "2016-Eerste kwartaal",
          "2016-Tweede kwartaal",
          "2016-Derde Kwartaal",
          "2016-Vierde kwartaal",
          "2017-Eerste kwartaal",
          "2017-Tweede kwartaal",
          "2017-Derde Kwartaal",
          "2017-Vierde kwartaal",
          "2018-Eerste kwartaal",
          "2018-Tweede kwartaal",
          "2018-Derde Kwartaal",
          "2018-Vierde kwartaal",
          "2019-Eerste kwartaal",
          "2019-Tweede kwartaal",
          "2019-Derde Kwartaal",
          "2019-Vierde kwartaal",
          "2020-Eerste kwartaal",
          "2020-Tweede kwartaal",
          "2020-Derde Kwartaal",
          "2020-Vierde kwartaal",
          "2021-Eerste kwartaal",
          "2021-Tweede kwartaal",
          "2021-Derde Kwartaal",
          "2021-Vierde kwartaal",
          "2022-Eerste kwartaal",
          "2022-Tweede kwartaal",
          "2022-Derde Kwartaal",
          "2022-Vierde kwartaal",
          "2023-Eerste kwartaal",
          "2023-Tweede kwartaal",
          "2023-Derde Kwartaal",
          "2023-Vierde kwartaal"
         ],
         "y": [
          4.9,
          5.3,
          4.9,
          4.2,
          5.1,
          5.6,
          4.9,
          4.2,
          5,
          5.5,
          4.9,
          4.1,
          5.1,
          5.4,
          4.9,
          4.2,
          5.1,
          5.9,
          5,
          4.4,
          5.1,
          5.5,
          5.1,
          4.3,
          5.1,
          5.7,
          4.5,
          4.2,
          5,
          4.6,
          4.8,
          4.1,
          5.4,
          6.5,
          5.6,
          4.8,
          5.8,
          6.2,
          5.4,
          4.8,
          5.9
         ]
        },
        {
         "marker": {
          "size": [
           2.9,
           3,
           2.9,
           2.7,
           3.2,
           3.4,
           2.6,
           2.5,
           2.9,
           3.4,
           2.7,
           2.8,
           3.1,
           3.4,
           2.7,
           2.5,
           3.3,
           3.3,
           2.6,
           2.5,
           2.9,
           2.8,
           2.7,
           2.5,
           2.8,
           2.9,
           2.5,
           2.6,
           2.8,
           2.8,
           2.7,
           2.8,
           3,
           3.4,
           3.1,
           3,
           3.4,
           3.4,
           3.1,
           3.1,
           3.3
          ],
          "sizemode": "area",
          "sizeref": 0.00425
         },
         "mode": "markers",
         "name": "Financiële instellingen",
         "type": "scatter",
         "x": [
          "2013-Vierde kwartaal",
          "2014-Eerste kwartaal",
          "2014-Tweede kwartaal",
          "2014-Derde Kwartaal",
          "2014-Vierde kwartaal",
          "2015-Eerste kwartaal",
          "2015-Tweede kwartaal",
          "2015-Derde Kwartaal",
          "2015-Vierde kwartaal",
          "2016-Eerste kwartaal",
          "2016-Tweede kwartaal",
          "2016-Derde Kwartaal",
          "2016-Vierde kwartaal",
          "2017-Eerste kwartaal",
          "2017-Tweede kwartaal",
          "2017-Derde Kwartaal",
          "2017-Vierde kwartaal",
          "2018-Eerste kwartaal",
          "2018-Tweede kwartaal",
          "2018-Derde Kwartaal",
          "2018-Vierde kwartaal",
          "2019-Eerste kwartaal",
          "2019-Tweede kwartaal",
          "2019-Derde Kwartaal",
          "2019-Vierde kwartaal",
          "2020-Eerste kwartaal",
          "2020-Tweede kwartaal",
          "2020-Derde Kwartaal",
          "2020-Vierde kwartaal",
          "2021-Eerste kwartaal",
          "2021-Tweede kwartaal",
          "2021-Derde Kwartaal",
          "2021-Vierde kwartaal",
          "2022-Eerste kwartaal",
          "2022-Tweede kwartaal",
          "2022-Derde Kwartaal",
          "2022-Vierde kwartaal",
          "2023-Eerste kwartaal",
          "2023-Tweede kwartaal",
          "2023-Derde Kwartaal",
          "2023-Vierde kwartaal"
         ],
         "y": [
          2.9,
          3,
          2.9,
          2.7,
          3.2,
          3.4,
          2.6,
          2.5,
          2.9,
          3.4,
          2.7,
          2.8,
          3.1,
          3.4,
          2.7,
          2.5,
          3.3,
          3.3,
          2.6,
          2.5,
          2.9,
          2.8,
          2.7,
          2.5,
          2.8,
          2.9,
          2.5,
          2.6,
          2.8,
          2.8,
          2.7,
          2.8,
          3,
          3.4,
          3.1,
          3,
          3.4,
          3.4,
          3.1,
          3.1,
          3.3
         ]
        },
        {
         "marker": {
          "size": [
           2.1,
           2.1,
           2,
           2,
           2.2,
           2.1,
           2.1,
           2,
           2,
           2.2,
           2.1,
           2,
           2.3,
           2.3,
           2.2,
           2.2,
           2.3,
           2.3,
           2.3,
           2.3,
           2.2,
           2.7,
           2.6,
           2.6,
           2.8,
           3,
           3,
           4.1,
           4.3,
           3.9,
           3.4,
           4.1,
           4.5,
           6,
           4.3,
           4.1,
           4.3,
           4.3,
           3.9,
           3.6,
           3.9
          ],
          "sizemode": "area",
          "sizeref": 0.0075
         },
         "mode": "markers",
         "name": "Horeca",
         "type": "scatter",
         "x": [
          "2013-Vierde kwartaal",
          "2014-Eerste kwartaal",
          "2014-Tweede kwartaal",
          "2014-Derde Kwartaal",
          "2014-Vierde kwartaal",
          "2015-Eerste kwartaal",
          "2015-Tweede kwartaal",
          "2015-Derde Kwartaal",
          "2015-Vierde kwartaal",
          "2016-Eerste kwartaal",
          "2016-Tweede kwartaal",
          "2016-Derde Kwartaal",
          "2016-Vierde kwartaal",
          "2017-Eerste kwartaal",
          "2017-Tweede kwartaal",
          "2017-Derde Kwartaal",
          "2017-Vierde kwartaal",
          "2018-Eerste kwartaal",
          "2018-Tweede kwartaal",
          "2018-Derde Kwartaal",
          "2018-Vierde kwartaal",
          "2019-Eerste kwartaal",
          "2019-Tweede kwartaal",
          "2019-Derde Kwartaal",
          "2019-Vierde kwartaal",
          "2020-Eerste kwartaal",
          "2020-Tweede kwartaal",
          "2020-Derde Kwartaal",
          "2020-Vierde kwartaal",
          "2021-Eerste kwartaal",
          "2021-Tweede kwartaal",
          "2021-Derde Kwartaal",
          "2021-Vierde kwartaal",
          "2022-Eerste kwartaal",
          "2022-Tweede kwartaal",
          "2022-Derde Kwartaal",
          "2022-Vierde kwartaal",
          "2023-Eerste kwartaal",
          "2023-Tweede kwartaal",
          "2023-Derde Kwartaal",
          "2023-Vierde kwartaal"
         ],
         "y": [
          2.1,
          2.1,
          2,
          2,
          2.2,
          2.1,
          2.1,
          2,
          2,
          2.2,
          2.1,
          2,
          2.3,
          2.3,
          2.2,
          2.2,
          2.3,
          2.3,
          2.3,
          2.3,
          2.2,
          2.7,
          2.6,
          2.6,
          2.8,
          3,
          3,
          4.1,
          4.3,
          3.9,
          3.4,
          4.1,
          4.5,
          6,
          4.3,
          4.1,
          4.3,
          4.3,
          3.9,
          3.6,
          3.9
         ]
        },
        {
         "marker": {
          "size": [
           3.9,
           4,
           3.7,
           3.5,
           4,
           4.4,
           3.7,
           3.5,
           3.9,
           4.3,
           3.8,
           3.5,
           4.1,
           4.3,
           3.9,
           3.7,
           4.2,
           4.9,
           4.1,
           3.9,
           4.3,
           4.7,
           4.3,
           4,
           4.5,
           5.2,
           4.5,
           4.4,
           4.9,
           4.8,
           4.7,
           4.6,
           5.4,
           6.3,
           5.4,
           5,
           5.6,
           5.7,
           5,
           4.8,
           5.5
          ],
          "sizemode": "area",
          "sizeref": 0.007875
         },
         "mode": "markers",
         "name": "Nederland (totaal)",
         "type": "scatter",
         "x": [
          "2013-Vierde kwartaal",
          "2014-Eerste kwartaal",
          "2014-Tweede kwartaal",
          "2014-Derde Kwartaal",
          "2014-Vierde kwartaal",
          "2015-Eerste kwartaal",
          "2015-Tweede kwartaal",
          "2015-Derde Kwartaal",
          "2015-Vierde kwartaal",
          "2016-Eerste kwartaal",
          "2016-Tweede kwartaal",
          "2016-Derde Kwartaal",
          "2016-Vierde kwartaal",
          "2017-Eerste kwartaal",
          "2017-Tweede kwartaal",
          "2017-Derde Kwartaal",
          "2017-Vierde kwartaal",
          "2018-Eerste kwartaal",
          "2018-Tweede kwartaal",
          "2018-Derde Kwartaal",
          "2018-Vierde kwartaal",
          "2019-Eerste kwartaal",
          "2019-Tweede kwartaal",
          "2019-Derde Kwartaal",
          "2019-Vierde kwartaal",
          "2020-Eerste kwartaal",
          "2020-Tweede kwartaal",
          "2020-Derde Kwartaal",
          "2020-Vierde kwartaal",
          "2021-Eerste kwartaal",
          "2021-Tweede kwartaal",
          "2021-Derde Kwartaal",
          "2021-Vierde kwartaal",
          "2022-Eerste kwartaal",
          "2022-Tweede kwartaal",
          "2022-Derde Kwartaal",
          "2022-Vierde kwartaal",
          "2023-Eerste kwartaal",
          "2023-Tweede kwartaal",
          "2023-Derde Kwartaal",
          "2023-Vierde kwartaal"
         ],
         "y": [
          3.9,
          4,
          3.7,
          3.5,
          4,
          4.4,
          3.7,
          3.5,
          3.9,
          4.3,
          3.8,
          3.5,
          4.1,
          4.3,
          3.9,
          3.7,
          4.2,
          4.9,
          4.1,
          3.9,
          4.3,
          4.7,
          4.3,
          4,
          4.5,
          5.2,
          4.5,
          4.4,
          4.9,
          4.8,
          4.7,
          4.6,
          5.4,
          6.3,
          5.4,
          5,
          5.6,
          5.7,
          5,
          4.8,
          5.5
         ]
        }
       ],
       "layout": {
        "autosize": false,
        "height": 600,
        "margin": {
         "b": 100,
         "l": 50,
         "pad": 4,
         "r": 50,
         "t": 100
        },
        "template": {
         "data": {
          "bar": [
           {
            "error_x": {
             "color": "#2a3f5f"
            },
            "error_y": {
             "color": "#2a3f5f"
            },
            "marker": {
             "line": {
              "color": "#E5ECF6",
              "width": 0.5
             },
             "pattern": {
              "fillmode": "overlay",
              "size": 10,
              "solidity": 0.2
             }
            },
            "type": "bar"
           }
          ],
          "barpolar": [
           {
            "marker": {
             "line": {
              "color": "#E5ECF6",
              "width": 0.5
             },
             "pattern": {
              "fillmode": "overlay",
              "size": 10,
              "solidity": 0.2
             }
            },
            "type": "barpolar"
           }
          ],
          "carpet": [
           {
            "aaxis": {
             "endlinecolor": "#2a3f5f",
             "gridcolor": "white",
             "linecolor": "white",
             "minorgridcolor": "white",
             "startlinecolor": "#2a3f5f"
            },
            "baxis": {
             "endlinecolor": "#2a3f5f",
             "gridcolor": "white",
             "linecolor": "white",
             "minorgridcolor": "white",
             "startlinecolor": "#2a3f5f"
            },
            "type": "carpet"
           }
          ],
          "choropleth": [
           {
            "colorbar": {
             "outlinewidth": 0,
             "ticks": ""
            },
            "type": "choropleth"
           }
          ],
          "contour": [
           {
            "colorbar": {
             "outlinewidth": 0,
             "ticks": ""
            },
            "colorscale": [
             [
              0,
              "#0d0887"
             ],
             [
              0.1111111111111111,
              "#46039f"
             ],
             [
              0.2222222222222222,
              "#7201a8"
             ],
             [
              0.3333333333333333,
              "#9c179e"
             ],
             [
              0.4444444444444444,
              "#bd3786"
             ],
             [
              0.5555555555555556,
              "#d8576b"
             ],
             [
              0.6666666666666666,
              "#ed7953"
             ],
             [
              0.7777777777777778,
              "#fb9f3a"
             ],
             [
              0.8888888888888888,
              "#fdca26"
             ],
             [
              1,
              "#f0f921"
             ]
            ],
            "type": "contour"
           }
          ],
          "contourcarpet": [
           {
            "colorbar": {
             "outlinewidth": 0,
             "ticks": ""
            },
            "type": "contourcarpet"
           }
          ],
          "heatmap": [
           {
            "colorbar": {
             "outlinewidth": 0,
             "ticks": ""
            },
            "colorscale": [
             [
              0,
              "#0d0887"
             ],
             [
              0.1111111111111111,
              "#46039f"
             ],
             [
              0.2222222222222222,
              "#7201a8"
             ],
             [
              0.3333333333333333,
              "#9c179e"
             ],
             [
              0.4444444444444444,
              "#bd3786"
             ],
             [
              0.5555555555555556,
              "#d8576b"
             ],
             [
              0.6666666666666666,
              "#ed7953"
             ],
             [
              0.7777777777777778,
              "#fb9f3a"
             ],
             [
              0.8888888888888888,
              "#fdca26"
             ],
             [
              1,
              "#f0f921"
             ]
            ],
            "type": "heatmap"
           }
          ],
          "heatmapgl": [
           {
            "colorbar": {
             "outlinewidth": 0,
             "ticks": ""
            },
            "colorscale": [
             [
              0,
              "#0d0887"
             ],
             [
              0.1111111111111111,
              "#46039f"
             ],
             [
              0.2222222222222222,
              "#7201a8"
             ],
             [
              0.3333333333333333,
              "#9c179e"
             ],
             [
              0.4444444444444444,
              "#bd3786"
             ],
             [
              0.5555555555555556,
              "#d8576b"
             ],
             [
              0.6666666666666666,
              "#ed7953"
             ],
             [
              0.7777777777777778,
              "#fb9f3a"
             ],
             [
              0.8888888888888888,
              "#fdca26"
             ],
             [
              1,
              "#f0f921"
             ]
            ],
            "type": "heatmapgl"
           }
          ],
          "histogram": [
           {
            "marker": {
             "pattern": {
              "fillmode": "overlay",
              "size": 10,
              "solidity": 0.2
             }
            },
            "type": "histogram"
           }
          ],
          "histogram2d": [
           {
            "colorbar": {
             "outlinewidth": 0,
             "ticks": ""
            },
            "colorscale": [
             [
              0,
              "#0d0887"
             ],
             [
              0.1111111111111111,
              "#46039f"
             ],
             [
              0.2222222222222222,
              "#7201a8"
             ],
             [
              0.3333333333333333,
              "#9c179e"
             ],
             [
              0.4444444444444444,
              "#bd3786"
             ],
             [
              0.5555555555555556,
              "#d8576b"
             ],
             [
              0.6666666666666666,
              "#ed7953"
             ],
             [
              0.7777777777777778,
              "#fb9f3a"
             ],
             [
              0.8888888888888888,
              "#fdca26"
             ],
             [
              1,
              "#f0f921"
             ]
            ],
            "type": "histogram2d"
           }
          ],
          "histogram2dcontour": [
           {
            "colorbar": {
             "outlinewidth": 0,
             "ticks": ""
            },
            "colorscale": [
             [
              0,
              "#0d0887"
             ],
             [
              0.1111111111111111,
              "#46039f"
             ],
             [
              0.2222222222222222,
              "#7201a8"
             ],
             [
              0.3333333333333333,
              "#9c179e"
             ],
             [
              0.4444444444444444,
              "#bd3786"
             ],
             [
              0.5555555555555556,
              "#d8576b"
             ],
             [
              0.6666666666666666,
              "#ed7953"
             ],
             [
              0.7777777777777778,
              "#fb9f3a"
             ],
             [
              0.8888888888888888,
              "#fdca26"
             ],
             [
              1,
              "#f0f921"
             ]
            ],
            "type": "histogram2dcontour"
           }
          ],
          "mesh3d": [
           {
            "colorbar": {
             "outlinewidth": 0,
             "ticks": ""
            },
            "type": "mesh3d"
           }
          ],
          "parcoords": [
           {
            "line": {
             "colorbar": {
              "outlinewidth": 0,
              "ticks": ""
             }
            },
            "type": "parcoords"
           }
          ],
          "pie": [
           {
            "automargin": true,
            "type": "pie"
           }
          ],
          "scatter": [
           {
            "fillpattern": {
             "fillmode": "overlay",
             "size": 10,
             "solidity": 0.2
            },
            "type": "scatter"
           }
          ],
          "scatter3d": [
           {
            "line": {
             "colorbar": {
              "outlinewidth": 0,
              "ticks": ""
             }
            },
            "marker": {
             "colorbar": {
              "outlinewidth": 0,
              "ticks": ""
             }
            },
            "type": "scatter3d"
           }
          ],
          "scattercarpet": [
           {
            "marker": {
             "colorbar": {
              "outlinewidth": 0,
              "ticks": ""
             }
            },
            "type": "scattercarpet"
           }
          ],
          "scattergeo": [
           {
            "marker": {
             "colorbar": {
              "outlinewidth": 0,
              "ticks": ""
             }
            },
            "type": "scattergeo"
           }
          ],
          "scattergl": [
           {
            "marker": {
             "colorbar": {
              "outlinewidth": 0,
              "ticks": ""
             }
            },
            "type": "scattergl"
           }
          ],
          "scattermapbox": [
           {
            "marker": {
             "colorbar": {
              "outlinewidth": 0,
              "ticks": ""
             }
            },
            "type": "scattermapbox"
           }
          ],
          "scatterpolar": [
           {
            "marker": {
             "colorbar": {
              "outlinewidth": 0,
              "ticks": ""
             }
            },
            "type": "scatterpolar"
           }
          ],
          "scatterpolargl": [
           {
            "marker": {
             "colorbar": {
              "outlinewidth": 0,
              "ticks": ""
             }
            },
            "type": "scatterpolargl"
           }
          ],
          "scatterternary": [
           {
            "marker": {
             "colorbar": {
              "outlinewidth": 0,
              "ticks": ""
             }
            },
            "type": "scatterternary"
           }
          ],
          "surface": [
           {
            "colorbar": {
             "outlinewidth": 0,
             "ticks": ""
            },
            "colorscale": [
             [
              0,
              "#0d0887"
             ],
             [
              0.1111111111111111,
              "#46039f"
             ],
             [
              0.2222222222222222,
              "#7201a8"
             ],
             [
              0.3333333333333333,
              "#9c179e"
             ],
             [
              0.4444444444444444,
              "#bd3786"
             ],
             [
              0.5555555555555556,
              "#d8576b"
             ],
             [
              0.6666666666666666,
              "#ed7953"
             ],
             [
              0.7777777777777778,
              "#fb9f3a"
             ],
             [
              0.8888888888888888,
              "#fdca26"
             ],
             [
              1,
              "#f0f921"
             ]
            ],
            "type": "surface"
           }
          ],
          "table": [
           {
            "cells": {
             "fill": {
              "color": "#EBF0F8"
             },
             "line": {
              "color": "white"
             }
            },
            "header": {
             "fill": {
              "color": "#C8D4E3"
             },
             "line": {
              "color": "white"
             }
            },
            "type": "table"
           }
          ]
         },
         "layout": {
          "annotationdefaults": {
           "arrowcolor": "#2a3f5f",
           "arrowhead": 0,
           "arrowwidth": 1
          },
          "autotypenumbers": "strict",
          "coloraxis": {
           "colorbar": {
            "outlinewidth": 0,
            "ticks": ""
           }
          },
          "colorscale": {
           "diverging": [
            [
             0,
             "#8e0152"
            ],
            [
             0.1,
             "#c51b7d"
            ],
            [
             0.2,
             "#de77ae"
            ],
            [
             0.3,
             "#f1b6da"
            ],
            [
             0.4,
             "#fde0ef"
            ],
            [
             0.5,
             "#f7f7f7"
            ],
            [
             0.6,
             "#e6f5d0"
            ],
            [
             0.7,
             "#b8e186"
            ],
            [
             0.8,
             "#7fbc41"
            ],
            [
             0.9,
             "#4d9221"
            ],
            [
             1,
             "#276419"
            ]
           ],
           "sequential": [
            [
             0,
             "#0d0887"
            ],
            [
             0.1111111111111111,
             "#46039f"
            ],
            [
             0.2222222222222222,
             "#7201a8"
            ],
            [
             0.3333333333333333,
             "#9c179e"
            ],
            [
             0.4444444444444444,
             "#bd3786"
            ],
            [
             0.5555555555555556,
             "#d8576b"
            ],
            [
             0.6666666666666666,
             "#ed7953"
            ],
            [
             0.7777777777777778,
             "#fb9f3a"
            ],
            [
             0.8888888888888888,
             "#fdca26"
            ],
            [
             1,
             "#f0f921"
            ]
           ],
           "sequentialminus": [
            [
             0,
             "#0d0887"
            ],
            [
             0.1111111111111111,
             "#46039f"
            ],
            [
             0.2222222222222222,
             "#7201a8"
            ],
            [
             0.3333333333333333,
             "#9c179e"
            ],
            [
             0.4444444444444444,
             "#bd3786"
            ],
            [
             0.5555555555555556,
             "#d8576b"
            ],
            [
             0.6666666666666666,
             "#ed7953"
            ],
            [
             0.7777777777777778,
             "#fb9f3a"
            ],
            [
             0.8888888888888888,
             "#fdca26"
            ],
            [
             1,
             "#f0f921"
            ]
           ]
          },
          "colorway": [
           "#636efa",
           "#EF553B",
           "#00cc96",
           "#ab63fa",
           "#FFA15A",
           "#19d3f3",
           "#FF6692",
           "#B6E880",
           "#FF97FF",
           "#FECB52"
          ],
          "font": {
           "color": "#2a3f5f"
          },
          "geo": {
           "bgcolor": "white",
           "lakecolor": "white",
           "landcolor": "#E5ECF6",
           "showlakes": true,
           "showland": true,
           "subunitcolor": "white"
          },
          "hoverlabel": {
           "align": "left"
          },
          "hovermode": "closest",
          "mapbox": {
           "style": "light"
          },
          "paper_bgcolor": "white",
          "plot_bgcolor": "#E5ECF6",
          "polar": {
           "angularaxis": {
            "gridcolor": "white",
            "linecolor": "white",
            "ticks": ""
           },
           "bgcolor": "#E5ECF6",
           "radialaxis": {
            "gridcolor": "white",
            "linecolor": "white",
            "ticks": ""
           }
          },
          "scene": {
           "xaxis": {
            "backgroundcolor": "#E5ECF6",
            "gridcolor": "white",
            "gridwidth": 2,
            "linecolor": "white",
            "showbackground": true,
            "ticks": "",
            "zerolinecolor": "white"
           },
           "yaxis": {
            "backgroundcolor": "#E5ECF6",
            "gridcolor": "white",
            "gridwidth": 2,
            "linecolor": "white",
            "showbackground": true,
            "ticks": "",
            "zerolinecolor": "white"
           },
           "zaxis": {
            "backgroundcolor": "#E5ECF6",
            "gridcolor": "white",
            "gridwidth": 2,
            "linecolor": "white",
            "showbackground": true,
            "ticks": "",
            "zerolinecolor": "white"
           }
          },
          "shapedefaults": {
           "line": {
            "color": "#2a3f5f"
           }
          },
          "ternary": {
           "aaxis": {
            "gridcolor": "white",
            "linecolor": "white",
            "ticks": ""
           },
           "baxis": {
            "gridcolor": "white",
            "linecolor": "white",
            "ticks": ""
           },
           "bgcolor": "#E5ECF6",
           "caxis": {
            "gridcolor": "white",
            "linecolor": "white",
            "ticks": ""
           }
          },
          "title": {
           "x": 0.05
          },
          "xaxis": {
           "automargin": true,
           "gridcolor": "white",
           "linecolor": "white",
           "ticks": "",
           "title": {
            "standoff": 15
           },
           "zerolinecolor": "white",
           "zerolinewidth": 2
          },
          "yaxis": {
           "automargin": true,
           "gridcolor": "white",
           "linecolor": "white",
           "ticks": "",
           "title": {
            "standoff": 15
           },
           "zerolinecolor": "white",
           "zerolinewidth": 2
          }
         }
        },
        "title": {
         "text": "Sectoral Data Over Time (Bubble Chart)",
         "x": 0.5
        },
        "width": 1100,
        "xaxis": {
         "tickangle": -45,
         "tickmode": "array",
         "ticktext": [
          "2013 |",
          "|",
          "|",
          "|",
          "2014 |",
          "|",
          "|",
          "|",
          "2015 |",
          "|",
          "|",
          "|",
          "2016 |",
          "|",
          "|",
          "|",
          "2017 |",
          "|",
          "|",
          "|",
          "2018 |",
          "|",
          "|",
          "|",
          "2019 |",
          "|",
          "|",
          "|",
          "2020 |",
          "|",
          "|",
          "|",
          "2021 |",
          "|",
          "|",
          "|",
          "2022 |",
          "|",
          "|",
          "|",
          "2023 |"
         ],
         "tickvals": [
          "2013-Vierde kwartaal",
          "2014-Eerste kwartaal",
          "2014-Tweede kwartaal",
          "2014-Derde Kwartaal",
          "2014-Vierde kwartaal",
          "2015-Eerste kwartaal",
          "2015-Tweede kwartaal",
          "2015-Derde Kwartaal",
          "2015-Vierde kwartaal",
          "2016-Eerste kwartaal",
          "2016-Tweede kwartaal",
          "2016-Derde Kwartaal",
          "2016-Vierde kwartaal",
          "2017-Eerste kwartaal",
          "2017-Tweede kwartaal",
          "2017-Derde Kwartaal",
          "2017-Vierde kwartaal",
          "2018-Eerste kwartaal",
          "2018-Tweede kwartaal",
          "2018-Derde Kwartaal",
          "2018-Vierde kwartaal",
          "2019-Eerste kwartaal",
          "2019-Tweede kwartaal",
          "2019-Derde Kwartaal",
          "2019-Vierde kwartaal",
          "2020-Eerste kwartaal",
          "2020-Tweede kwartaal",
          "2020-Derde Kwartaal",
          "2020-Vierde kwartaal",
          "2021-Eerste kwartaal",
          "2021-Tweede kwartaal",
          "2021-Derde Kwartaal",
          "2021-Vierde kwartaal",
          "2022-Eerste kwartaal",
          "2022-Tweede kwartaal",
          "2022-Derde Kwartaal",
          "2022-Vierde kwartaal",
          "2023-Eerste kwartaal",
          "2023-Tweede kwartaal",
          "2023-Derde Kwartaal",
          "2023-Vierde kwartaal"
         ],
         "title": {
          "text": "Year_Quarter"
         }
        },
        "yaxis": {
         "title": {
          "text": "Percentage"
         }
        }
       }
      }
     },
     "metadata": {},
     "output_type": "display_data"
    }
   ],
   "source": [
    "fig_bubble = go.Figure()\n",
    "\n",
    "for col in columns_to_show:\n",
    "    fig_bubble.add_trace(go.Scatter(\n",
    "        x=df_cbs['Year_Quarter'],\n",
    "        y=df_cbs[col],\n",
    "        mode='markers',\n",
    "        marker=dict(size=df_cbs[col], sizemode='area', sizeref=2.*max(df_cbs[col])/40.**2),\n",
    "        name=col\n",
    "    ))\n",
    "\n",
    "# Update layout for custom x-axis ticks\n",
    "fig_bubble.update_layout(\n",
    "    title='Sectoral Data Over Time (Bubble Chart)',\n",
    "    xaxis=dict(\n",
    "        tickmode='array',\n",
    "        tickvals=df_cbs['Year_Quarter'],\n",
    "        ticktext=custom_ticks,\n",
    "        tickangle=-45\n",
    "    ),\n",
    "    yaxis_title='Percentage',\n",
    "    xaxis_title='Year_Quarter'\n",
    ")\n",
    "\n",
    "# Adjust layout and margins\n",
    "fig_bubble.update_layout(\n",
    "    autosize=False,\n",
    "    width=1100,\n",
    "    height=600,\n",
    "    margin=dict(l=50, r=50, b=100, t=100, pad=4),\n",
    "    title={'x': 0.5}\n",
    ")\n",
    "\n",
    "fig_bubble.show()\n",
    "# Save the figure as an image with increased resolution\n",
    "fig_bubble.write_image(\"fig_bubble_plot.png\", scale=2)\n"
   ]
  },
  {
   "cell_type": "code",
   "execution_count": 101,
   "metadata": {},
   "outputs": [
    {
     "data": {
      "application/vnd.plotly.v1+json": {
       "config": {
        "plotlyServerURL": "https://plot.ly"
       },
       "data": [
        {
         "name": "Landbouw, bosbouw en visserij",
         "type": "box",
         "y": [
          2.8,
          2.4,
          2.3,
          2.5,
          2.9,
          2.9,
          2.5,
          2.7,
          3,
          2.7,
          2.5,
          2.4,
          2.5,
          2.6,
          2.5,
          2.4,
          2.4,
          2.5,
          2.5,
          2.8,
          2.4,
          2.7,
          2.7,
          2.6,
          2.5,
          3,
          3.2,
          3.7,
          3.6,
          3.6,
          3.3,
          3.5,
          3.8,
          4.2,
          4.1,
          3.1,
          3.3,
          3.8,
          3.4,
          3.7,
          3.7
         ]
        },
        {
         "name": "Industrie",
         "type": "box",
         "y": [
          4.9,
          4.9,
          4.6,
          4.4,
          5.1,
          5.5,
          4.5,
          4.3,
          4.9,
          5.5,
          4.6,
          4.3,
          5,
          5.4,
          4.8,
          4.6,
          5.3,
          6.1,
          5.1,
          5,
          5.4,
          5.8,
          5.3,
          5,
          5.6,
          6.7,
          5.8,
          5.4,
          6.1,
          5.8,
          5.8,
          5.4,
          6.5,
          7.4,
          6.3,
          5.9,
          6.6,
          6.8,
          5.7,
          5.5,
          6.4
         ]
        },
        {
         "name": "Gezondheids- en welzijnszorg",
         "type": "box",
         "y": [
          4.7,
          5.1,
          4.7,
          4.4,
          5.1,
          5.6,
          4.8,
          4.5,
          5,
          5.8,
          4.9,
          4.6,
          5.3,
          5.7,
          5.1,
          4.9,
          5.6,
          6.5,
          5.4,
          5.1,
          5.8,
          6.1,
          5.7,
          5.3,
          5.9,
          6.6,
          6.1,
          5.9,
          6.9,
          6.8,
          6.5,
          6.3,
          7.5,
          8.9,
          7.5,
          7.1,
          8,
          8.1,
          7,
          6.7,
          7.7
         ]
        },
        {
         "name": "Openbaar bestuur",
         "type": "box",
         "y": [
          4.9,
          5,
          4.6,
          4.5,
          5.3,
          5.8,
          4.8,
          4.8,
          5.3,
          5.6,
          4.9,
          4.9,
          5.8,
          5.8,
          5.1,
          5,
          5.6,
          6.4,
          5.3,
          5,
          5.5,
          6.1,
          5.2,
          5,
          5.6,
          6.3,
          4.7,
          4.5,
          5,
          5,
          5,
          4.9,
          5.7,
          6.7,
          5.7,
          5.5,
          6.4,
          6.6,
          5.6,
          5.5,
          6.5
         ]
        },
        {
         "name": "Onderwijs",
         "type": "box",
         "y": [
          4.9,
          5.3,
          4.9,
          4.2,
          5.1,
          5.6,
          4.9,
          4.2,
          5,
          5.5,
          4.9,
          4.1,
          5.1,
          5.4,
          4.9,
          4.2,
          5.1,
          5.9,
          5,
          4.4,
          5.1,
          5.5,
          5.1,
          4.3,
          5.1,
          5.7,
          4.5,
          4.2,
          5,
          4.6,
          4.8,
          4.1,
          5.4,
          6.5,
          5.6,
          4.8,
          5.8,
          6.2,
          5.4,
          4.8,
          5.9
         ]
        },
        {
         "name": "Financiële instellingen",
         "type": "box",
         "y": [
          2.9,
          3,
          2.9,
          2.7,
          3.2,
          3.4,
          2.6,
          2.5,
          2.9,
          3.4,
          2.7,
          2.8,
          3.1,
          3.4,
          2.7,
          2.5,
          3.3,
          3.3,
          2.6,
          2.5,
          2.9,
          2.8,
          2.7,
          2.5,
          2.8,
          2.9,
          2.5,
          2.6,
          2.8,
          2.8,
          2.7,
          2.8,
          3,
          3.4,
          3.1,
          3,
          3.4,
          3.4,
          3.1,
          3.1,
          3.3
         ]
        },
        {
         "name": "Horeca",
         "type": "box",
         "y": [
          2.1,
          2.1,
          2,
          2,
          2.2,
          2.1,
          2.1,
          2,
          2,
          2.2,
          2.1,
          2,
          2.3,
          2.3,
          2.2,
          2.2,
          2.3,
          2.3,
          2.3,
          2.3,
          2.2,
          2.7,
          2.6,
          2.6,
          2.8,
          3,
          3,
          4.1,
          4.3,
          3.9,
          3.4,
          4.1,
          4.5,
          6,
          4.3,
          4.1,
          4.3,
          4.3,
          3.9,
          3.6,
          3.9
         ]
        },
        {
         "name": "Nederland (totaal)",
         "type": "box",
         "y": [
          3.9,
          4,
          3.7,
          3.5,
          4,
          4.4,
          3.7,
          3.5,
          3.9,
          4.3,
          3.8,
          3.5,
          4.1,
          4.3,
          3.9,
          3.7,
          4.2,
          4.9,
          4.1,
          3.9,
          4.3,
          4.7,
          4.3,
          4,
          4.5,
          5.2,
          4.5,
          4.4,
          4.9,
          4.8,
          4.7,
          4.6,
          5.4,
          6.3,
          5.4,
          5,
          5.6,
          5.7,
          5,
          4.8,
          5.5
         ]
        }
       ],
       "layout": {
        "autosize": false,
        "height": 600,
        "margin": {
         "b": 100,
         "l": 50,
         "pad": 4,
         "r": 50,
         "t": 100
        },
        "template": {
         "data": {
          "bar": [
           {
            "error_x": {
             "color": "#2a3f5f"
            },
            "error_y": {
             "color": "#2a3f5f"
            },
            "marker": {
             "line": {
              "color": "#E5ECF6",
              "width": 0.5
             },
             "pattern": {
              "fillmode": "overlay",
              "size": 10,
              "solidity": 0.2
             }
            },
            "type": "bar"
           }
          ],
          "barpolar": [
           {
            "marker": {
             "line": {
              "color": "#E5ECF6",
              "width": 0.5
             },
             "pattern": {
              "fillmode": "overlay",
              "size": 10,
              "solidity": 0.2
             }
            },
            "type": "barpolar"
           }
          ],
          "carpet": [
           {
            "aaxis": {
             "endlinecolor": "#2a3f5f",
             "gridcolor": "white",
             "linecolor": "white",
             "minorgridcolor": "white",
             "startlinecolor": "#2a3f5f"
            },
            "baxis": {
             "endlinecolor": "#2a3f5f",
             "gridcolor": "white",
             "linecolor": "white",
             "minorgridcolor": "white",
             "startlinecolor": "#2a3f5f"
            },
            "type": "carpet"
           }
          ],
          "choropleth": [
           {
            "colorbar": {
             "outlinewidth": 0,
             "ticks": ""
            },
            "type": "choropleth"
           }
          ],
          "contour": [
           {
            "colorbar": {
             "outlinewidth": 0,
             "ticks": ""
            },
            "colorscale": [
             [
              0,
              "#0d0887"
             ],
             [
              0.1111111111111111,
              "#46039f"
             ],
             [
              0.2222222222222222,
              "#7201a8"
             ],
             [
              0.3333333333333333,
              "#9c179e"
             ],
             [
              0.4444444444444444,
              "#bd3786"
             ],
             [
              0.5555555555555556,
              "#d8576b"
             ],
             [
              0.6666666666666666,
              "#ed7953"
             ],
             [
              0.7777777777777778,
              "#fb9f3a"
             ],
             [
              0.8888888888888888,
              "#fdca26"
             ],
             [
              1,
              "#f0f921"
             ]
            ],
            "type": "contour"
           }
          ],
          "contourcarpet": [
           {
            "colorbar": {
             "outlinewidth": 0,
             "ticks": ""
            },
            "type": "contourcarpet"
           }
          ],
          "heatmap": [
           {
            "colorbar": {
             "outlinewidth": 0,
             "ticks": ""
            },
            "colorscale": [
             [
              0,
              "#0d0887"
             ],
             [
              0.1111111111111111,
              "#46039f"
             ],
             [
              0.2222222222222222,
              "#7201a8"
             ],
             [
              0.3333333333333333,
              "#9c179e"
             ],
             [
              0.4444444444444444,
              "#bd3786"
             ],
             [
              0.5555555555555556,
              "#d8576b"
             ],
             [
              0.6666666666666666,
              "#ed7953"
             ],
             [
              0.7777777777777778,
              "#fb9f3a"
             ],
             [
              0.8888888888888888,
              "#fdca26"
             ],
             [
              1,
              "#f0f921"
             ]
            ],
            "type": "heatmap"
           }
          ],
          "heatmapgl": [
           {
            "colorbar": {
             "outlinewidth": 0,
             "ticks": ""
            },
            "colorscale": [
             [
              0,
              "#0d0887"
             ],
             [
              0.1111111111111111,
              "#46039f"
             ],
             [
              0.2222222222222222,
              "#7201a8"
             ],
             [
              0.3333333333333333,
              "#9c179e"
             ],
             [
              0.4444444444444444,
              "#bd3786"
             ],
             [
              0.5555555555555556,
              "#d8576b"
             ],
             [
              0.6666666666666666,
              "#ed7953"
             ],
             [
              0.7777777777777778,
              "#fb9f3a"
             ],
             [
              0.8888888888888888,
              "#fdca26"
             ],
             [
              1,
              "#f0f921"
             ]
            ],
            "type": "heatmapgl"
           }
          ],
          "histogram": [
           {
            "marker": {
             "pattern": {
              "fillmode": "overlay",
              "size": 10,
              "solidity": 0.2
             }
            },
            "type": "histogram"
           }
          ],
          "histogram2d": [
           {
            "colorbar": {
             "outlinewidth": 0,
             "ticks": ""
            },
            "colorscale": [
             [
              0,
              "#0d0887"
             ],
             [
              0.1111111111111111,
              "#46039f"
             ],
             [
              0.2222222222222222,
              "#7201a8"
             ],
             [
              0.3333333333333333,
              "#9c179e"
             ],
             [
              0.4444444444444444,
              "#bd3786"
             ],
             [
              0.5555555555555556,
              "#d8576b"
             ],
             [
              0.6666666666666666,
              "#ed7953"
             ],
             [
              0.7777777777777778,
              "#fb9f3a"
             ],
             [
              0.8888888888888888,
              "#fdca26"
             ],
             [
              1,
              "#f0f921"
             ]
            ],
            "type": "histogram2d"
           }
          ],
          "histogram2dcontour": [
           {
            "colorbar": {
             "outlinewidth": 0,
             "ticks": ""
            },
            "colorscale": [
             [
              0,
              "#0d0887"
             ],
             [
              0.1111111111111111,
              "#46039f"
             ],
             [
              0.2222222222222222,
              "#7201a8"
             ],
             [
              0.3333333333333333,
              "#9c179e"
             ],
             [
              0.4444444444444444,
              "#bd3786"
             ],
             [
              0.5555555555555556,
              "#d8576b"
             ],
             [
              0.6666666666666666,
              "#ed7953"
             ],
             [
              0.7777777777777778,
              "#fb9f3a"
             ],
             [
              0.8888888888888888,
              "#fdca26"
             ],
             [
              1,
              "#f0f921"
             ]
            ],
            "type": "histogram2dcontour"
           }
          ],
          "mesh3d": [
           {
            "colorbar": {
             "outlinewidth": 0,
             "ticks": ""
            },
            "type": "mesh3d"
           }
          ],
          "parcoords": [
           {
            "line": {
             "colorbar": {
              "outlinewidth": 0,
              "ticks": ""
             }
            },
            "type": "parcoords"
           }
          ],
          "pie": [
           {
            "automargin": true,
            "type": "pie"
           }
          ],
          "scatter": [
           {
            "fillpattern": {
             "fillmode": "overlay",
             "size": 10,
             "solidity": 0.2
            },
            "type": "scatter"
           }
          ],
          "scatter3d": [
           {
            "line": {
             "colorbar": {
              "outlinewidth": 0,
              "ticks": ""
             }
            },
            "marker": {
             "colorbar": {
              "outlinewidth": 0,
              "ticks": ""
             }
            },
            "type": "scatter3d"
           }
          ],
          "scattercarpet": [
           {
            "marker": {
             "colorbar": {
              "outlinewidth": 0,
              "ticks": ""
             }
            },
            "type": "scattercarpet"
           }
          ],
          "scattergeo": [
           {
            "marker": {
             "colorbar": {
              "outlinewidth": 0,
              "ticks": ""
             }
            },
            "type": "scattergeo"
           }
          ],
          "scattergl": [
           {
            "marker": {
             "colorbar": {
              "outlinewidth": 0,
              "ticks": ""
             }
            },
            "type": "scattergl"
           }
          ],
          "scattermapbox": [
           {
            "marker": {
             "colorbar": {
              "outlinewidth": 0,
              "ticks": ""
             }
            },
            "type": "scattermapbox"
           }
          ],
          "scatterpolar": [
           {
            "marker": {
             "colorbar": {
              "outlinewidth": 0,
              "ticks": ""
             }
            },
            "type": "scatterpolar"
           }
          ],
          "scatterpolargl": [
           {
            "marker": {
             "colorbar": {
              "outlinewidth": 0,
              "ticks": ""
             }
            },
            "type": "scatterpolargl"
           }
          ],
          "scatterternary": [
           {
            "marker": {
             "colorbar": {
              "outlinewidth": 0,
              "ticks": ""
             }
            },
            "type": "scatterternary"
           }
          ],
          "surface": [
           {
            "colorbar": {
             "outlinewidth": 0,
             "ticks": ""
            },
            "colorscale": [
             [
              0,
              "#0d0887"
             ],
             [
              0.1111111111111111,
              "#46039f"
             ],
             [
              0.2222222222222222,
              "#7201a8"
             ],
             [
              0.3333333333333333,
              "#9c179e"
             ],
             [
              0.4444444444444444,
              "#bd3786"
             ],
             [
              0.5555555555555556,
              "#d8576b"
             ],
             [
              0.6666666666666666,
              "#ed7953"
             ],
             [
              0.7777777777777778,
              "#fb9f3a"
             ],
             [
              0.8888888888888888,
              "#fdca26"
             ],
             [
              1,
              "#f0f921"
             ]
            ],
            "type": "surface"
           }
          ],
          "table": [
           {
            "cells": {
             "fill": {
              "color": "#EBF0F8"
             },
             "line": {
              "color": "white"
             }
            },
            "header": {
             "fill": {
              "color": "#C8D4E3"
             },
             "line": {
              "color": "white"
             }
            },
            "type": "table"
           }
          ]
         },
         "layout": {
          "annotationdefaults": {
           "arrowcolor": "#2a3f5f",
           "arrowhead": 0,
           "arrowwidth": 1
          },
          "autotypenumbers": "strict",
          "coloraxis": {
           "colorbar": {
            "outlinewidth": 0,
            "ticks": ""
           }
          },
          "colorscale": {
           "diverging": [
            [
             0,
             "#8e0152"
            ],
            [
             0.1,
             "#c51b7d"
            ],
            [
             0.2,
             "#de77ae"
            ],
            [
             0.3,
             "#f1b6da"
            ],
            [
             0.4,
             "#fde0ef"
            ],
            [
             0.5,
             "#f7f7f7"
            ],
            [
             0.6,
             "#e6f5d0"
            ],
            [
             0.7,
             "#b8e186"
            ],
            [
             0.8,
             "#7fbc41"
            ],
            [
             0.9,
             "#4d9221"
            ],
            [
             1,
             "#276419"
            ]
           ],
           "sequential": [
            [
             0,
             "#0d0887"
            ],
            [
             0.1111111111111111,
             "#46039f"
            ],
            [
             0.2222222222222222,
             "#7201a8"
            ],
            [
             0.3333333333333333,
             "#9c179e"
            ],
            [
             0.4444444444444444,
             "#bd3786"
            ],
            [
             0.5555555555555556,
             "#d8576b"
            ],
            [
             0.6666666666666666,
             "#ed7953"
            ],
            [
             0.7777777777777778,
             "#fb9f3a"
            ],
            [
             0.8888888888888888,
             "#fdca26"
            ],
            [
             1,
             "#f0f921"
            ]
           ],
           "sequentialminus": [
            [
             0,
             "#0d0887"
            ],
            [
             0.1111111111111111,
             "#46039f"
            ],
            [
             0.2222222222222222,
             "#7201a8"
            ],
            [
             0.3333333333333333,
             "#9c179e"
            ],
            [
             0.4444444444444444,
             "#bd3786"
            ],
            [
             0.5555555555555556,
             "#d8576b"
            ],
            [
             0.6666666666666666,
             "#ed7953"
            ],
            [
             0.7777777777777778,
             "#fb9f3a"
            ],
            [
             0.8888888888888888,
             "#fdca26"
            ],
            [
             1,
             "#f0f921"
            ]
           ]
          },
          "colorway": [
           "#636efa",
           "#EF553B",
           "#00cc96",
           "#ab63fa",
           "#FFA15A",
           "#19d3f3",
           "#FF6692",
           "#B6E880",
           "#FF97FF",
           "#FECB52"
          ],
          "font": {
           "color": "#2a3f5f"
          },
          "geo": {
           "bgcolor": "white",
           "lakecolor": "white",
           "landcolor": "#E5ECF6",
           "showlakes": true,
           "showland": true,
           "subunitcolor": "white"
          },
          "hoverlabel": {
           "align": "left"
          },
          "hovermode": "closest",
          "mapbox": {
           "style": "light"
          },
          "paper_bgcolor": "white",
          "plot_bgcolor": "#E5ECF6",
          "polar": {
           "angularaxis": {
            "gridcolor": "white",
            "linecolor": "white",
            "ticks": ""
           },
           "bgcolor": "#E5ECF6",
           "radialaxis": {
            "gridcolor": "white",
            "linecolor": "white",
            "ticks": ""
           }
          },
          "scene": {
           "xaxis": {
            "backgroundcolor": "#E5ECF6",
            "gridcolor": "white",
            "gridwidth": 2,
            "linecolor": "white",
            "showbackground": true,
            "ticks": "",
            "zerolinecolor": "white"
           },
           "yaxis": {
            "backgroundcolor": "#E5ECF6",
            "gridcolor": "white",
            "gridwidth": 2,
            "linecolor": "white",
            "showbackground": true,
            "ticks": "",
            "zerolinecolor": "white"
           },
           "zaxis": {
            "backgroundcolor": "#E5ECF6",
            "gridcolor": "white",
            "gridwidth": 2,
            "linecolor": "white",
            "showbackground": true,
            "ticks": "",
            "zerolinecolor": "white"
           }
          },
          "shapedefaults": {
           "line": {
            "color": "#2a3f5f"
           }
          },
          "ternary": {
           "aaxis": {
            "gridcolor": "white",
            "linecolor": "white",
            "ticks": ""
           },
           "baxis": {
            "gridcolor": "white",
            "linecolor": "white",
            "ticks": ""
           },
           "bgcolor": "#E5ECF6",
           "caxis": {
            "gridcolor": "white",
            "linecolor": "white",
            "ticks": ""
           }
          },
          "title": {
           "x": 0.05
          },
          "xaxis": {
           "automargin": true,
           "gridcolor": "white",
           "linecolor": "white",
           "ticks": "",
           "title": {
            "standoff": 15
           },
           "zerolinecolor": "white",
           "zerolinewidth": 2
          },
          "yaxis": {
           "automargin": true,
           "gridcolor": "white",
           "linecolor": "white",
           "ticks": "",
           "title": {
            "standoff": 15
           },
           "zerolinecolor": "white",
           "zerolinewidth": 2
          }
         }
        },
        "title": {
         "text": "Sectoral Data Over Time (Box Plot)",
         "x": 0.5
        },
        "width": 1100,
        "xaxis": {
         "tickangle": -45,
         "tickmode": "array",
         "ticktext": [
          "2013 |",
          "|",
          "|",
          "|",
          "2014 |",
          "|",
          "|",
          "|",
          "2015 |",
          "|",
          "|",
          "|",
          "2016 |",
          "|",
          "|",
          "|",
          "2017 |",
          "|",
          "|",
          "|",
          "2018 |",
          "|",
          "|",
          "|",
          "2019 |",
          "|",
          "|",
          "|",
          "2020 |",
          "|",
          "|",
          "|",
          "2021 |",
          "|",
          "|",
          "|",
          "2022 |",
          "|",
          "|",
          "|",
          "2023 |"
         ],
         "tickvals": [
          "2013-Vierde kwartaal",
          "2014-Eerste kwartaal",
          "2014-Tweede kwartaal",
          "2014-Derde Kwartaal",
          "2014-Vierde kwartaal",
          "2015-Eerste kwartaal",
          "2015-Tweede kwartaal",
          "2015-Derde Kwartaal",
          "2015-Vierde kwartaal",
          "2016-Eerste kwartaal",
          "2016-Tweede kwartaal",
          "2016-Derde Kwartaal",
          "2016-Vierde kwartaal",
          "2017-Eerste kwartaal",
          "2017-Tweede kwartaal",
          "2017-Derde Kwartaal",
          "2017-Vierde kwartaal",
          "2018-Eerste kwartaal",
          "2018-Tweede kwartaal",
          "2018-Derde Kwartaal",
          "2018-Vierde kwartaal",
          "2019-Eerste kwartaal",
          "2019-Tweede kwartaal",
          "2019-Derde Kwartaal",
          "2019-Vierde kwartaal",
          "2020-Eerste kwartaal",
          "2020-Tweede kwartaal",
          "2020-Derde Kwartaal",
          "2020-Vierde kwartaal",
          "2021-Eerste kwartaal",
          "2021-Tweede kwartaal",
          "2021-Derde Kwartaal",
          "2021-Vierde kwartaal",
          "2022-Eerste kwartaal",
          "2022-Tweede kwartaal",
          "2022-Derde Kwartaal",
          "2022-Vierde kwartaal",
          "2023-Eerste kwartaal",
          "2023-Tweede kwartaal",
          "2023-Derde Kwartaal",
          "2023-Vierde kwartaal"
         ],
         "title": {
          "text": "Year_Quarter"
         }
        },
        "yaxis": {
         "title": {
          "text": "Percentage"
         }
        }
       }
      }
     },
     "metadata": {},
     "output_type": "display_data"
    }
   ],
   "source": [
    "fig_box = go.Figure()\n",
    "\n",
    "for col in columns_to_show:\n",
    "    fig_box.add_trace(go.Box(\n",
    "        y=df_cbs[col],\n",
    "        name=col\n",
    "    ))\n",
    "\n",
    "# Update layout\n",
    "fig_box.update_layout(\n",
    "    title='Sectoral Data Over Time (Box Plot)',\n",
    "    xaxis=dict(\n",
    "        tickmode='array',\n",
    "        tickvals=df_cbs['Year_Quarter'],\n",
    "        ticktext=custom_ticks,\n",
    "        tickangle=-45\n",
    "    ),\n",
    "    yaxis_title='Percentage',\n",
    "    xaxis_title='Year_Quarter'\n",
    ")\n",
    "\n",
    "# Adjust layout and margins\n",
    "fig_box.update_layout(\n",
    "    autosize=False,\n",
    "    width=1100,\n",
    "    height=600,\n",
    "    margin=dict(l=50, r=50, b=100, t=100, pad=4),\n",
    "    title={'x': 0.5}\n",
    ")\n",
    "\n",
    "fig_box.show()\n",
    "# Save the figure as an image with increased resolution\n",
    "fig_box.write_image(\"fig_box_plot.png\", scale=2)\n"
   ]
  },
  {
   "cell_type": "code",
   "execution_count": 102,
   "metadata": {},
   "outputs": [
    {
     "data": {
      "application/vnd.plotly.v1+json": {
       "config": {
        "plotlyServerURL": "https://plot.ly"
       },
       "data": [
        {
         "name": "Landbouw, bosbouw en visserij",
         "type": "bar",
         "x": [
          "2013-Vierde kwartaal",
          "2014-Eerste kwartaal",
          "2014-Tweede kwartaal",
          "2014-Derde Kwartaal",
          "2014-Vierde kwartaal",
          "2015-Eerste kwartaal",
          "2015-Tweede kwartaal",
          "2015-Derde Kwartaal",
          "2015-Vierde kwartaal",
          "2016-Eerste kwartaal",
          "2016-Tweede kwartaal",
          "2016-Derde Kwartaal",
          "2016-Vierde kwartaal",
          "2017-Eerste kwartaal",
          "2017-Tweede kwartaal",
          "2017-Derde Kwartaal",
          "2017-Vierde kwartaal",
          "2018-Eerste kwartaal",
          "2018-Tweede kwartaal",
          "2018-Derde Kwartaal",
          "2018-Vierde kwartaal",
          "2019-Eerste kwartaal",
          "2019-Tweede kwartaal",
          "2019-Derde Kwartaal",
          "2019-Vierde kwartaal",
          "2020-Eerste kwartaal",
          "2020-Tweede kwartaal",
          "2020-Derde Kwartaal",
          "2020-Vierde kwartaal",
          "2021-Eerste kwartaal",
          "2021-Tweede kwartaal",
          "2021-Derde Kwartaal",
          "2021-Vierde kwartaal",
          "2022-Eerste kwartaal",
          "2022-Tweede kwartaal",
          "2022-Derde Kwartaal",
          "2022-Vierde kwartaal",
          "2023-Eerste kwartaal",
          "2023-Tweede kwartaal",
          "2023-Derde Kwartaal",
          "2023-Vierde kwartaal"
         ],
         "y": [
          2.8,
          2.4,
          2.3,
          2.5,
          2.9,
          2.9,
          2.5,
          2.7,
          3,
          2.7,
          2.5,
          2.4,
          2.5,
          2.6,
          2.5,
          2.4,
          2.4,
          2.5,
          2.5,
          2.8,
          2.4,
          2.7,
          2.7,
          2.6,
          2.5,
          3,
          3.2,
          3.7,
          3.6,
          3.6,
          3.3,
          3.5,
          3.8,
          4.2,
          4.1,
          3.1,
          3.3,
          3.8,
          3.4,
          3.7,
          3.7
         ]
        },
        {
         "name": "Industrie",
         "type": "bar",
         "x": [
          "2013-Vierde kwartaal",
          "2014-Eerste kwartaal",
          "2014-Tweede kwartaal",
          "2014-Derde Kwartaal",
          "2014-Vierde kwartaal",
          "2015-Eerste kwartaal",
          "2015-Tweede kwartaal",
          "2015-Derde Kwartaal",
          "2015-Vierde kwartaal",
          "2016-Eerste kwartaal",
          "2016-Tweede kwartaal",
          "2016-Derde Kwartaal",
          "2016-Vierde kwartaal",
          "2017-Eerste kwartaal",
          "2017-Tweede kwartaal",
          "2017-Derde Kwartaal",
          "2017-Vierde kwartaal",
          "2018-Eerste kwartaal",
          "2018-Tweede kwartaal",
          "2018-Derde Kwartaal",
          "2018-Vierde kwartaal",
          "2019-Eerste kwartaal",
          "2019-Tweede kwartaal",
          "2019-Derde Kwartaal",
          "2019-Vierde kwartaal",
          "2020-Eerste kwartaal",
          "2020-Tweede kwartaal",
          "2020-Derde Kwartaal",
          "2020-Vierde kwartaal",
          "2021-Eerste kwartaal",
          "2021-Tweede kwartaal",
          "2021-Derde Kwartaal",
          "2021-Vierde kwartaal",
          "2022-Eerste kwartaal",
          "2022-Tweede kwartaal",
          "2022-Derde Kwartaal",
          "2022-Vierde kwartaal",
          "2023-Eerste kwartaal",
          "2023-Tweede kwartaal",
          "2023-Derde Kwartaal",
          "2023-Vierde kwartaal"
         ],
         "y": [
          4.9,
          4.9,
          4.6,
          4.4,
          5.1,
          5.5,
          4.5,
          4.3,
          4.9,
          5.5,
          4.6,
          4.3,
          5,
          5.4,
          4.8,
          4.6,
          5.3,
          6.1,
          5.1,
          5,
          5.4,
          5.8,
          5.3,
          5,
          5.6,
          6.7,
          5.8,
          5.4,
          6.1,
          5.8,
          5.8,
          5.4,
          6.5,
          7.4,
          6.3,
          5.9,
          6.6,
          6.8,
          5.7,
          5.5,
          6.4
         ]
        },
        {
         "name": "Gezondheids- en welzijnszorg",
         "type": "bar",
         "x": [
          "2013-Vierde kwartaal",
          "2014-Eerste kwartaal",
          "2014-Tweede kwartaal",
          "2014-Derde Kwartaal",
          "2014-Vierde kwartaal",
          "2015-Eerste kwartaal",
          "2015-Tweede kwartaal",
          "2015-Derde Kwartaal",
          "2015-Vierde kwartaal",
          "2016-Eerste kwartaal",
          "2016-Tweede kwartaal",
          "2016-Derde Kwartaal",
          "2016-Vierde kwartaal",
          "2017-Eerste kwartaal",
          "2017-Tweede kwartaal",
          "2017-Derde Kwartaal",
          "2017-Vierde kwartaal",
          "2018-Eerste kwartaal",
          "2018-Tweede kwartaal",
          "2018-Derde Kwartaal",
          "2018-Vierde kwartaal",
          "2019-Eerste kwartaal",
          "2019-Tweede kwartaal",
          "2019-Derde Kwartaal",
          "2019-Vierde kwartaal",
          "2020-Eerste kwartaal",
          "2020-Tweede kwartaal",
          "2020-Derde Kwartaal",
          "2020-Vierde kwartaal",
          "2021-Eerste kwartaal",
          "2021-Tweede kwartaal",
          "2021-Derde Kwartaal",
          "2021-Vierde kwartaal",
          "2022-Eerste kwartaal",
          "2022-Tweede kwartaal",
          "2022-Derde Kwartaal",
          "2022-Vierde kwartaal",
          "2023-Eerste kwartaal",
          "2023-Tweede kwartaal",
          "2023-Derde Kwartaal",
          "2023-Vierde kwartaal"
         ],
         "y": [
          4.7,
          5.1,
          4.7,
          4.4,
          5.1,
          5.6,
          4.8,
          4.5,
          5,
          5.8,
          4.9,
          4.6,
          5.3,
          5.7,
          5.1,
          4.9,
          5.6,
          6.5,
          5.4,
          5.1,
          5.8,
          6.1,
          5.7,
          5.3,
          5.9,
          6.6,
          6.1,
          5.9,
          6.9,
          6.8,
          6.5,
          6.3,
          7.5,
          8.9,
          7.5,
          7.1,
          8,
          8.1,
          7,
          6.7,
          7.7
         ]
        },
        {
         "name": "Openbaar bestuur",
         "type": "bar",
         "x": [
          "2013-Vierde kwartaal",
          "2014-Eerste kwartaal",
          "2014-Tweede kwartaal",
          "2014-Derde Kwartaal",
          "2014-Vierde kwartaal",
          "2015-Eerste kwartaal",
          "2015-Tweede kwartaal",
          "2015-Derde Kwartaal",
          "2015-Vierde kwartaal",
          "2016-Eerste kwartaal",
          "2016-Tweede kwartaal",
          "2016-Derde Kwartaal",
          "2016-Vierde kwartaal",
          "2017-Eerste kwartaal",
          "2017-Tweede kwartaal",
          "2017-Derde Kwartaal",
          "2017-Vierde kwartaal",
          "2018-Eerste kwartaal",
          "2018-Tweede kwartaal",
          "2018-Derde Kwartaal",
          "2018-Vierde kwartaal",
          "2019-Eerste kwartaal",
          "2019-Tweede kwartaal",
          "2019-Derde Kwartaal",
          "2019-Vierde kwartaal",
          "2020-Eerste kwartaal",
          "2020-Tweede kwartaal",
          "2020-Derde Kwartaal",
          "2020-Vierde kwartaal",
          "2021-Eerste kwartaal",
          "2021-Tweede kwartaal",
          "2021-Derde Kwartaal",
          "2021-Vierde kwartaal",
          "2022-Eerste kwartaal",
          "2022-Tweede kwartaal",
          "2022-Derde Kwartaal",
          "2022-Vierde kwartaal",
          "2023-Eerste kwartaal",
          "2023-Tweede kwartaal",
          "2023-Derde Kwartaal",
          "2023-Vierde kwartaal"
         ],
         "y": [
          4.9,
          5,
          4.6,
          4.5,
          5.3,
          5.8,
          4.8,
          4.8,
          5.3,
          5.6,
          4.9,
          4.9,
          5.8,
          5.8,
          5.1,
          5,
          5.6,
          6.4,
          5.3,
          5,
          5.5,
          6.1,
          5.2,
          5,
          5.6,
          6.3,
          4.7,
          4.5,
          5,
          5,
          5,
          4.9,
          5.7,
          6.7,
          5.7,
          5.5,
          6.4,
          6.6,
          5.6,
          5.5,
          6.5
         ]
        },
        {
         "name": "Onderwijs",
         "type": "bar",
         "x": [
          "2013-Vierde kwartaal",
          "2014-Eerste kwartaal",
          "2014-Tweede kwartaal",
          "2014-Derde Kwartaal",
          "2014-Vierde kwartaal",
          "2015-Eerste kwartaal",
          "2015-Tweede kwartaal",
          "2015-Derde Kwartaal",
          "2015-Vierde kwartaal",
          "2016-Eerste kwartaal",
          "2016-Tweede kwartaal",
          "2016-Derde Kwartaal",
          "2016-Vierde kwartaal",
          "2017-Eerste kwartaal",
          "2017-Tweede kwartaal",
          "2017-Derde Kwartaal",
          "2017-Vierde kwartaal",
          "2018-Eerste kwartaal",
          "2018-Tweede kwartaal",
          "2018-Derde Kwartaal",
          "2018-Vierde kwartaal",
          "2019-Eerste kwartaal",
          "2019-Tweede kwartaal",
          "2019-Derde Kwartaal",
          "2019-Vierde kwartaal",
          "2020-Eerste kwartaal",
          "2020-Tweede kwartaal",
          "2020-Derde Kwartaal",
          "2020-Vierde kwartaal",
          "2021-Eerste kwartaal",
          "2021-Tweede kwartaal",
          "2021-Derde Kwartaal",
          "2021-Vierde kwartaal",
          "2022-Eerste kwartaal",
          "2022-Tweede kwartaal",
          "2022-Derde Kwartaal",
          "2022-Vierde kwartaal",
          "2023-Eerste kwartaal",
          "2023-Tweede kwartaal",
          "2023-Derde Kwartaal",
          "2023-Vierde kwartaal"
         ],
         "y": [
          4.9,
          5.3,
          4.9,
          4.2,
          5.1,
          5.6,
          4.9,
          4.2,
          5,
          5.5,
          4.9,
          4.1,
          5.1,
          5.4,
          4.9,
          4.2,
          5.1,
          5.9,
          5,
          4.4,
          5.1,
          5.5,
          5.1,
          4.3,
          5.1,
          5.7,
          4.5,
          4.2,
          5,
          4.6,
          4.8,
          4.1,
          5.4,
          6.5,
          5.6,
          4.8,
          5.8,
          6.2,
          5.4,
          4.8,
          5.9
         ]
        },
        {
         "name": "Financiële instellingen",
         "type": "bar",
         "x": [
          "2013-Vierde kwartaal",
          "2014-Eerste kwartaal",
          "2014-Tweede kwartaal",
          "2014-Derde Kwartaal",
          "2014-Vierde kwartaal",
          "2015-Eerste kwartaal",
          "2015-Tweede kwartaal",
          "2015-Derde Kwartaal",
          "2015-Vierde kwartaal",
          "2016-Eerste kwartaal",
          "2016-Tweede kwartaal",
          "2016-Derde Kwartaal",
          "2016-Vierde kwartaal",
          "2017-Eerste kwartaal",
          "2017-Tweede kwartaal",
          "2017-Derde Kwartaal",
          "2017-Vierde kwartaal",
          "2018-Eerste kwartaal",
          "2018-Tweede kwartaal",
          "2018-Derde Kwartaal",
          "2018-Vierde kwartaal",
          "2019-Eerste kwartaal",
          "2019-Tweede kwartaal",
          "2019-Derde Kwartaal",
          "2019-Vierde kwartaal",
          "2020-Eerste kwartaal",
          "2020-Tweede kwartaal",
          "2020-Derde Kwartaal",
          "2020-Vierde kwartaal",
          "2021-Eerste kwartaal",
          "2021-Tweede kwartaal",
          "2021-Derde Kwartaal",
          "2021-Vierde kwartaal",
          "2022-Eerste kwartaal",
          "2022-Tweede kwartaal",
          "2022-Derde Kwartaal",
          "2022-Vierde kwartaal",
          "2023-Eerste kwartaal",
          "2023-Tweede kwartaal",
          "2023-Derde Kwartaal",
          "2023-Vierde kwartaal"
         ],
         "y": [
          2.9,
          3,
          2.9,
          2.7,
          3.2,
          3.4,
          2.6,
          2.5,
          2.9,
          3.4,
          2.7,
          2.8,
          3.1,
          3.4,
          2.7,
          2.5,
          3.3,
          3.3,
          2.6,
          2.5,
          2.9,
          2.8,
          2.7,
          2.5,
          2.8,
          2.9,
          2.5,
          2.6,
          2.8,
          2.8,
          2.7,
          2.8,
          3,
          3.4,
          3.1,
          3,
          3.4,
          3.4,
          3.1,
          3.1,
          3.3
         ]
        },
        {
         "name": "Horeca",
         "type": "bar",
         "x": [
          "2013-Vierde kwartaal",
          "2014-Eerste kwartaal",
          "2014-Tweede kwartaal",
          "2014-Derde Kwartaal",
          "2014-Vierde kwartaal",
          "2015-Eerste kwartaal",
          "2015-Tweede kwartaal",
          "2015-Derde Kwartaal",
          "2015-Vierde kwartaal",
          "2016-Eerste kwartaal",
          "2016-Tweede kwartaal",
          "2016-Derde Kwartaal",
          "2016-Vierde kwartaal",
          "2017-Eerste kwartaal",
          "2017-Tweede kwartaal",
          "2017-Derde Kwartaal",
          "2017-Vierde kwartaal",
          "2018-Eerste kwartaal",
          "2018-Tweede kwartaal",
          "2018-Derde Kwartaal",
          "2018-Vierde kwartaal",
          "2019-Eerste kwartaal",
          "2019-Tweede kwartaal",
          "2019-Derde Kwartaal",
          "2019-Vierde kwartaal",
          "2020-Eerste kwartaal",
          "2020-Tweede kwartaal",
          "2020-Derde Kwartaal",
          "2020-Vierde kwartaal",
          "2021-Eerste kwartaal",
          "2021-Tweede kwartaal",
          "2021-Derde Kwartaal",
          "2021-Vierde kwartaal",
          "2022-Eerste kwartaal",
          "2022-Tweede kwartaal",
          "2022-Derde Kwartaal",
          "2022-Vierde kwartaal",
          "2023-Eerste kwartaal",
          "2023-Tweede kwartaal",
          "2023-Derde Kwartaal",
          "2023-Vierde kwartaal"
         ],
         "y": [
          2.1,
          2.1,
          2,
          2,
          2.2,
          2.1,
          2.1,
          2,
          2,
          2.2,
          2.1,
          2,
          2.3,
          2.3,
          2.2,
          2.2,
          2.3,
          2.3,
          2.3,
          2.3,
          2.2,
          2.7,
          2.6,
          2.6,
          2.8,
          3,
          3,
          4.1,
          4.3,
          3.9,
          3.4,
          4.1,
          4.5,
          6,
          4.3,
          4.1,
          4.3,
          4.3,
          3.9,
          3.6,
          3.9
         ]
        },
        {
         "name": "Nederland (totaal)",
         "type": "bar",
         "x": [
          "2013-Vierde kwartaal",
          "2014-Eerste kwartaal",
          "2014-Tweede kwartaal",
          "2014-Derde Kwartaal",
          "2014-Vierde kwartaal",
          "2015-Eerste kwartaal",
          "2015-Tweede kwartaal",
          "2015-Derde Kwartaal",
          "2015-Vierde kwartaal",
          "2016-Eerste kwartaal",
          "2016-Tweede kwartaal",
          "2016-Derde Kwartaal",
          "2016-Vierde kwartaal",
          "2017-Eerste kwartaal",
          "2017-Tweede kwartaal",
          "2017-Derde Kwartaal",
          "2017-Vierde kwartaal",
          "2018-Eerste kwartaal",
          "2018-Tweede kwartaal",
          "2018-Derde Kwartaal",
          "2018-Vierde kwartaal",
          "2019-Eerste kwartaal",
          "2019-Tweede kwartaal",
          "2019-Derde Kwartaal",
          "2019-Vierde kwartaal",
          "2020-Eerste kwartaal",
          "2020-Tweede kwartaal",
          "2020-Derde Kwartaal",
          "2020-Vierde kwartaal",
          "2021-Eerste kwartaal",
          "2021-Tweede kwartaal",
          "2021-Derde Kwartaal",
          "2021-Vierde kwartaal",
          "2022-Eerste kwartaal",
          "2022-Tweede kwartaal",
          "2022-Derde Kwartaal",
          "2022-Vierde kwartaal",
          "2023-Eerste kwartaal",
          "2023-Tweede kwartaal",
          "2023-Derde Kwartaal",
          "2023-Vierde kwartaal"
         ],
         "y": [
          3.9,
          4,
          3.7,
          3.5,
          4,
          4.4,
          3.7,
          3.5,
          3.9,
          4.3,
          3.8,
          3.5,
          4.1,
          4.3,
          3.9,
          3.7,
          4.2,
          4.9,
          4.1,
          3.9,
          4.3,
          4.7,
          4.3,
          4,
          4.5,
          5.2,
          4.5,
          4.4,
          4.9,
          4.8,
          4.7,
          4.6,
          5.4,
          6.3,
          5.4,
          5,
          5.6,
          5.7,
          5,
          4.8,
          5.5
         ]
        }
       ],
       "layout": {
        "autosize": false,
        "barmode": "group",
        "height": 600,
        "margin": {
         "b": 100,
         "l": 50,
         "pad": 4,
         "r": 50,
         "t": 100
        },
        "template": {
         "data": {
          "bar": [
           {
            "error_x": {
             "color": "#2a3f5f"
            },
            "error_y": {
             "color": "#2a3f5f"
            },
            "marker": {
             "line": {
              "color": "#E5ECF6",
              "width": 0.5
             },
             "pattern": {
              "fillmode": "overlay",
              "size": 10,
              "solidity": 0.2
             }
            },
            "type": "bar"
           }
          ],
          "barpolar": [
           {
            "marker": {
             "line": {
              "color": "#E5ECF6",
              "width": 0.5
             },
             "pattern": {
              "fillmode": "overlay",
              "size": 10,
              "solidity": 0.2
             }
            },
            "type": "barpolar"
           }
          ],
          "carpet": [
           {
            "aaxis": {
             "endlinecolor": "#2a3f5f",
             "gridcolor": "white",
             "linecolor": "white",
             "minorgridcolor": "white",
             "startlinecolor": "#2a3f5f"
            },
            "baxis": {
             "endlinecolor": "#2a3f5f",
             "gridcolor": "white",
             "linecolor": "white",
             "minorgridcolor": "white",
             "startlinecolor": "#2a3f5f"
            },
            "type": "carpet"
           }
          ],
          "choropleth": [
           {
            "colorbar": {
             "outlinewidth": 0,
             "ticks": ""
            },
            "type": "choropleth"
           }
          ],
          "contour": [
           {
            "colorbar": {
             "outlinewidth": 0,
             "ticks": ""
            },
            "colorscale": [
             [
              0,
              "#0d0887"
             ],
             [
              0.1111111111111111,
              "#46039f"
             ],
             [
              0.2222222222222222,
              "#7201a8"
             ],
             [
              0.3333333333333333,
              "#9c179e"
             ],
             [
              0.4444444444444444,
              "#bd3786"
             ],
             [
              0.5555555555555556,
              "#d8576b"
             ],
             [
              0.6666666666666666,
              "#ed7953"
             ],
             [
              0.7777777777777778,
              "#fb9f3a"
             ],
             [
              0.8888888888888888,
              "#fdca26"
             ],
             [
              1,
              "#f0f921"
             ]
            ],
            "type": "contour"
           }
          ],
          "contourcarpet": [
           {
            "colorbar": {
             "outlinewidth": 0,
             "ticks": ""
            },
            "type": "contourcarpet"
           }
          ],
          "heatmap": [
           {
            "colorbar": {
             "outlinewidth": 0,
             "ticks": ""
            },
            "colorscale": [
             [
              0,
              "#0d0887"
             ],
             [
              0.1111111111111111,
              "#46039f"
             ],
             [
              0.2222222222222222,
              "#7201a8"
             ],
             [
              0.3333333333333333,
              "#9c179e"
             ],
             [
              0.4444444444444444,
              "#bd3786"
             ],
             [
              0.5555555555555556,
              "#d8576b"
             ],
             [
              0.6666666666666666,
              "#ed7953"
             ],
             [
              0.7777777777777778,
              "#fb9f3a"
             ],
             [
              0.8888888888888888,
              "#fdca26"
             ],
             [
              1,
              "#f0f921"
             ]
            ],
            "type": "heatmap"
           }
          ],
          "heatmapgl": [
           {
            "colorbar": {
             "outlinewidth": 0,
             "ticks": ""
            },
            "colorscale": [
             [
              0,
              "#0d0887"
             ],
             [
              0.1111111111111111,
              "#46039f"
             ],
             [
              0.2222222222222222,
              "#7201a8"
             ],
             [
              0.3333333333333333,
              "#9c179e"
             ],
             [
              0.4444444444444444,
              "#bd3786"
             ],
             [
              0.5555555555555556,
              "#d8576b"
             ],
             [
              0.6666666666666666,
              "#ed7953"
             ],
             [
              0.7777777777777778,
              "#fb9f3a"
             ],
             [
              0.8888888888888888,
              "#fdca26"
             ],
             [
              1,
              "#f0f921"
             ]
            ],
            "type": "heatmapgl"
           }
          ],
          "histogram": [
           {
            "marker": {
             "pattern": {
              "fillmode": "overlay",
              "size": 10,
              "solidity": 0.2
             }
            },
            "type": "histogram"
           }
          ],
          "histogram2d": [
           {
            "colorbar": {
             "outlinewidth": 0,
             "ticks": ""
            },
            "colorscale": [
             [
              0,
              "#0d0887"
             ],
             [
              0.1111111111111111,
              "#46039f"
             ],
             [
              0.2222222222222222,
              "#7201a8"
             ],
             [
              0.3333333333333333,
              "#9c179e"
             ],
             [
              0.4444444444444444,
              "#bd3786"
             ],
             [
              0.5555555555555556,
              "#d8576b"
             ],
             [
              0.6666666666666666,
              "#ed7953"
             ],
             [
              0.7777777777777778,
              "#fb9f3a"
             ],
             [
              0.8888888888888888,
              "#fdca26"
             ],
             [
              1,
              "#f0f921"
             ]
            ],
            "type": "histogram2d"
           }
          ],
          "histogram2dcontour": [
           {
            "colorbar": {
             "outlinewidth": 0,
             "ticks": ""
            },
            "colorscale": [
             [
              0,
              "#0d0887"
             ],
             [
              0.1111111111111111,
              "#46039f"
             ],
             [
              0.2222222222222222,
              "#7201a8"
             ],
             [
              0.3333333333333333,
              "#9c179e"
             ],
             [
              0.4444444444444444,
              "#bd3786"
             ],
             [
              0.5555555555555556,
              "#d8576b"
             ],
             [
              0.6666666666666666,
              "#ed7953"
             ],
             [
              0.7777777777777778,
              "#fb9f3a"
             ],
             [
              0.8888888888888888,
              "#fdca26"
             ],
             [
              1,
              "#f0f921"
             ]
            ],
            "type": "histogram2dcontour"
           }
          ],
          "mesh3d": [
           {
            "colorbar": {
             "outlinewidth": 0,
             "ticks": ""
            },
            "type": "mesh3d"
           }
          ],
          "parcoords": [
           {
            "line": {
             "colorbar": {
              "outlinewidth": 0,
              "ticks": ""
             }
            },
            "type": "parcoords"
           }
          ],
          "pie": [
           {
            "automargin": true,
            "type": "pie"
           }
          ],
          "scatter": [
           {
            "fillpattern": {
             "fillmode": "overlay",
             "size": 10,
             "solidity": 0.2
            },
            "type": "scatter"
           }
          ],
          "scatter3d": [
           {
            "line": {
             "colorbar": {
              "outlinewidth": 0,
              "ticks": ""
             }
            },
            "marker": {
             "colorbar": {
              "outlinewidth": 0,
              "ticks": ""
             }
            },
            "type": "scatter3d"
           }
          ],
          "scattercarpet": [
           {
            "marker": {
             "colorbar": {
              "outlinewidth": 0,
              "ticks": ""
             }
            },
            "type": "scattercarpet"
           }
          ],
          "scattergeo": [
           {
            "marker": {
             "colorbar": {
              "outlinewidth": 0,
              "ticks": ""
             }
            },
            "type": "scattergeo"
           }
          ],
          "scattergl": [
           {
            "marker": {
             "colorbar": {
              "outlinewidth": 0,
              "ticks": ""
             }
            },
            "type": "scattergl"
           }
          ],
          "scattermapbox": [
           {
            "marker": {
             "colorbar": {
              "outlinewidth": 0,
              "ticks": ""
             }
            },
            "type": "scattermapbox"
           }
          ],
          "scatterpolar": [
           {
            "marker": {
             "colorbar": {
              "outlinewidth": 0,
              "ticks": ""
             }
            },
            "type": "scatterpolar"
           }
          ],
          "scatterpolargl": [
           {
            "marker": {
             "colorbar": {
              "outlinewidth": 0,
              "ticks": ""
             }
            },
            "type": "scatterpolargl"
           }
          ],
          "scatterternary": [
           {
            "marker": {
             "colorbar": {
              "outlinewidth": 0,
              "ticks": ""
             }
            },
            "type": "scatterternary"
           }
          ],
          "surface": [
           {
            "colorbar": {
             "outlinewidth": 0,
             "ticks": ""
            },
            "colorscale": [
             [
              0,
              "#0d0887"
             ],
             [
              0.1111111111111111,
              "#46039f"
             ],
             [
              0.2222222222222222,
              "#7201a8"
             ],
             [
              0.3333333333333333,
              "#9c179e"
             ],
             [
              0.4444444444444444,
              "#bd3786"
             ],
             [
              0.5555555555555556,
              "#d8576b"
             ],
             [
              0.6666666666666666,
              "#ed7953"
             ],
             [
              0.7777777777777778,
              "#fb9f3a"
             ],
             [
              0.8888888888888888,
              "#fdca26"
             ],
             [
              1,
              "#f0f921"
             ]
            ],
            "type": "surface"
           }
          ],
          "table": [
           {
            "cells": {
             "fill": {
              "color": "#EBF0F8"
             },
             "line": {
              "color": "white"
             }
            },
            "header": {
             "fill": {
              "color": "#C8D4E3"
             },
             "line": {
              "color": "white"
             }
            },
            "type": "table"
           }
          ]
         },
         "layout": {
          "annotationdefaults": {
           "arrowcolor": "#2a3f5f",
           "arrowhead": 0,
           "arrowwidth": 1
          },
          "autotypenumbers": "strict",
          "coloraxis": {
           "colorbar": {
            "outlinewidth": 0,
            "ticks": ""
           }
          },
          "colorscale": {
           "diverging": [
            [
             0,
             "#8e0152"
            ],
            [
             0.1,
             "#c51b7d"
            ],
            [
             0.2,
             "#de77ae"
            ],
            [
             0.3,
             "#f1b6da"
            ],
            [
             0.4,
             "#fde0ef"
            ],
            [
             0.5,
             "#f7f7f7"
            ],
            [
             0.6,
             "#e6f5d0"
            ],
            [
             0.7,
             "#b8e186"
            ],
            [
             0.8,
             "#7fbc41"
            ],
            [
             0.9,
             "#4d9221"
            ],
            [
             1,
             "#276419"
            ]
           ],
           "sequential": [
            [
             0,
             "#0d0887"
            ],
            [
             0.1111111111111111,
             "#46039f"
            ],
            [
             0.2222222222222222,
             "#7201a8"
            ],
            [
             0.3333333333333333,
             "#9c179e"
            ],
            [
             0.4444444444444444,
             "#bd3786"
            ],
            [
             0.5555555555555556,
             "#d8576b"
            ],
            [
             0.6666666666666666,
             "#ed7953"
            ],
            [
             0.7777777777777778,
             "#fb9f3a"
            ],
            [
             0.8888888888888888,
             "#fdca26"
            ],
            [
             1,
             "#f0f921"
            ]
           ],
           "sequentialminus": [
            [
             0,
             "#0d0887"
            ],
            [
             0.1111111111111111,
             "#46039f"
            ],
            [
             0.2222222222222222,
             "#7201a8"
            ],
            [
             0.3333333333333333,
             "#9c179e"
            ],
            [
             0.4444444444444444,
             "#bd3786"
            ],
            [
             0.5555555555555556,
             "#d8576b"
            ],
            [
             0.6666666666666666,
             "#ed7953"
            ],
            [
             0.7777777777777778,
             "#fb9f3a"
            ],
            [
             0.8888888888888888,
             "#fdca26"
            ],
            [
             1,
             "#f0f921"
            ]
           ]
          },
          "colorway": [
           "#636efa",
           "#EF553B",
           "#00cc96",
           "#ab63fa",
           "#FFA15A",
           "#19d3f3",
           "#FF6692",
           "#B6E880",
           "#FF97FF",
           "#FECB52"
          ],
          "font": {
           "color": "#2a3f5f"
          },
          "geo": {
           "bgcolor": "white",
           "lakecolor": "white",
           "landcolor": "#E5ECF6",
           "showlakes": true,
           "showland": true,
           "subunitcolor": "white"
          },
          "hoverlabel": {
           "align": "left"
          },
          "hovermode": "closest",
          "mapbox": {
           "style": "light"
          },
          "paper_bgcolor": "white",
          "plot_bgcolor": "#E5ECF6",
          "polar": {
           "angularaxis": {
            "gridcolor": "white",
            "linecolor": "white",
            "ticks": ""
           },
           "bgcolor": "#E5ECF6",
           "radialaxis": {
            "gridcolor": "white",
            "linecolor": "white",
            "ticks": ""
           }
          },
          "scene": {
           "xaxis": {
            "backgroundcolor": "#E5ECF6",
            "gridcolor": "white",
            "gridwidth": 2,
            "linecolor": "white",
            "showbackground": true,
            "ticks": "",
            "zerolinecolor": "white"
           },
           "yaxis": {
            "backgroundcolor": "#E5ECF6",
            "gridcolor": "white",
            "gridwidth": 2,
            "linecolor": "white",
            "showbackground": true,
            "ticks": "",
            "zerolinecolor": "white"
           },
           "zaxis": {
            "backgroundcolor": "#E5ECF6",
            "gridcolor": "white",
            "gridwidth": 2,
            "linecolor": "white",
            "showbackground": true,
            "ticks": "",
            "zerolinecolor": "white"
           }
          },
          "shapedefaults": {
           "line": {
            "color": "#2a3f5f"
           }
          },
          "ternary": {
           "aaxis": {
            "gridcolor": "white",
            "linecolor": "white",
            "ticks": ""
           },
           "baxis": {
            "gridcolor": "white",
            "linecolor": "white",
            "ticks": ""
           },
           "bgcolor": "#E5ECF6",
           "caxis": {
            "gridcolor": "white",
            "linecolor": "white",
            "ticks": ""
           }
          },
          "title": {
           "x": 0.05
          },
          "xaxis": {
           "automargin": true,
           "gridcolor": "white",
           "linecolor": "white",
           "ticks": "",
           "title": {
            "standoff": 15
           },
           "zerolinecolor": "white",
           "zerolinewidth": 2
          },
          "yaxis": {
           "automargin": true,
           "gridcolor": "white",
           "linecolor": "white",
           "ticks": "",
           "title": {
            "standoff": 15
           },
           "zerolinecolor": "white",
           "zerolinewidth": 2
          }
         }
        },
        "title": {
         "text": "Sectoral Data Over Time (Bar Chart)",
         "x": 0.5
        },
        "width": 1100,
        "xaxis": {
         "tickangle": -45,
         "tickmode": "array",
         "ticktext": [
          "2013 |",
          "|",
          "|",
          "|",
          "2014 |",
          "|",
          "|",
          "|",
          "2015 |",
          "|",
          "|",
          "|",
          "2016 |",
          "|",
          "|",
          "|",
          "2017 |",
          "|",
          "|",
          "|",
          "2018 |",
          "|",
          "|",
          "|",
          "2019 |",
          "|",
          "|",
          "|",
          "2020 |",
          "|",
          "|",
          "|",
          "2021 |",
          "|",
          "|",
          "|",
          "2022 |",
          "|",
          "|",
          "|",
          "2023 |"
         ],
         "tickvals": [
          "2013-Vierde kwartaal",
          "2014-Eerste kwartaal",
          "2014-Tweede kwartaal",
          "2014-Derde Kwartaal",
          "2014-Vierde kwartaal",
          "2015-Eerste kwartaal",
          "2015-Tweede kwartaal",
          "2015-Derde Kwartaal",
          "2015-Vierde kwartaal",
          "2016-Eerste kwartaal",
          "2016-Tweede kwartaal",
          "2016-Derde Kwartaal",
          "2016-Vierde kwartaal",
          "2017-Eerste kwartaal",
          "2017-Tweede kwartaal",
          "2017-Derde Kwartaal",
          "2017-Vierde kwartaal",
          "2018-Eerste kwartaal",
          "2018-Tweede kwartaal",
          "2018-Derde Kwartaal",
          "2018-Vierde kwartaal",
          "2019-Eerste kwartaal",
          "2019-Tweede kwartaal",
          "2019-Derde Kwartaal",
          "2019-Vierde kwartaal",
          "2020-Eerste kwartaal",
          "2020-Tweede kwartaal",
          "2020-Derde Kwartaal",
          "2020-Vierde kwartaal",
          "2021-Eerste kwartaal",
          "2021-Tweede kwartaal",
          "2021-Derde Kwartaal",
          "2021-Vierde kwartaal",
          "2022-Eerste kwartaal",
          "2022-Tweede kwartaal",
          "2022-Derde Kwartaal",
          "2022-Vierde kwartaal",
          "2023-Eerste kwartaal",
          "2023-Tweede kwartaal",
          "2023-Derde Kwartaal",
          "2023-Vierde kwartaal"
         ],
         "title": {
          "text": "Year_Quarter"
         }
        },
        "yaxis": {
         "title": {
          "text": "Percentage"
         }
        }
       }
      }
     },
     "metadata": {},
     "output_type": "display_data"
    }
   ],
   "source": [
    "fig_bar = go.Figure()\n",
    "\n",
    "for col in columns_to_show:\n",
    "    fig_bar.add_trace(go.Bar(\n",
    "        x=df_cbs['Year_Quarter'],\n",
    "        y=df_cbs[col],\n",
    "        name=col\n",
    "    ))\n",
    "\n",
    "# Update layout\n",
    "fig_bar.update_layout(\n",
    "    barmode='group',\n",
    "    title='Sectoral Data Over Time (Bar Chart)',\n",
    "    xaxis=dict(\n",
    "        tickmode='array',\n",
    "        tickvals=df_cbs['Year_Quarter'],\n",
    "        ticktext=custom_ticks,\n",
    "        tickangle=-45\n",
    "    ),\n",
    "    yaxis_title='Percentage',\n",
    "    xaxis_title='Year_Quarter'\n",
    ")\n",
    "\n",
    "# Adjust layout and margins\n",
    "fig_bar.update_layout(\n",
    "    autosize=False,\n",
    "    width=1100,\n",
    "    height=600,\n",
    "    margin=dict(l=50, r=50, b=100, t=100, pad=4),\n",
    "    title={'x': 0.5}\n",
    ")\n",
    "\n",
    "fig_bar.show()\n",
    "# Save the figure as an image with increased resolution\n",
    "fig_bar.write_image(\"fig_bar_plot.png\", scale=2)\n"
   ]
  }
 ],
 "metadata": {
  "kernelspec": {
   "display_name": "Python 3",
   "language": "python",
   "name": "python3"
  },
  "language_info": {
   "codemirror_mode": {
    "name": "ipython",
    "version": 3
   },
   "file_extension": ".py",
   "mimetype": "text/x-python",
   "name": "python",
   "nbconvert_exporter": "python",
   "pygments_lexer": "ipython3",
   "version": "3.10.11"
  }
 },
 "nbformat": 4,
 "nbformat_minor": 2
}
