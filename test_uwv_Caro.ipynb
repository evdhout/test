{
 "cells": [
  {
   "cell_type": "code",
   "execution_count": null,
   "metadata": {},
   "outputs": [],
   "source": [
    "import pandas as pd\n",
    "import plotly.express as px"
   ]
  },
  {
   "cell_type": "code",
   "execution_count": null,
   "metadata": {},
   "outputs": [],
   "source": [
    "df = pd.read_csv('Data/Ziekteverzuimpercentage_SBI_2008_30042024_104219.csv', sep=';')\n",
    "df.head()"
   ]
  },
  {
   "cell_type": "code",
   "execution_count": null,
   "metadata": {},
   "outputs": [],
   "source": [
    "fig = px.line(df, x=\"Perioden\", y=\"Ziekteverzuimpercentage\", color='Jaar')\n",
    "fig.update_yaxes(range=[3, 7])\n",
    "fig.update_layout(\n",
    "    height=400,  # pas de hoogte van de plot aan\n",
    "    width=800,   # pas de breedte van de plot aan\n",
    "    title=\"CBS Ziekteverzuimpercentage per jaar en kwartaal\",  # pas de titel van de plot aan\n",
    "    xaxis_title=\"Perioden\",  # pas de titel van de x-as aan\n",
    "    yaxis_title=\"Ziekteverzuimpercentage (%)\",  # pas de titel van de y-as aan\n",
    ")\n",
    "\n",
    "fig.show()"
   ]
  },
  {
   "cell_type": "code",
   "execution_count": null,
   "metadata": {},
   "outputs": [],
   "source": [
    "fig.write_image(\"CBS_ziekteverzuim.png\")"
   ]
  },
  {
   "cell_type": "code",
   "execution_count": null,
   "metadata": {},
   "outputs": [],
   "source": []
  }
 ],
 "metadata": {
  "kernelspec": {
   "display_name": "Python 3",
   "language": "python",
   "name": "python3"
  },
  "language_info": {
   "codemirror_mode": {
    "name": "ipython",
    "version": 3
   },
   "file_extension": ".py",
   "mimetype": "text/x-python",
   "name": "python",
   "nbconvert_exporter": "python",
   "pygments_lexer": "ipython3",
   "version": "3.10.11"
  }
 },
 "nbformat": 4,
 "nbformat_minor": 2
}
