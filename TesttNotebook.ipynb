{
 "cells": [
  {
   "cell_type": "code",
   "execution_count": null,
   "id": "40c5e6b6-a594-4305-958d-a322560fe936",
   "metadata": {},
   "outputs": [],
   "source": [
    "import math\n",
    "import matplotlib.pyplot as plt\n",
    "import numpy as np"
   ]
  },
  {
   "cell_type": "code",
   "execution_count": null,
   "id": "5e9f18f1-be4e-4738-9bdd-910c677f3108",
   "metadata": {},
   "outputs": [],
   "source": [
    "print(math.pi)"
   ]
  },
  {
   "cell_type": "code",
   "execution_count": null,
   "id": "00c85d1f-4aa7-48b4-8f15-e10c7296b042",
   "metadata": {},
   "outputs": [],
   "source": [
    "xpoints = np.array([0,1])\n",
    "ypoints = np.array([0, math.pi])"
   ]
  },
  {
   "cell_type": "code",
   "execution_count": null,
   "id": "7e98de17-270c-4557-a0b3-05901dac81bd",
   "metadata": {},
   "outputs": [],
   "source": [
    "plt.plot(xpoints, ypoints)\n",
    "plt.show()"
   ]
  },
  {
   "cell_type": "code",
   "execution_count": null,
   "id": "3030ee56-839a-427d-b517-ba34a01ba4bb",
   "metadata": {},
   "outputs": [],
   "source": []
  }
 ],
 "metadata": {
  "kernelspec": {
   "display_name": "Python 3 (ipykernel)",
   "language": "python",
   "name": "python3"
  },
  "language_info": {
   "codemirror_mode": {
    "name": "ipython",
    "version": 3
   },
   "file_extension": ".py",
   "mimetype": "text/x-python",
   "name": "python",
   "nbconvert_exporter": "python",
   "pygments_lexer": "ipython3",
   "version": "3.11.9"
  }
 },
 "nbformat": 4,
 "nbformat_minor": 5
}
