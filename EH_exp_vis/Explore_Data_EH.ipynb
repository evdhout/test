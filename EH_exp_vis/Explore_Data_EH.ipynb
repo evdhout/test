{
 "cells": [
  {
   "cell_type": "code",
   "execution_count": null,
   "id": "initial_id",
   "metadata": {
    "ExecuteTime": {
     "end_time": "2024-05-11T07:31:49.987785Z",
     "start_time": "2024-05-11T07:31:49.985586Z"
    }
   },
   "outputs": [],
   "source": [
    "import pandas as pd\n",
    "import numpy as np\n",
    "import altair as alt\n",
    "\n",
    "alt.renderers.enable('png')"
   ]
  },
  {
   "cell_type": "markdown",
   "id": "fe1172e3eb42ec19",
   "metadata": {},
   "source": [
    "# UWV Exploratory Analysis"
   ]
  },
  {
   "cell_type": "markdown",
   "id": "450522d6ec4a5451",
   "metadata": {},
   "source": [
    "Read classification information\n",
    "\n",
    "According to the metadata, there are types of data on sick leave percentages:\n",
    "\n",
    "- Accumulated over all economic activities\n",
    "- Split into different sectors using SBI 2008\n",
    "- Split on company size (1-10, 10-100 and 100+)\n",
    "\n"
   ]
  },
  {
   "cell_type": "code",
   "execution_count": null,
   "id": "a1502645387b155e",
   "metadata": {
    "ExecuteTime": {
     "end_time": "2024-05-11T07:31:50.028459Z",
     "start_time": "2024-05-11T07:31:50.021791Z"
    }
   },
   "outputs": [],
   "source": [
    "classification = pd.read_csv('data/classificatie.csv', sep=';')\n",
    "classification.info()\n",
    "\n",
    "classification['Key'] = classification['Key'].astype('category');\n",
    "classification.info()\n"
   ]
  },
  {
   "cell_type": "code",
   "execution_count": null,
   "id": "8954cf24bf6c476b",
   "metadata": {
    "ExecuteTime": {
     "end_time": "2024-05-11T07:31:50.033890Z",
     "start_time": "2024-05-11T07:31:50.029581Z"
    }
   },
   "outputs": [],
   "source": [
    "classification"
   ]
  },
  {
   "cell_type": "markdown",
   "id": "f256bbf913958ea3",
   "metadata": {},
   "source": [
    "So we need to make a tree out of this with T001081 at the top\n",
    "\n",
    "```Tree\n",
    "T001081\n",
    "+> 301000\n",
    "+> 300003\n",
    "   +>305700\n",
    "   +>307500\n"
   ]
  },
  {
   "cell_type": "code",
   "execution_count": null,
   "id": "7f4f148087979d4e",
   "metadata": {
    "ExecuteTime": {
     "end_time": "2024-05-11T07:31:50.036043Z",
     "start_time": "2024-05-11T07:31:50.034680Z"
    }
   },
   "outputs": [],
   "source": []
  },
  {
   "cell_type": "markdown",
   "id": "ca65537047d54f4c",
   "metadata": {},
   "source": [
    "\n",
    "## Read data\n",
    "\n",
    "The CSV file contains four columns (ID, BedrijfskenmerkenSBI2008, Perioden and Ziekteverzuimpercentage_1)\n",
    "There are rows with only a spaces and a period which seem to indicate missing data."
   ]
  },
  {
   "cell_type": "code",
   "execution_count": null,
   "id": "834285a925f94b08",
   "metadata": {
    "ExecuteTime": {
     "end_time": "2024-05-11T07:31:50.043126Z",
     "start_time": "2024-05-11T07:31:50.037333Z"
    }
   },
   "outputs": [],
   "source": [
    "uwv = pd.read_csv('data/80072ned_UntypedDataSet_10052024_144733.csv', sep=';', na_values='       .')\n",
    "\n",
    "uwv.info()"
   ]
  },
  {
   "cell_type": "markdown",
   "id": "264c3da5f60fc2ca",
   "metadata": {},
   "source": [
    "\n",
    "## Data fixing\n",
    "\n",
    "Split the \"Perioden\" into three columns: Jaar (Year), RijType (is this row a quarterly row), Volgnummer (for quarterly rows, this indicates which quarter)."
   ]
  },
  {
   "cell_type": "code",
   "execution_count": null,
   "id": "80dd9035c6ad1603",
   "metadata": {
    "ExecuteTime": {
     "end_time": "2024-05-11T07:31:50.070165Z",
     "start_time": "2024-05-11T07:31:50.043679Z"
    }
   },
   "outputs": [],
   "source": [
    "uwv[['Jaar', 'VerzuimType', 'Kwartaalnummer']] = uwv['Perioden'].str.extract(r'(\\d+)(KW|JJ)(\\d+)', expand=True)\n",
    "\n",
    "uwv['Jaar'] = uwv['Jaar'].astype(int)\n",
    "uwv['Kwartaalnummer'] = uwv['Kwartaalnummer'].astype(int)\n",
    "uwv['VerzuimType'] = uwv['VerzuimType'].astype('category')\n",
    "\n",
    "uwv['Kwartaal'] = uwv.apply(lambda row: row['Jaar'] * 10 + row['Kwartaalnummer'], axis=1)\n",
    "\n",
    "uwv['BedrijfskenmerkenSBI2008'] = uwv['BedrijfskenmerkenSBI2008'].astype('category')\n",
    "\n",
    "uwv"
   ]
  },
  {
   "cell_type": "code",
   "execution_count": null,
   "id": "dcaf4b7b8f017d1a",
   "metadata": {
    "ExecuteTime": {
     "end_time": "2024-05-11T07:31:50.072238Z",
     "start_time": "2024-05-11T07:31:50.070925Z"
    }
   },
   "outputs": [],
   "source": [
    "\n"
   ]
  },
  {
   "cell_type": "markdown",
   "id": "1e2b6f7d565da31c",
   "metadata": {},
   "source": [
    "## Get train and test\n",
    "\n",
    "We will use 2022 and up as the final test data.\n",
    "All prior tot 2022 will be training data. To test the trained model, we wil use 2021. So we get three splits:\n",
    "\n",
    "- All data prior to 2021 is the real train data. This is the data to perform exploratory data analysis on. \n",
    "- All data from 2021 wil be the test set to test our trained models on. \n",
    "- When we are really done, 2022 and onwards will be the final test set. \n",
    "\n",
    "Additionally, we will only use the quarterly numbers (Verzuimtype = 'KW')"
   ]
  },
  {
   "cell_type": "code",
   "execution_count": null,
   "id": "4d5c6092ede5061b",
   "metadata": {
    "ExecuteTime": {
     "end_time": "2024-05-11T07:31:50.076158Z",
     "start_time": "2024-05-11T07:31:50.072772Z"
    }
   },
   "outputs": [],
   "source": [
    "uwv_test = uwv[(uwv['Jaar'] >= 2022) & (uwv['VerzuimType'] == 'KW')]\n",
    "uwv_train = uwv[(uwv['Jaar'] < 2021) & (uwv['VerzuimType'] == 'KW')]\n",
    "uwv_train_test = uwv[(uwv['Jaar'] == 2021) & (uwv['VerzuimType'] == 'KW')]"
   ]
  },
  {
   "cell_type": "code",
   "execution_count": null,
   "id": "3d0fba546fd82b79",
   "metadata": {
    "ExecuteTime": {
     "end_time": "2024-05-11T07:31:50.081121Z",
     "start_time": "2024-05-11T07:31:50.077473Z"
    }
   },
   "outputs": [],
   "source": [
    "uwv_train.info()"
   ]
  },
  {
   "cell_type": "code",
   "execution_count": null,
   "id": "3028b99e8d94d58d",
   "metadata": {
    "ExecuteTime": {
     "end_time": "2024-05-11T07:31:50.083983Z",
     "start_time": "2024-05-11T07:31:50.081726Z"
    }
   },
   "outputs": [],
   "source": [
    "uwv_train_2012plus = uwv_train[uwv_train['Jaar'] > 2012]"
   ]
  },
  {
   "cell_type": "code",
   "execution_count": null,
   "id": "917b04cc43171495",
   "metadata": {
    "ExecuteTime": {
     "end_time": "2024-05-11T07:31:50.103441Z",
     "start_time": "2024-05-11T07:31:50.084507Z"
    }
   },
   "outputs": [],
   "source": [
    "alt.Chart(uwv_train_2012plus).mark_point().encode(\n",
    "    x='Perioden', \n",
    "    y='Ziekteverzuimpercentage_1',\n",
    "    color='BedrijfskenmerkenSBI2008'\n",
    ")"
   ]
  },
  {
   "cell_type": "code",
   "execution_count": null,
   "id": "b79a24b4bc484f00",
   "metadata": {
    "ExecuteTime": {
     "end_time": "2024-05-11T07:31:50.121641Z",
     "start_time": "2024-05-11T07:31:50.104574Z"
    }
   },
   "outputs": [],
   "source": [
    "alt.Chart(uwv_train_2012plus).mark_boxplot().encode(\n",
    "    x='Perioden',\n",
    "    y='Ziekteverzuimpercentage_1',\n",
    ")"
   ]
  },
  {
   "cell_type": "code",
   "execution_count": null,
   "id": "fcce2a3690f67d3d",
   "metadata": {
    "ExecuteTime": {
     "end_time": "2024-05-11T07:31:50.134335Z",
     "start_time": "2024-05-11T07:31:50.122674Z"
    }
   },
   "outputs": [],
   "source": [
    "alt.Chart(uwv_train_2012plus[uwv_train_2012plus['BedrijfskenmerkenSBI2008']=='T001081']).mark_line().encode(\n",
    "    x='Kwartaalnummer',\n",
    "    y='Ziekteverzuimpercentage_1',\n",
    "    color='Jaar'\n",
    ").properties(title='Seasonality of T001081 sick leave %')"
   ]
  },
  {
   "cell_type": "code",
   "execution_count": null,
   "id": "bd558a39be0ceb46",
   "metadata": {
    "ExecuteTime": {
     "end_time": "2024-05-11T07:31:50.168138Z",
     "start_time": "2024-05-11T07:31:50.135117Z"
    }
   },
   "outputs": [],
   "source": [
    "alt.Chart(uwv_train_2012plus[uwv_train_2012plus['Kwartaalnummer'] == 1]).mark_point().encode(\n",
    "    y='Ziekteverzuimpercentage_1',\n",
    "    color='Jaar'\n",
    ") | alt.Chart(uwv_train_2012plus[uwv_train_2012plus['Kwartaalnummer'] == 2]).mark_point().encode(\n",
    "    y='Ziekteverzuimpercentage_1',\n",
    "    color='Jaar'\n",
    ") | alt.Chart(uwv_train_2012plus[uwv_train_2012plus['Kwartaalnummer'] == 3]).mark_point().encode(\n",
    "    y='Ziekteverzuimpercentage_1',\n",
    "    color='Jaar'\n",
    ") | alt.Chart(uwv_train_2012plus[uwv_train_2012plus['Kwartaalnummer'] == 4]).mark_point().encode(\n",
    "    y='Ziekteverzuimpercentage_1',\n",
    "    color='Jaar'\n",
    ")"
   ]
  },
  {
   "cell_type": "code",
   "execution_count": null,
   "id": "5d3c122b70b3ef1a",
   "metadata": {
    "ExecuteTime": {
     "end_time": "2024-05-11T07:31:50.187751Z",
     "start_time": "2024-05-11T07:31:50.176925Z"
    }
   },
   "outputs": [],
   "source": [
    "\n",
    "alt.Chart(uwv_train_2012plus[uwv_train_2012plus['BedrijfskenmerkenSBI2008']=='T001081']).mark_point().encode(\n",
    "    x=alt.X(alt.repeat(\"column\"), type='ordinal'),\n",
    "    y='Ziekteverzuimpercentage_1',\n",
    "    color='Jaar'\n",
    ").repeat(\n",
    "    row=['Kwartaalnummer']\n",
    ").properties(\n",
    "    title='Seasonality of T001081 sick leave %'\n",
    ")"
   ]
  },
  {
   "cell_type": "code",
   "execution_count": null,
   "id": "26c07b640a1fa2e9",
   "metadata": {
    "ExecuteTime": {
     "end_time": "2024-05-11T07:31:50.278972Z",
     "start_time": "2024-05-11T07:31:50.210093Z"
    }
   },
   "outputs": [],
   "source": [
    "alt.Chart(uwv_train_2012plus[uwv_train_2012plus['Kwartaalnummer'] == 1]).mark_point().encode(\n",
    "    x='Perioden',\n",
    "    y='Ziekteverzuimpercentage_1',\n",
    "    color='Jaar'\n",
    ") | alt.Chart(uwv_train_2012plus[uwv_train_2012plus['Kwartaalnummer'] == 2]).mark_point().encode(\n",
    "    x='Perioden',\n",
    "    y='Ziekteverzuimpercentage_1',\n",
    "    color='Jaar'\n",
    ") | alt.Chart(uwv_train_2012plus[uwv_train_2012plus['Kwartaalnummer'] == 3]).mark_point().encode(\n",
    "    x='Perioden',\n",
    "    y='Ziekteverzuimpercentage_1',\n",
    "    color='Jaar'\n",
    ") | alt.Chart(uwv_train_2012plus[uwv_train_2012plus['Kwartaalnummer'] == 4]).mark_point().encode(\n",
    "    x='Perioden',\n",
    "    y='Ziekteverzuimpercentage_1',\n",
    "    color='Jaar'\n",
    ")"
   ]
  },
  {
   "cell_type": "code",
   "execution_count": null,
   "id": "5ea0131c26725ff7",
   "metadata": {
    "ExecuteTime": {
     "end_time": "2024-05-11T07:31:50.286608Z",
     "start_time": "2024-05-11T07:31:50.280079Z"
    }
   },
   "outputs": [],
   "source": [
    "uwv_train_2012plus_T = uwv_train_2012plus[uwv_train_2012plus['BedrijfskenmerkenSBI2008'] == 'T001081']\n",
    "uwv_train_2012plus_T"
   ]
  },
  {
   "cell_type": "code",
   "execution_count": null,
   "id": "bb2e666837434cf8",
   "metadata": {
    "ExecuteTime": {
     "end_time": "2024-05-11T07:31:50.322709Z",
     "start_time": "2024-05-11T07:31:50.287494Z"
    }
   },
   "outputs": [],
   "source": [
    "\n",
    "alt.Chart(uwv_train_2012plus_T[(uwv_train_2012plus_T['Kwartaalnummer'] == 1) ]).mark_point().encode(\n",
    "    x='Perioden',\n",
    "    y='Ziekteverzuimpercentage_1',\n",
    "    color='Jaar'\n",
    ") | alt.Chart(uwv_train_2012plus_T[uwv_train_2012plus_T['Kwartaalnummer'] == 2]).mark_point().encode(\n",
    "    x='Perioden',\n",
    "    y='Ziekteverzuimpercentage_1',\n",
    "    color='Jaar'\n",
    ") | alt.Chart(uwv_train_2012plus_T[uwv_train_2012plus_T['Kwartaalnummer'] == 3]).mark_point().encode(\n",
    "    x='Perioden',\n",
    "    y='Ziekteverzuimpercentage_1',\n",
    "    color='Jaar'\n",
    ") | alt.Chart(uwv_train_2012plus_T[uwv_train_2012plus_T['Kwartaalnummer'] == 4]).mark_point().encode(\n",
    "    x='Perioden',\n",
    "    y='Ziekteverzuimpercentage_1',\n",
    "    color='Jaar'\n",
    ")"
   ]
  },
  {
   "cell_type": "code",
   "execution_count": null,
   "id": "28139bbc89fe1e10",
   "metadata": {
    "ExecuteTime": {
     "end_time": "2024-05-11T08:08:34.271858Z",
     "start_time": "2024-05-11T08:08:33.937463Z"
    }
   },
   "outputs": [],
   "source": [
    "from pandas.plotting import lag_plot\n",
    "import matplotlib.pyplot as plt\n",
    "\n",
    "fig, axes = plt.subplots(nrows=2, ncols=4, figsize=(20,10))\n",
    "\n",
    "lag_plot(uwv_train_2012plus_T['Ziekteverzuimpercentage_1'], lag=1, ax=axes[0, 0])\n",
    "lag_plot(uwv_train_2012plus_T['Ziekteverzuimpercentage_1'], lag=2, ax=axes[0, 1])\n",
    "lag_plot(uwv_train_2012plus_T['Ziekteverzuimpercentage_1'], lag=3, ax=axes[0, 2])\n",
    "lag_plot(uwv_train_2012plus_T['Ziekteverzuimpercentage_1'], lag=4, ax=axes[0, 3])\n",
    "lag_plot(uwv_train_2012plus_T['Ziekteverzuimpercentage_1'], lag=5, ax=axes[1, 0])\n",
    "lag_plot(uwv_train_2012plus_T['Ziekteverzuimpercentage_1'], lag=6, ax=axes[1, 1])\n",
    "lag_plot(uwv_train_2012plus_T['Ziekteverzuimpercentage_1'], lag=7, ax=axes[1, 2])\n",
    "lag_plot(uwv_train_2012plus_T['Ziekteverzuimpercentage_1'], lag=8, ax=axes[1, 3])\n",
    "\n",
    "plt.show()"
   ]
  },
  {
   "cell_type": "code",
   "execution_count": null,
   "id": "5305c1df6f724b55",
   "metadata": {
    "ExecuteTime": {
     "end_time": "2024-05-11T08:36:19.371513Z",
     "start_time": "2024-05-11T08:36:19.347613Z"
    }
   },
   "outputs": [],
   "source": [
    "import math\n",
    "\n",
    "start_lag = 0\n",
    "lag_length = 21\n",
    "\n",
    "lagged_autocorrelation = pd.DataFrame()\n",
    "lagged_autocorrelation['lag'] = range(start_lag, lag_length)\n",
    "\n",
    "white_noise_border = 1.96 / math.sqrt(len(uwv_train_2012plus_T['Ziekteverzuimpercentage_1']))\n",
    "\n",
    "wn_border = pd.DataFrame()\n",
    "wn_border['lag'] = range(start_lag - 1, lag_length + 1)\n",
    "wn_border['pos_white_noise_border'] = [white_noise_border for _ in range(start_lag - 1, lag_length + 1)]\n",
    "wn_border['neg_white_noise_border'] = [-white_noise_border for _ in range(start_lag - 1, lag_length + 1)]\n",
    "\n",
    "lagged_autocorrelation['autocorrelation'] = [uwv_train_2012plus_T['Ziekteverzuimpercentage_1'].autocorr(lag=lag) for lag in lagged_autocorrelation['lag']]\n",
    "\n",
    "alt.Chart(lagged_autocorrelation).mark_bar().encode(\n",
    "    x='lag',\n",
    "    y='autocorrelation',\n",
    ") + alt.Chart(wn_border).mark_line(strokeDash=[1,1]).encode(\n",
    "    x='lag',\n",
    "    y='pos_white_noise_border',\n",
    ") + alt.Chart(wn_border).mark_line(strokeDash=[1,1]).encode(\n",
    "    x='lag',\n",
    "    y='neg_white_noise_border'\n",
    ")"
   ]
  },
  {
   "cell_type": "code",
   "execution_count": null,
   "id": "5cf46d1fe51e6253",
   "metadata": {
    "ExecuteTime": {
     "end_time": "2024-05-11T08:58:51.246512Z",
     "start_time": "2024-05-11T08:58:51.235664Z"
    }
   },
   "outputs": [],
   "source": [
    "moving_average = pd.DataFrame()\n",
    "\n",
    "moving_average['quarter'] = uwv_train_2012plus_T['Perioden']\n",
    "moving_average['sick'] = uwv_train_2012plus_T['Ziekteverzuimpercentage_1']\n",
    "\n",
    "for window in range(3, 16, 2):\n",
    "    moving_average[f'{window}-MA'] = uwv_train_2012plus_T['Ziekteverzuimpercentage_1'].rolling(window, center=True).mean()\n",
    "\n",
    "moving_average\n"
   ]
  },
  {
   "cell_type": "code",
   "execution_count": null,
   "id": "bfef81dc0c3e5e26",
   "metadata": {
    "ExecuteTime": {
     "end_time": "2024-05-11T08:58:53.377575Z",
     "start_time": "2024-05-11T08:58:53.318925Z"
    }
   },
   "outputs": [],
   "source": [
    "charts = [alt.Chart(moving_average).mark_line().encode(x='quarter', y='sick')]\n",
    "\n",
    "for window in range(3, 16, 2):\n",
    "    charts.append(alt.Chart(moving_average).mark_line().encode(x='quarter', y=f'{window}-MA'))\n",
    "    \n",
    "alt.vconcat(*charts)"
   ]
  },
  {
   "cell_type": "code",
   "execution_count": null,
   "id": "1b129a4f6f2b9215",
   "metadata": {
    "ExecuteTime": {
     "end_time": "2024-05-11T09:22:23.813531Z",
     "start_time": "2024-05-11T09:22:23.809101Z"
    }
   },
   "outputs": [],
   "source": [
    "from statsmodels.tsa.seasonal import STL\n",
    "\n",
    "slp = uwv_train_2012plus_T['Ziekteverzuimpercentage_1']\n",
    "slp.index = uwv_train_2012plus_T['Perioden']\n",
    "slp"
   ]
  },
  {
   "cell_type": "code",
   "execution_count": null,
   "id": "4c602882e2c64adc",
   "metadata": {
    "ExecuteTime": {
     "end_time": "2024-05-11T09:26:23.135043Z",
     "start_time": "2024-05-11T09:26:22.876711Z"
    }
   },
   "outputs": [],
   "source": [
    "\n",
    "plt.rc(\"font\", size=6)\n",
    "stl = STL(slp, period=4)\n",
    "res = stl.fit()\n",
    "\n",
    "fig = res.plot()\n",
    "fig.autofmt_xdate()\n",
    "\n"
   ]
  }
 ],
 "metadata": {
  "kernelspec": {
   "display_name": "Python 3 (ipykernel)",
   "language": "python",
   "name": "python3"
  },
  "language_info": {
   "codemirror_mode": {
    "name": "ipython",
    "version": 3
   },
   "file_extension": ".py",
   "mimetype": "text/x-python",
   "name": "python",
   "nbconvert_exporter": "python",
   "pygments_lexer": "ipython3",
   "version": "3.11.9"
  }
 },
 "nbformat": 4,
 "nbformat_minor": 5
}
