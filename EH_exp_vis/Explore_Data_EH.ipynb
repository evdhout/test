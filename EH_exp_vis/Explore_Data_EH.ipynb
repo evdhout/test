{
 "cells": [
  {
   "cell_type": "code",
   "execution_count": null,
   "id": "initial_id",
   "metadata": {
    "ExecuteTime": {
     "end_time": "2024-05-19T06:55:59.654562Z",
     "start_time": "2024-05-19T06:55:59.649161Z"
    }
   },
   "outputs": [],
   "source": [
    "import pandas as pd\n",
    "import altair as alt\n",
    "import matplotlib.pyplot as plt\n",
    "import datetime\n",
    "from pathlib import Path\n",
    "\n",
    "TABLE_ID = '80072ned'\n",
    "TABLE_PATH = Path(f'./data/{TABLE_ID}')\n",
    "GRAPH_PATH = Path(f'./plots/{TABLE_ID}_{datetime.datetime.now().strftime(\"%Y%m%dT%H%M%S\")}')\n",
    "\n",
    "GRAPH_PATH.mkdir(exist_ok=True, parents=True)\n",
    "\n",
    "def get_figure_number():\n",
    "    figure_number = 0\n",
    "    while True:\n",
    "        yield figure_number\n",
    "        figure_number += 1\n",
    "figure_number_generator = get_figure_number() \n",
    "\n",
    "def get_graph_name(title: str) -> str:\n",
    "    return f'{next(figure_number_generator):0=3d}_{title}'\n",
    "    \n",
    "def save_graph(graph: alt.Chart, title: str):\n",
    "    graph_name = get_graph_name(title)\n",
    "    graph.save(GRAPH_PATH / f'{graph_name}.svg')\n",
    "    graph.save(GRAPH_PATH / f'{graph_name}.png')\n",
    "        \n",
    "def save_fig(figure, title: str):\n",
    "    graph_name = get_graph_name(title)\n",
    "    figure.savefig(GRAPH_PATH / f'{graph_name}.svg')\n",
    "    figure.savefig(GRAPH_PATH / f'{graph_name}.png')\n",
    "    \n",
    "# required for export to pdf with images?\n",
    "alt.renderers.enable('png')\n"
   ]
  },
  {
   "cell_type": "markdown",
   "id": "fe1172e3eb42ec19",
   "metadata": {},
   "source": [
    "# UWV Exploratory Analysis"
   ]
  },
  {
   "cell_type": "code",
   "execution_count": null,
   "id": "a1502645387b155e",
   "metadata": {
    "ExecuteTime": {
     "end_time": "2024-05-19T06:55:59.719630Z",
     "start_time": "2024-05-19T06:55:59.710577Z"
    }
   },
   "outputs": [],
   "source": [
    "slp: pd.DataFrame = pd.read_parquet(TABLE_PATH / f'{TABLE_ID}.parquet')\n",
    "slp.info()"
   ]
  },
  {
   "cell_type": "code",
   "execution_count": null,
   "id": "8954cf24bf6c476b",
   "metadata": {
    "ExecuteTime": {
     "end_time": "2024-05-19T06:55:59.726329Z",
     "start_time": "2024-05-19T06:55:59.720695Z"
    }
   },
   "outputs": [],
   "source": [
    "slp"
   ]
  },
  {
   "cell_type": "code",
   "execution_count": null,
   "id": "125bc00873c2b28a",
   "metadata": {
    "ExecuteTime": {
     "end_time": "2024-05-19T06:55:59.729770Z",
     "start_time": "2024-05-19T06:55:59.727080Z"
    }
   },
   "outputs": [],
   "source": [
    "slp.category_group_title.value_counts()"
   ]
  },
  {
   "cell_type": "markdown",
   "id": "1e2b6f7d565da31c",
   "metadata": {},
   "source": [
    "## Get train and test\n",
    "\n",
    "We will use 2022 and up as the final test data.\n",
    "All prior tot 2022 will be training data. To test the trained model, we wil use 2021. So we get three splits:\n",
    "\n",
    "- All data from 2013 onward and prior to 2021 is the real train data. This is the data to perform exploratory data analysis on. \n",
    "- All data from 2021 wil be the test set to test our trained models on. \n",
    "- When we are really done, 2022 and onwards will be the final test set. \n",
    "\n",
    "Additionally, we will only use the quarterly numbers (period_type = 'KW')"
   ]
  },
  {
   "cell_type": "code",
   "execution_count": null,
   "id": "4d5c6092ede5061b",
   "metadata": {
    "ExecuteTime": {
     "end_time": "2024-05-19T06:55:59.733379Z",
     "start_time": "2024-05-19T06:55:59.730449Z"
    }
   },
   "outputs": [],
   "source": [
    "slp_test = slp[(slp.period_year >= 2022) & (slp.period_type == 'KW')]\n",
    "slp_train = slp[(slp.period_year > 2012) & (slp.period_year < 2021) & (slp.period_type == 'KW')]\n",
    "slp_train_test = slp[(slp.period_year == 2021) & (slp.period_type == 'KW')]"
   ]
  },
  {
   "cell_type": "code",
   "execution_count": null,
   "id": "3d0fba546fd82b79",
   "metadata": {
    "ExecuteTime": {
     "end_time": "2024-05-19T06:55:59.738064Z",
     "start_time": "2024-05-19T06:55:59.734565Z"
    }
   },
   "outputs": [],
   "source": [
    "slp_train.info()"
   ]
  },
  {
   "cell_type": "code",
   "execution_count": null,
   "id": "917b04cc43171495",
   "metadata": {
    "ExecuteTime": {
     "end_time": "2024-05-19T06:56:00.167256Z",
     "start_time": "2024-05-19T06:55:59.754708Z"
    }
   },
   "outputs": [],
   "source": [
    "c = alt.Chart(slp_train).mark_line().encode(\n",
    "    x='period', \n",
    "    y='sick_leave_percentage',\n",
    "    color='sbi_title'\n",
    ")\n",
    "\n",
    "save_graph(c, 'slp_train_all_sbi')\n",
    "c"
   ]
  },
  {
   "cell_type": "code",
   "execution_count": null,
   "id": "439b9be8dd856d1e",
   "metadata": {
    "ExecuteTime": {
     "end_time": "2024-05-19T06:56:00.312981Z",
     "start_time": "2024-05-19T06:56:00.168235Z"
    }
   },
   "outputs": [],
   "source": [
    "c = alt.Chart(slp_train[slp_train.category_group_title.isin(['Bedrijfsgrootte', 'Totaal'])]).mark_line().encode(\n",
    "    x='period', \n",
    "    y='sick_leave_percentage',\n",
    "    color='sbi_title'\n",
    ")\n",
    "\n",
    "save_graph(c, 'slp_train_sbi_size')\n",
    "c"
   ]
  },
  {
   "cell_type": "code",
   "execution_count": null,
   "id": "bef228679152581a",
   "metadata": {
    "ExecuteTime": {
     "end_time": "2024-05-19T06:56:00.470319Z",
     "start_time": "2024-05-19T06:56:00.313550Z"
    }
   },
   "outputs": [],
   "source": [
    "c = alt.Chart(slp_train[slp_train.category_group_title.isin(['Bedrijfssector', 'Totaal'])]).mark_line().encode(\n",
    "    x='period', \n",
    "    y='sick_leave_percentage',\n",
    "    color='sbi_title'\n",
    ")\n",
    "\n",
    "save_graph(c, 'slp_train_sbi_sector')\n",
    "c"
   ]
  },
  {
   "cell_type": "code",
   "execution_count": null,
   "id": "6c2057c0b22fe5b8",
   "metadata": {
    "ExecuteTime": {
     "end_time": "2024-05-19T06:56:00.748166Z",
     "start_time": "2024-05-19T06:56:00.471481Z"
    }
   },
   "outputs": [],
   "source": [
    "c = alt.Chart(slp_train[slp_train.category_group_title.isin([ 'Bedrijfsklasse', 'Totaal'])]).mark_line().encode(\n",
    "    x='period', \n",
    "    y='sick_leave_percentage',\n",
    "    color='sbi_title'\n",
    ")\n",
    "\n",
    "save_graph(c, 'slp_train_sbi_klasse')\n",
    "c"
   ]
  },
  {
   "cell_type": "code",
   "execution_count": null,
   "id": "7274a7b7d4a7e300",
   "metadata": {
    "ExecuteTime": {
     "end_time": "2024-05-19T06:56:01.045242Z",
     "start_time": "2024-05-19T06:56:00.748784Z"
    }
   },
   "outputs": [],
   "source": [
    "c = alt.Chart(slp_train[slp_train.category_group_title.isin(['Bedrijfstak', 'Totaal'])]).mark_line().encode(\n",
    "    x='period', \n",
    "    y='sick_leave_percentage',\n",
    "    color='sbi_title'\n",
    ")\n",
    "\n",
    "save_graph(c, 'slp_train_sbi_tak')\n",
    "c"
   ]
  },
  {
   "cell_type": "code",
   "execution_count": null,
   "id": "b79a24b4bc484f00",
   "metadata": {
    "ExecuteTime": {
     "end_time": "2024-05-19T06:56:01.258302Z",
     "start_time": "2024-05-19T06:56:01.045818Z"
    }
   },
   "outputs": [],
   "source": [
    "c = alt.Chart(slp_train).mark_boxplot().encode(\n",
    "    x='period',\n",
    "    y='sick_leave_percentage',\n",
    ")\n",
    "\n",
    "save_graph(c, 'slp_train_boxplot')\n",
    "c"
   ]
  },
  {
   "cell_type": "code",
   "execution_count": null,
   "id": "fcce2a3690f67d3d",
   "metadata": {
    "ExecuteTime": {
     "end_time": "2024-05-19T06:56:01.346610Z",
     "start_time": "2024-05-19T06:56:01.258995Z"
    }
   },
   "outputs": [],
   "source": [
    "slp_train_total = slp_train[slp_train.sbi == 'T001081']\n",
    "\n",
    "c = alt.Chart(slp_train_total).mark_line().encode(\n",
    "    x='period_quarter_number',\n",
    "    y='sick_leave_percentage',\n",
    "    color='period_year'\n",
    ").properties(title='Seasonality of T001081 sick leave %')\n",
    "\n",
    "save_graph(c, 'slp_train_total_seasonality')\n",
    "c"
   ]
  },
  {
   "cell_type": "code",
   "execution_count": null,
   "id": "3d9745743dd19312",
   "metadata": {
    "ExecuteTime": {
     "end_time": "2024-05-19T06:56:01.506349Z",
     "start_time": "2024-05-19T06:56:01.347212Z"
    }
   },
   "outputs": [],
   "source": [
    "c = alt.Chart(slp_train[slp_train.category_group_title.isin(['Bedrijfsgrootte', 'Totaal'])]).mark_line().encode(\n",
    "    x='period_quarter_number', \n",
    "    y='sick_leave_percentage',\n",
    "    color='period_year',\n",
    ").facet(\n",
    "    facet='sbi_title',\n",
    "    columns=4\n",
    ")\n",
    "\n",
    "save_graph(c, 'slp_train_sbi_size_year')\n",
    "c\n"
   ]
  },
  {
   "cell_type": "code",
   "execution_count": null,
   "id": "2bb972d3769c8e19",
   "metadata": {
    "ExecuteTime": {
     "end_time": "2024-05-19T06:56:01.682579Z",
     "start_time": "2024-05-19T06:56:01.507017Z"
    }
   },
   "outputs": [],
   "source": [
    "c = alt.Chart(slp_train[slp_train.category_group_title.isin(['Bedrijfsgrootte', 'Totaal'])]).mark_line().encode(\n",
    "    x='period_year', \n",
    "    y='sick_leave_percentage',\n",
    "    color='sbi_title',\n",
    ").facet(\n",
    "    facet='period_quarter_number',\n",
    "    columns=4\n",
    ")\n",
    "\n",
    "save_graph(c, 'slp_train_sbi_year_size')\n",
    "c"
   ]
  },
  {
   "cell_type": "code",
   "execution_count": null,
   "id": "7081efc39f2c7f28",
   "metadata": {
    "ExecuteTime": {
     "end_time": "2024-05-19T06:56:01.843522Z",
     "start_time": "2024-05-19T06:56:01.684803Z"
    }
   },
   "outputs": [],
   "source": [
    "c = alt.Chart(slp_train[slp_train.category_group_title.isin(['Bedrijfssector'])]).mark_line().encode(\n",
    "    x='period_quarter_number', \n",
    "    y='sick_leave_percentage',\n",
    "    color='period_year',\n",
    ").facet(\n",
    "    facet='sbi_title',\n",
    "    columns=4\n",
    ")\n",
    "\n",
    "save_graph(c, 'slp_train_sbi_sector_year')\n",
    "c"
   ]
  },
  {
   "cell_type": "code",
   "execution_count": null,
   "id": "1e83695d090159bd",
   "metadata": {
    "ExecuteTime": {
     "end_time": "2024-05-19T06:56:02.034661Z",
     "start_time": "2024-05-19T06:56:01.844168Z"
    }
   },
   "outputs": [],
   "source": [
    "c = alt.Chart(slp_train[slp_train.category_group_title.isin(['Bedrijfssector', 'Totaal'])]).mark_line().encode(\n",
    "    x='period_year', \n",
    "    y='sick_leave_percentage',\n",
    "    color='sbi_title',\n",
    ").facet(\n",
    "    facet='period_quarter_number',\n",
    "    columns=4\n",
    ")\n",
    "\n",
    "save_graph(c, 'slp_train_sbi_sector_year_size')\n",
    "c"
   ]
  },
  {
   "cell_type": "code",
   "execution_count": null,
   "id": "8bfce9c4f172212f",
   "metadata": {
    "ExecuteTime": {
     "end_time": "2024-05-19T06:56:02.383542Z",
     "start_time": "2024-05-19T06:56:02.035234Z"
    }
   },
   "outputs": [],
   "source": [
    "c = alt.Chart(slp_train[slp_train.category_group_title.isin(['Bedrijfsklasse'])]).mark_line().encode(\n",
    "    x='period_quarter_number', \n",
    "    y='sick_leave_percentage',\n",
    "    color='period_year',\n",
    ").facet(\n",
    "    facet='sbi_title',\n",
    "    columns=5\n",
    ")\n",
    "\n",
    "save_graph(c, 'slp_train_sbi_klasse_year')\n",
    "c"
   ]
  },
  {
   "cell_type": "code",
   "execution_count": null,
   "id": "32d7bb0ff7441caa",
   "metadata": {
    "ExecuteTime": {
     "end_time": "2024-05-19T06:56:02.688668Z",
     "start_time": "2024-05-19T06:56:02.384265Z"
    }
   },
   "outputs": [],
   "source": [
    "c = alt.Chart(slp_train[slp_train.category_group_title.isin(['Bedrijfsklasse', 'Totaal'])]).mark_line().encode(\n",
    "    x='period_year', \n",
    "    y='sick_leave_percentage',\n",
    "    color='sbi_title',\n",
    ").facet(\n",
    "    facet='period_quarter_number',\n",
    "    columns=4\n",
    ")\n",
    "\n",
    "save_graph(c, 'slp_train_sbi_klasse_quarter')\n",
    "c"
   ]
  },
  {
   "cell_type": "code",
   "execution_count": null,
   "id": "b4cd56d67047d89c",
   "metadata": {
    "ExecuteTime": {
     "end_time": "2024-05-19T06:56:03.085435Z",
     "start_time": "2024-05-19T06:56:02.689301Z"
    }
   },
   "outputs": [],
   "source": [
    "c = alt.Chart(slp_train[slp_train.category_group_title.isin(['Bedrijfstak'])]).mark_line().encode(\n",
    "    x='period_quarter_number', \n",
    "    y='sick_leave_percentage',\n",
    "    color='period_year',\n",
    ").facet(\n",
    "    facet='sbi_title',\n",
    "    columns=6\n",
    ")\n",
    "\n",
    "save_graph(c, 'slp_train_sbi_tak_year')\n",
    "c"
   ]
  },
  {
   "cell_type": "code",
   "execution_count": null,
   "id": "7f44c48b3bb7d93a",
   "metadata": {
    "ExecuteTime": {
     "end_time": "2024-05-19T06:56:03.407501Z",
     "start_time": "2024-05-19T06:56:03.086069Z"
    }
   },
   "outputs": [],
   "source": [
    "c = alt.Chart(slp_train[slp_train.category_group_title.isin(['Bedrijfstak', 'Totaal'])]).mark_line().encode(\n",
    "    x='period_year', \n",
    "    y='sick_leave_percentage',\n",
    "    color='sbi_title',\n",
    ").facet(\n",
    "    facet='period_quarter_number',\n",
    "    columns=4\n",
    ")\n",
    "\n",
    "save_graph(c, 'slp_train_sbi_tak_quarter')\n",
    "c"
   ]
  },
  {
   "cell_type": "code",
   "execution_count": null,
   "id": "96ba22185f84fa0d",
   "metadata": {
    "ExecuteTime": {
     "end_time": "2024-05-19T06:56:03.670651Z",
     "start_time": "2024-05-19T06:56:03.408323Z"
    }
   },
   "outputs": [],
   "source": [
    "c = alt.Chart(slp_train).mark_point().encode(\n",
    "    x=alt.X(alt.repeat(\"column\"), type='ordinal'),\n",
    "    y='sick_leave_percentage',\n",
    "    color='period_year'   \n",
    ").repeat(\n",
    "    column=['period_quarter_number']\n",
    ").properties(\n",
    "    title='Seasonality sick leave % (all categories)'\n",
    ")\n",
    "\n",
    "save_graph(c, 'slp_train_seasonality_all_sbi')\n",
    "c"
   ]
  },
  {
   "cell_type": "code",
   "execution_count": null,
   "id": "5d3c122b70b3ef1a",
   "metadata": {
    "ExecuteTime": {
     "end_time": "2024-05-19T06:56:03.747217Z",
     "start_time": "2024-05-19T06:56:03.671197Z"
    }
   },
   "outputs": [],
   "source": [
    "c = alt.Chart(slp_train_total).mark_point().encode(\n",
    "    x=alt.X(alt.repeat(\"column\"), type='ordinal'),\n",
    "    y='sick_leave_percentage',\n",
    "    color='period_year'\n",
    ").repeat(\n",
    "    column=['period_quarter_number']\n",
    ").properties(\n",
    "    title='Seasonality of T001081 sick leave %'\n",
    ")\n",
    "\n",
    "save_graph(c, 'slp_train_total_seasonality_point')\n",
    "c"
   ]
  },
  {
   "cell_type": "code",
   "execution_count": null,
   "id": "26c07b640a1fa2e9",
   "metadata": {
    "ExecuteTime": {
     "end_time": "2024-05-19T06:56:04.152148Z",
     "start_time": "2024-05-19T06:56:03.747980Z"
    }
   },
   "outputs": [],
   "source": [
    "c = alt.Chart(slp_train[slp_train.period_quarter_number == 1]).mark_point().encode(\n",
    "    x='period',\n",
    "    y='sick_leave_percentage',\n",
    "    color='period_year'\n",
    ") | alt.Chart(slp_train[slp_train.period_quarter_number  == 2]).mark_point().encode(\n",
    "    x='period',\n",
    "    y='sick_leave_percentage',\n",
    "    color='period_year'\n",
    ") | alt.Chart(slp_train[slp_train.period_quarter_number  == 3]).mark_point().encode(\n",
    "    x='period',\n",
    "    y='sick_leave_percentage',\n",
    "    color='period_year'\n",
    ") | alt.Chart(slp_train[slp_train.period_quarter_number  == 4]).mark_point().encode(\n",
    "    x='period',\n",
    "    y='sick_leave_percentage',\n",
    "    color='period_year'\n",
    ")\n",
    "\n",
    "save_graph(c, 'slp_train_seasonality_all_sbi_point_per_quarter')\n",
    "c"
   ]
  },
  {
   "cell_type": "code",
   "execution_count": null,
   "id": "bb2e666837434cf8",
   "metadata": {
    "ExecuteTime": {
     "end_time": "2024-05-19T06:56:04.394099Z",
     "start_time": "2024-05-19T06:56:04.152696Z"
    }
   },
   "outputs": [],
   "source": [
    "\n",
    "c = alt.Chart(slp_train_total[slp_train_total.period_quarter_number ==  1]).mark_point().encode(\n",
    "    x='period',\n",
    "    y='sick_leave_percentage',\n",
    "    color='period_year'\n",
    ") | alt.Chart(slp_train_total[slp_train_total.period_quarter_number ==  2]).mark_point().encode(\n",
    "    x='period',\n",
    "    y='sick_leave_percentage',\n",
    "    color='period_year'\n",
    ") | alt.Chart(slp_train_total[slp_train_total.period_quarter_number ==  3]).mark_point().encode(\n",
    "    x='period',\n",
    "    y='sick_leave_percentage',\n",
    "    color='period_year'\n",
    ") | alt.Chart(slp_train_total[slp_train_total.period_quarter_number ==  4]).mark_point().encode(\n",
    "    x='period',\n",
    "    y='sick_leave_percentage',\n",
    "    color='period_year'\n",
    ")\n",
    "\n",
    "save_graph(c, 'slp_train_total_seasonality_point_per_quarter')\n",
    "c"
   ]
  },
  {
   "cell_type": "code",
   "execution_count": null,
   "id": "28139bbc89fe1e10",
   "metadata": {
    "ExecuteTime": {
     "end_time": "2024-05-19T06:56:05.124507Z",
     "start_time": "2024-05-19T06:56:04.394770Z"
    }
   },
   "outputs": [],
   "source": [
    "from pandas.plotting import lag_plot\n",
    "\n",
    "fig, axes = plt.subplots(nrows=2, ncols=4, figsize=(20,10))\n",
    "\n",
    "for i, lag in enumerate(range(1,9)):\n",
    "    lag_plot(slp_train_total.sick_leave_percentage, lag=lag, ax=axes[i // 4, i % 4])\n",
    "   \n",
    "save_fig(plt, 'slp_train_total_lag_plot')\n",
    "plt.show()"
   ]
  },
  {
   "cell_type": "code",
   "execution_count": null,
   "id": "5305c1df6f724b55",
   "metadata": {
    "ExecuteTime": {
     "end_time": "2024-05-19T06:56:05.225177Z",
     "start_time": "2024-05-19T06:56:05.125185Z"
    }
   },
   "outputs": [],
   "source": [
    "import math\n",
    "\n",
    "start_lag = 0\n",
    "lag_length = 21\n",
    "\n",
    "lagged_auto_correlation = pd.DataFrame()\n",
    "lagged_auto_correlation['lag'] = range(start_lag, lag_length)\n",
    "\n",
    "white_noise_border = 1.96 / math.sqrt(len(slp_train_total.sick_leave_percentage))\n",
    "\n",
    "wn_border = pd.DataFrame()\n",
    "wn_border['lag'] = range(start_lag - 1, lag_length + 1)\n",
    "wn_border['pos_white_noise_border'] = [white_noise_border for _ in range(start_lag - 1, lag_length + 1)]\n",
    "wn_border['neg_white_noise_border'] = [-white_noise_border for _ in range(start_lag - 1, lag_length + 1)]\n",
    "\n",
    "lagged_auto_correlation['auto_correlation'] = [slp_train_total.sick_leave_percentage.autocorr(lag=lag) for lag in lagged_auto_correlation['lag']]\n",
    "\n",
    "c = alt.Chart(lagged_auto_correlation).mark_bar().encode(\n",
    "    x='lag',\n",
    "    y='auto_correlation',\n",
    ") + alt.Chart(wn_border).mark_line(strokeDash=[1,1]).encode(\n",
    "    x='lag',\n",
    "    y='pos_white_noise_border',\n",
    ") + alt.Chart(wn_border).mark_line(strokeDash=[1,1]).encode(\n",
    "    x='lag',\n",
    "    y='neg_white_noise_border'\n",
    ")\n",
    "\n",
    "save_graph(c, 'slp_train_total_auto_correlation')\n",
    "c"
   ]
  },
  {
   "cell_type": "code",
   "execution_count": null,
   "id": "5cf46d1fe51e6253",
   "metadata": {
    "ExecuteTime": {
     "end_time": "2024-05-19T06:56:05.234683Z",
     "start_time": "2024-05-19T06:56:05.225788Z"
    }
   },
   "outputs": [],
   "source": [
    "moving_average = pd.DataFrame()\n",
    "\n",
    "moving_average['quarter'] = slp_train_total.period\n",
    "moving_average['sick'] = slp_train_total.sick_leave_percentage\n",
    "\n",
    "for window in range(3, 16, 2):\n",
    "    moving_average[f'{window}-MA'] = slp_train_total.sick_leave_percentage.rolling(window, center=True).mean()\n",
    "\n",
    "moving_average\n"
   ]
  },
  {
   "cell_type": "code",
   "execution_count": null,
   "id": "bfef81dc0c3e5e26",
   "metadata": {
    "ExecuteTime": {
     "end_time": "2024-05-19T06:56:06.012316Z",
     "start_time": "2024-05-19T06:56:05.235394Z"
    }
   },
   "outputs": [],
   "source": [
    "charts = [alt.Chart(moving_average).mark_line().encode(x='quarter', y='sick')]\n",
    "\n",
    "for window in range(3, 16, 2):\n",
    "    charts.append(alt.Chart(moving_average).mark_line().encode(x='quarter', y=f'{window}-MA'))\n",
    "    \n",
    "c = alt.vconcat(*charts)\n",
    "save_graph(c, 'slp_train_total_moving_average')\n",
    "c"
   ]
  },
  {
   "cell_type": "code",
   "execution_count": null,
   "id": "1b129a4f6f2b9215",
   "metadata": {
    "ExecuteTime": {
     "end_time": "2024-05-19T06:56:06.020254Z",
     "start_time": "2024-05-19T06:56:06.016805Z"
    }
   },
   "outputs": [],
   "source": [
    "from statsmodels.tsa.seasonal import STL\n",
    "\n",
    "slp_series = slp_train_total.sick_leave_percentage\n",
    "slp_series.index = slp_train_total.period\n",
    "slp_series"
   ]
  },
  {
   "cell_type": "code",
   "execution_count": null,
   "id": "4c602882e2c64adc",
   "metadata": {
    "ExecuteTime": {
     "end_time": "2024-05-19T06:56:06.558427Z",
     "start_time": "2024-05-19T06:56:06.020787Z"
    }
   },
   "outputs": [],
   "source": [
    "plt.rc(\"font\", size=6)\n",
    "stl = STL(slp_series, period=4)\n",
    "res = stl.fit()\n",
    "\n",
    "fig = res.plot()\n",
    "fig.autofmt_xdate()\n",
    "save_fig(fig, 'slp_train_total_STL_plot')\n",
    "fig"
   ]
  },
  {
   "cell_type": "code",
   "execution_count": null,
   "id": "c192694e4d22220a",
   "metadata": {
    "ExecuteTime": {
     "end_time": "2024-05-19T06:56:06.683747Z",
     "start_time": "2024-05-19T06:56:06.558991Z"
    }
   },
   "outputs": [],
   "source": [
    "from statsmodels.graphics.tsaplots import plot_pacf\n",
    "\n",
    "plot_pacf(slp_series, lags=15, alpha=0.1)\n",
    "save_fig(plt, 'slp_train_total_pacf')\n",
    "plt.show()"
   ]
  }
 ],
 "metadata": {
  "kernelspec": {
   "display_name": "Python 3 (ipykernel)",
   "language": "python",
   "name": "python3"
  },
  "language_info": {
   "codemirror_mode": {
    "name": "ipython",
    "version": 3
   },
   "file_extension": ".py",
   "mimetype": "text/x-python",
   "name": "python",
   "nbconvert_exporter": "python",
   "pygments_lexer": "ipython3",
   "version": "3.11.9"
  }
 },
 "nbformat": 4,
 "nbformat_minor": 5
}
