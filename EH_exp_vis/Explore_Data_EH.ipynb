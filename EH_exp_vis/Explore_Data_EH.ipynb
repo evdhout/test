{
 "cells": [
  {
   "cell_type": "code",
   "execution_count": null,
   "id": "initial_id",
   "metadata": {
    "ExecuteTime": {
     "end_time": "2024-05-18T10:36:35.495056Z",
     "start_time": "2024-05-18T10:36:35.492239Z"
    }
   },
   "outputs": [],
   "source": [
    "import pandas as pd\n",
    "import altair as alt\n",
    "from pathlib import Path\n",
    "\n",
    "TABLE_ID = '80072ned'\n",
    "TABLE_PATH = Path(f'./data/{TABLE_ID}')\n",
    "\n",
    "# required for export to pdf with images?\n",
    "alt.renderers.enable('png')"
   ]
  },
  {
   "cell_type": "markdown",
   "id": "fe1172e3eb42ec19",
   "metadata": {},
   "source": [
    "# UWV Exploratory Analysis"
   ]
  },
  {
   "cell_type": "code",
   "execution_count": null,
   "id": "a1502645387b155e",
   "metadata": {
    "ExecuteTime": {
     "end_time": "2024-05-18T10:36:56.399036Z",
     "start_time": "2024-05-18T10:36:55.828859Z"
    }
   },
   "outputs": [],
   "source": [
    "slp: pd.DataFrame = pd.read_parquet(TABLE_PATH / f'{TABLE_ID}.parquet')\n",
    "slp.info()"
   ]
  },
  {
   "cell_type": "code",
   "execution_count": null,
   "id": "8954cf24bf6c476b",
   "metadata": {
    "ExecuteTime": {
     "end_time": "2024-05-18T10:37:09.456107Z",
     "start_time": "2024-05-18T10:37:09.448403Z"
    }
   },
   "outputs": [],
   "source": [
    "slp"
   ]
  },
  {
   "cell_type": "code",
   "execution_count": null,
   "id": "125bc00873c2b28a",
   "metadata": {
    "ExecuteTime": {
     "end_time": "2024-05-18T10:38:05.750014Z",
     "start_time": "2024-05-18T10:38:05.746902Z"
    }
   },
   "outputs": [],
   "source": [
    "slp.category_group_title.value_counts()"
   ]
  },
  {
   "cell_type": "markdown",
   "id": "1e2b6f7d565da31c",
   "metadata": {},
   "source": [
    "## Get train and test\n",
    "\n",
    "We will use 2022 and up as the final test data.\n",
    "All prior tot 2022 will be training data. To test the trained model, we wil use 2021. So we get three splits:\n",
    "\n",
    "- All data from 2013 onward and prior to 2021 is the real train data. This is the data to perform exploratory data analysis on. \n",
    "- All data from 2021 wil be the test set to test our trained models on. \n",
    "- When we are really done, 2022 and onwards will be the final test set. \n",
    "\n",
    "Additionally, we will only use the quarterly numbers (period_type = 'KW')"
   ]
  },
  {
   "cell_type": "code",
   "execution_count": null,
   "id": "4d5c6092ede5061b",
   "metadata": {
    "ExecuteTime": {
     "end_time": "2024-05-18T10:43:34.210880Z",
     "start_time": "2024-05-18T10:43:34.204301Z"
    }
   },
   "outputs": [],
   "source": [
    "slp_test = slp[(slp.period_year >= 2022) & (slp.period_type == 'KW')]\n",
    "slp_train = slp[(slp.period_year > 2012) & (slp.period_year < 2021) & (slp.period_type == 'KW')]\n",
    "slp_train_test = slp[(slp.period_year == 2021) & (slp.period_type == 'KW')]"
   ]
  },
  {
   "cell_type": "code",
   "execution_count": null,
   "id": "3d0fba546fd82b79",
   "metadata": {
    "ExecuteTime": {
     "end_time": "2024-05-18T10:43:36.282731Z",
     "start_time": "2024-05-18T10:43:36.275520Z"
    }
   },
   "outputs": [],
   "source": [
    "slp_train.info()"
   ]
  },
  {
   "cell_type": "code",
   "execution_count": null,
   "id": "917b04cc43171495",
   "metadata": {
    "ExecuteTime": {
     "end_time": "2024-05-18T10:45:36.644333Z",
     "start_time": "2024-05-18T10:45:36.454912Z"
    }
   },
   "outputs": [],
   "source": [
    "alt.Chart(slp_train).mark_line().encode(\n",
    "    x='period', \n",
    "    y='sick_leave_percentage',\n",
    "    color='sbi_title'\n",
    ")"
   ]
  },
  {
   "cell_type": "code",
   "execution_count": null,
   "id": "b79a24b4bc484f00",
   "metadata": {
    "ExecuteTime": {
     "end_time": "2024-05-18T10:46:15.201264Z",
     "start_time": "2024-05-18T10:46:15.105865Z"
    }
   },
   "outputs": [],
   "source": [
    "alt.Chart(slp_train).mark_boxplot().encode(\n",
    "    x='period',\n",
    "    y='sick_leave_percentage',\n",
    ")"
   ]
  },
  {
   "cell_type": "code",
   "execution_count": null,
   "id": "fcce2a3690f67d3d",
   "metadata": {
    "ExecuteTime": {
     "end_time": "2024-05-18T11:09:54.733642Z",
     "start_time": "2024-05-18T11:09:54.672012Z"
    }
   },
   "outputs": [],
   "source": [
    "slp_train_total = slp_train[slp_train.sbi == 'T001081']\n",
    "\n",
    "alt.Chart(slp_train_total).mark_line().encode(\n",
    "    x='period_quarter_number',\n",
    "    y='sick_leave_percentage',\n",
    "    color='period_year'\n",
    ").properties(title='Seasonality of T001081 sick leave %')"
   ]
  },
  {
   "cell_type": "code",
   "execution_count": null,
   "id": "96ba22185f84fa0d",
   "metadata": {
    "ExecuteTime": {
     "end_time": "2024-05-18T11:14:39.866342Z",
     "start_time": "2024-05-18T11:14:39.734586Z"
    }
   },
   "outputs": [],
   "source": [
    "alt.Chart(slp_train).mark_point().encode(\n",
    "     x=alt.X(alt.repeat(\"column\"), type='ordinal'),\n",
    "    y='sick_leave_percentage',\n",
    "    color='period_year'   \n",
    ").repeat(\n",
    "    column=['period_quarter_number']\n",
    ").properties(\n",
    "    title='Seasonality sick leave % (all categories)'\n",
    ")"
   ]
  },
  {
   "cell_type": "code",
   "execution_count": null,
   "id": "5d3c122b70b3ef1a",
   "metadata": {
    "ExecuteTime": {
     "end_time": "2024-05-18T11:13:26.202283Z",
     "start_time": "2024-05-18T11:13:26.156589Z"
    }
   },
   "outputs": [],
   "source": [
    "alt.Chart(slp_train_total).mark_point().encode(\n",
    "    x=alt.X(alt.repeat(\"column\"), type='ordinal'),\n",
    "    y='sick_leave_percentage',\n",
    "    color='period_year'\n",
    ").repeat(\n",
    "    column=['period_quarter_number']\n",
    ").properties(\n",
    "    title='Seasonality of T001081 sick leave %'\n",
    ")"
   ]
  },
  {
   "cell_type": "code",
   "execution_count": null,
   "id": "26c07b640a1fa2e9",
   "metadata": {
    "ExecuteTime": {
     "end_time": "2024-05-18T11:16:52.750010Z",
     "start_time": "2024-05-18T11:16:52.552294Z"
    }
   },
   "outputs": [],
   "source": [
    "alt.Chart(slp_train[slp_train.period_quarter_number == 1]).mark_point().encode(\n",
    "    x='period',\n",
    "    y='sick_leave_percentage',\n",
    "    color='period_year'\n",
    ") | alt.Chart(slp_train[slp_train.period_quarter_number  == 2]).mark_point().encode(\n",
    "    x='period',\n",
    "    y='sick_leave_percentage',\n",
    "    color='period_year'\n",
    ") | alt.Chart(slp_train[slp_train.period_quarter_number  == 3]).mark_point().encode(\n",
    "    x='period',\n",
    "    y='sick_leave_percentage',\n",
    "    color='period_year'\n",
    ") | alt.Chart(slp_train[slp_train.period_quarter_number  == 4]).mark_point().encode(\n",
    "    x='period',\n",
    "    y='sick_leave_percentage',\n",
    "    color='period_year'\n",
    ")"
   ]
  },
  {
   "cell_type": "code",
   "execution_count": null,
   "id": "bb2e666837434cf8",
   "metadata": {
    "ExecuteTime": {
     "end_time": "2024-05-18T11:18:36.014276Z",
     "start_time": "2024-05-18T11:18:35.895808Z"
    }
   },
   "outputs": [],
   "source": [
    "\n",
    "alt.Chart(slp_train_total[slp_train_total.period_quarter_number ==  1]).mark_point().encode(\n",
    "    x='period',\n",
    "    y='sick_leave_percentage',\n",
    "    color='period_year'\n",
    ") | alt.Chart(slp_train_total[slp_train_total.period_quarter_number ==  2]).mark_point().encode(\n",
    "    x='period',\n",
    "    y='sick_leave_percentage',\n",
    "    color='period_year'\n",
    ") | alt.Chart(slp_train_total[slp_train_total.period_quarter_number ==  3]).mark_point().encode(\n",
    "    x='period',\n",
    "    y='sick_leave_percentage',\n",
    "    color='period_year'\n",
    ") | alt.Chart(slp_train_total[slp_train_total.period_quarter_number ==  4]).mark_point().encode(\n",
    "    x='period',\n",
    "    y='sick_leave_percentage',\n",
    "    color='period_year'\n",
    ")"
   ]
  },
  {
   "cell_type": "code",
   "execution_count": null,
   "id": "28139bbc89fe1e10",
   "metadata": {
    "ExecuteTime": {
     "end_time": "2024-05-18T11:22:19.582268Z",
     "start_time": "2024-05-18T11:22:19.256075Z"
    }
   },
   "outputs": [],
   "source": [
    "from pandas.plotting import lag_plot\n",
    "import matplotlib.pyplot as plt\n",
    "\n",
    "fig, axes = plt.subplots(nrows=2, ncols=4, figsize=(20,10))\n",
    "\n",
    "for i, lag in enumerate(range(1,9)):\n",
    "    lag_plot(slp_train_total.sick_leave_percentage, lag=lag, ax=axes[i // 4, i % 4])\n",
    "   \n",
    "plt.show()"
   ]
  },
  {
   "cell_type": "code",
   "execution_count": null,
   "id": "5305c1df6f724b55",
   "metadata": {
    "ExecuteTime": {
     "end_time": "2024-05-18T11:24:13.736661Z",
     "start_time": "2024-05-18T11:24:13.687182Z"
    }
   },
   "outputs": [],
   "source": [
    "import math\n",
    "\n",
    "start_lag = 0\n",
    "lag_length = 21\n",
    "\n",
    "lagged_auto_correlation = pd.DataFrame()\n",
    "lagged_auto_correlation['lag'] = range(start_lag, lag_length)\n",
    "\n",
    "white_noise_border = 1.96 / math.sqrt(len(slp_train_total.sick_leave_percentage))\n",
    "\n",
    "wn_border = pd.DataFrame()\n",
    "wn_border['lag'] = range(start_lag - 1, lag_length + 1)\n",
    "wn_border['pos_white_noise_border'] = [white_noise_border for _ in range(start_lag - 1, lag_length + 1)]\n",
    "wn_border['neg_white_noise_border'] = [-white_noise_border for _ in range(start_lag - 1, lag_length + 1)]\n",
    "\n",
    "lagged_auto_correlation['auto_correlation'] = [slp_train_total.sick_leave_percentage.autocorr(lag=lag) for lag in lagged_auto_correlation['lag']]\n",
    "\n",
    "alt.Chart(lagged_auto_correlation).mark_bar().encode(\n",
    "    x='lag',\n",
    "    y='auto_correlation',\n",
    ") + alt.Chart(wn_border).mark_line(strokeDash=[1,1]).encode(\n",
    "    x='lag',\n",
    "    y='pos_white_noise_border',\n",
    ") + alt.Chart(wn_border).mark_line(strokeDash=[1,1]).encode(\n",
    "    x='lag',\n",
    "    y='neg_white_noise_border'\n",
    ")"
   ]
  },
  {
   "cell_type": "code",
   "execution_count": null,
   "id": "5cf46d1fe51e6253",
   "metadata": {
    "ExecuteTime": {
     "end_time": "2024-05-18T11:25:19.536621Z",
     "start_time": "2024-05-18T11:25:19.523102Z"
    }
   },
   "outputs": [],
   "source": [
    "moving_average = pd.DataFrame()\n",
    "\n",
    "moving_average['quarter'] = slp_train_total.period\n",
    "moving_average['sick'] = slp_train_total.sick_leave_percentage\n",
    "\n",
    "for window in range(3, 16, 2):\n",
    "    moving_average[f'{window}-MA'] = slp_train_total.sick_leave_percentage.rolling(window, center=True).mean()\n",
    "\n",
    "moving_average\n"
   ]
  },
  {
   "cell_type": "code",
   "execution_count": null,
   "id": "bfef81dc0c3e5e26",
   "metadata": {
    "ExecuteTime": {
     "end_time": "2024-05-18T11:25:36.619274Z",
     "start_time": "2024-05-18T11:25:36.240980Z"
    }
   },
   "outputs": [],
   "source": [
    "charts = [alt.Chart(moving_average).mark_line().encode(x='quarter', y='sick')]\n",
    "\n",
    "for window in range(3, 16, 2):\n",
    "    charts.append(alt.Chart(moving_average).mark_line().encode(x='quarter', y=f'{window}-MA'))\n",
    "    \n",
    "alt.vconcat(*charts)"
   ]
  },
  {
   "cell_type": "code",
   "execution_count": null,
   "id": "1b129a4f6f2b9215",
   "metadata": {
    "ExecuteTime": {
     "end_time": "2024-05-18T11:26:51.191780Z",
     "start_time": "2024-05-18T11:26:50.255742Z"
    }
   },
   "outputs": [],
   "source": [
    "from statsmodels.tsa.seasonal import STL\n",
    "\n",
    "slp_series = slp_train_total.sick_leave_percentage\n",
    "slp_series.index = slp_train_total.period\n",
    "slp_series"
   ]
  },
  {
   "cell_type": "code",
   "execution_count": null,
   "id": "4c602882e2c64adc",
   "metadata": {
    "ExecuteTime": {
     "end_time": "2024-05-18T11:27:03.538310Z",
     "start_time": "2024-05-18T11:27:03.241491Z"
    }
   },
   "outputs": [],
   "source": [
    "\n",
    "plt.rc(\"font\", size=6)\n",
    "stl = STL(slp_series, period=4)\n",
    "res = stl.fit()\n",
    "\n",
    "fig = res.plot()\n",
    "fig.autofmt_xdate()\n",
    "\n"
   ]
  },
  {
   "cell_type": "code",
   "execution_count": null,
   "id": "c192694e4d22220a",
   "metadata": {
    "ExecuteTime": {
     "end_time": "2024-05-18T11:27:16.559621Z",
     "start_time": "2024-05-18T11:27:16.449990Z"
    }
   },
   "outputs": [],
   "source": [
    "from statsmodels.graphics.tsaplots import plot_pacf\n",
    "\n",
    "plot_pacf(slp_series, lags=15, alpha=0.1)\n",
    "plt.show()"
   ]
  }
 ],
 "metadata": {
  "kernelspec": {
   "display_name": "Python 3 (ipykernel)",
   "language": "python",
   "name": "python3"
  },
  "language_info": {
   "codemirror_mode": {
    "name": "ipython",
    "version": 3
   },
   "file_extension": ".py",
   "mimetype": "text/x-python",
   "name": "python",
   "nbconvert_exporter": "python",
   "pygments_lexer": "ipython3",
   "version": "3.11.9"
  }
 },
 "nbformat": 4,
 "nbformat_minor": 5
}
