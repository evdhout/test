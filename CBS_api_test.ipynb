{
 "cells": [
  {
   "cell_type": "code",
   "execution_count": 5,
   "metadata": {},
   "outputs": [],
   "source": [
    "#pip install cbsodata\n",
    "import cbsodata\n",
    "import pandas as pd"
   ]
  },
  {
   "cell_type": "code",
   "execution_count": 8,
   "metadata": {},
   "outputs": [],
   "source": [
    "# Downloading table list\n",
    "toc = pd.DataFrame(cbsodata.get_table_list())"
   ]
  },
  {
   "cell_type": "code",
   "execution_count": 11,
   "metadata": {},
   "outputs": [
    {
     "name": "stdout",
     "output_type": "stream",
     "text": [
      "   ID                  Bedrijfskenmerken  Marges Perioden  \\\n",
      "0   0  A-U Alle economische activiteiten  Waarde     2014   \n",
      "1   1  A-U Alle economische activiteiten  Waarde     2015   \n",
      "2   2  A-U Alle economische activiteiten  Waarde     2016   \n",
      "3   3  A-U Alle economische activiteiten  Waarde     2017   \n",
      "4   4  A-U Alle economische activiteiten  Waarde     2018   \n",
      "\n",
      "   AandeelWerknemersDatHeeftVerzuimd_1  GemiddeldeVerzuimfrequentie_2  \\\n",
      "0                                 43.0                            1.0   \n",
      "1                                 44.9                            1.0   \n",
      "2                                 45.7                            1.1   \n",
      "3                                 44.0                            1.0   \n",
      "4                                 47.9                            1.2   \n",
      "\n",
      "   GemiddeldeVerzuimduur_3  k_1Tot5Werkdagen_4  k_5Tot20Werkdagen_5  \\\n",
      "0                      6.4                69.4                 19.1   \n",
      "1                      6.9                67.9                 19.4   \n",
      "2                      6.8                68.6                 18.9   \n",
      "3                      7.0                69.9                 18.2   \n",
      "4                      7.6                68.2                 19.3   \n",
      "\n",
      "   k_20Tot210Werkdagen_6  k_210WerkdagenOfMeer_7  \\\n",
      "0                   10.4                     1.0   \n",
      "1                   11.7                     1.0   \n",
      "2                   11.4                     1.0   \n",
      "3                   10.8                     1.1   \n",
      "4                   11.5                     1.1   \n",
      "\n",
      "   JaHoofdzakelijkGevolgVanMijnWerk_8  JaVoorEenDeelGevolgVanMijnWerk_9  \\\n",
      "0                                 8.5                              15.0   \n",
      "1                                 8.0                              13.6   \n",
      "2                                 8.5                              14.9   \n",
      "3                                 9.2                              14.7   \n",
      "4                                 9.4                              15.0   \n",
      "\n",
      "   NeeGeenGevolgVanMijnWerk_10  WeetNiet_11  \n",
      "0                         71.3          5.2  \n",
      "1                         72.9          5.5  \n",
      "2                         71.6          5.1  \n",
      "3                         70.6          5.6  \n",
      "4                         70.2          5.5  \n"
     ]
    }
   ],
   "source": [
    "# Downloading entire dataset (can take up to 30s)\n",
    "data = pd.DataFrame(cbsodata.get_data('83130NED'))\n",
    "print(data.head())"
   ]
  },
  {
   "cell_type": "code",
   "execution_count": 12,
   "metadata": {},
   "outputs": [
    {
     "name": "stdout",
     "output_type": "stream",
     "text": [
      "                                    Key  \\\n",
      "0                     Bedrijfskenmerken   \n",
      "1                                Marges   \n",
      "2                              Perioden   \n",
      "3                                         \n",
      "4   AandeelWerknemersDatHeeftVerzuimd_1   \n",
      "5         GemiddeldeVerzuimfrequentie_2   \n",
      "6               GemiddeldeVerzuimduur_3   \n",
      "7                                         \n",
      "8                                         \n",
      "9                    k_1Tot5Werkdagen_4   \n",
      "10                  k_5Tot20Werkdagen_5   \n",
      "11                k_20Tot210Werkdagen_6   \n",
      "12               k_210WerkdagenOfMeer_7   \n",
      "13                                        \n",
      "14   JaHoofdzakelijkGevolgVanMijnWerk_8   \n",
      "15     JaVoorEenDeelGevolgVanMijnWerk_9   \n",
      "16          NeeGeenGevolgVanMijnWerk_10   \n",
      "17                          WeetNiet_11   \n",
      "\n",
      "                                      Title  \n",
      "0                         Bedrijfskenmerken  \n",
      "1                                    Marges  \n",
      "2                                  Perioden  \n",
      "3                                Werknemers  \n",
      "4     Aandeel werknemers dat heeft verzuimd  \n",
      "5              Gemiddelde verzuimfrequentie  \n",
      "6                    Gemiddelde verzuimduur  \n",
      "7            Werknemers die verzuimd hebben  \n",
      "8           Duur meest recente verzuimgeval  \n",
      "9                         1 tot 5 werkdagen  \n",
      "10                       5 tot 20 werkdagen  \n",
      "11                     20 tot 210 werkdagen  \n",
      "12                    210 werkdagen of meer  \n",
      "13  Recentste ziekteverzuim werkgerelateerd  \n",
      "14   Ja, hoofdzakelijk gevolg van mijn werk  \n",
      "15   Ja, voor een deel gevolg van mijn werk  \n",
      "16           Nee, geen gevolg van mijn werk  \n",
      "17                                Weet niet  \n"
     ]
    }
   ],
   "source": [
    "# Downloading metadata\n",
    "metadata = pd.DataFrame(cbsodata.get_meta('83130NED', 'DataProperties'))\n",
    "print(metadata[['Key','Title']])"
   ]
  },
  {
   "cell_type": "code",
   "execution_count": 13,
   "metadata": {},
   "outputs": [],
   "source": [
    "# Downloading a subset\n",
    "#data = pd.DataFrame(\n",
    "        #cbsodata.get_data('83130NED', \n",
    "                          #filters=\"WijkenEnBuurten eq 'GM0363    '\",\n",
    "                          #select=['WijkenEnBuurten','AantalInwoners_5']))\n",
    "#print(data.head())"
   ]
  },
  {
   "cell_type": "code",
   "execution_count": 18,
   "metadata": {},
   "outputs": [
    {
     "ename": "HTTPError",
     "evalue": "Downloading table '83130NED' failed. 404 Client Error: Not Found for url: https://dataderden.cbs.nl/ODataFeed/odata/83130NED/TableInfos?%24format=json",
     "output_type": "error",
     "traceback": [
      "\u001b[1;31m---------------------------------------------------------------------------\u001b[0m",
      "\u001b[1;31mHTTPError\u001b[0m                                 Traceback (most recent call last)",
      "File \u001b[1;32mc:\\Users\\c.hakker\\.pyenv\\pyenv-win\\versions\\3.10.11\\lib\\site-packages\\cbsodata\\cbsodata3.py:177\u001b[0m, in \u001b[0;36m_download_metadata\u001b[1;34m(table_id, metadata_name, select, filters, catalog_url, **kwargs)\u001b[0m\n\u001b[0;32m    176\u001b[0m r \u001b[38;5;241m=\u001b[39m s\u001b[38;5;241m.\u001b[39msend(p, \u001b[38;5;241m*\u001b[39m\u001b[38;5;241m*\u001b[39mrequest_kwargs)\n\u001b[1;32m--> 177\u001b[0m \u001b[43mr\u001b[49m\u001b[38;5;241;43m.\u001b[39;49m\u001b[43mraise_for_status\u001b[49m\u001b[43m(\u001b[49m\u001b[43m)\u001b[49m\n\u001b[0;32m    178\u001b[0m r\u001b[38;5;241m.\u001b[39mencoding \u001b[38;5;241m=\u001b[39m \u001b[38;5;124m\"\u001b[39m\u001b[38;5;124mutf-8\u001b[39m\u001b[38;5;124m\"\u001b[39m\n",
      "File \u001b[1;32mc:\\Users\\c.hakker\\.pyenv\\pyenv-win\\versions\\3.10.11\\lib\\site-packages\\requests\\models.py:1021\u001b[0m, in \u001b[0;36mResponse.raise_for_status\u001b[1;34m(self)\u001b[0m\n\u001b[0;32m   1020\u001b[0m \u001b[38;5;28;01mif\u001b[39;00m http_error_msg:\n\u001b[1;32m-> 1021\u001b[0m     \u001b[38;5;28;01mraise\u001b[39;00m HTTPError(http_error_msg, response\u001b[38;5;241m=\u001b[39m\u001b[38;5;28mself\u001b[39m)\n",
      "\u001b[1;31mHTTPError\u001b[0m: 404 Client Error: Not Found for url: https://dataderden.cbs.nl/ODataFeed/odata/83130NED/TableInfos?%24format=json",
      "\nThe above exception was the direct cause of the following exception:\n",
      "\u001b[1;31mHTTPError\u001b[0m                                 Traceback (most recent call last)",
      "Cell \u001b[1;32mIn[18], line 1\u001b[0m\n\u001b[1;32m----> 1\u001b[0m info \u001b[38;5;241m=\u001b[39m \u001b[43mcbsodata\u001b[49m\u001b[38;5;241;43m.\u001b[39;49m\u001b[43mget_info\u001b[49m\u001b[43m(\u001b[49m\u001b[38;5;124;43m'\u001b[39;49m\u001b[38;5;124;43m83130NED\u001b[39;49m\u001b[38;5;124;43m'\u001b[39;49m\u001b[43m)\u001b[49m \u001b[38;5;66;03m# Returns a dict with info\u001b[39;00m\n\u001b[0;32m      2\u001b[0m info[\u001b[38;5;124m'\u001b[39m\u001b[38;5;124mTitle\u001b[39m\u001b[38;5;124m'\u001b[39m]\n\u001b[0;32m      3\u001b[0m info[\u001b[38;5;124m'\u001b[39m\u001b[38;5;124mModified\u001b[39m\u001b[38;5;124m'\u001b[39m]\n",
      "File \u001b[1;32mc:\\Users\\c.hakker\\.pyenv\\pyenv-win\\versions\\3.10.11\\lib\\site-packages\\cbsodata\\cbsodata3.py:406\u001b[0m, in \u001b[0;36mget_info\u001b[1;34m(table_id, catalog_url, **kwargs)\u001b[0m\n\u001b[0;32m    387\u001b[0m \u001b[38;5;28;01mdef\u001b[39;00m \u001b[38;5;21mget_info\u001b[39m(table_id, catalog_url\u001b[38;5;241m=\u001b[39m\u001b[38;5;28;01mNone\u001b[39;00m, \u001b[38;5;241m*\u001b[39m\u001b[38;5;241m*\u001b[39mkwargs):\n\u001b[0;32m    388\u001b[0m \u001b[38;5;250m    \u001b[39m\u001b[38;5;124;03m\"\"\"Get information about a table.\u001b[39;00m\n\u001b[0;32m    389\u001b[0m \n\u001b[0;32m    390\u001b[0m \u001b[38;5;124;03m    Parameters\u001b[39;00m\n\u001b[1;32m   (...)\u001b[0m\n\u001b[0;32m    403\u001b[0m \u001b[38;5;124;03m        Table information\u001b[39;00m\n\u001b[0;32m    404\u001b[0m \u001b[38;5;124;03m    \"\"\"\u001b[39;00m\n\u001b[1;32m--> 406\u001b[0m     info_list \u001b[38;5;241m=\u001b[39m _download_metadata(\n\u001b[0;32m    407\u001b[0m         table_id, \u001b[38;5;124m\"\u001b[39m\u001b[38;5;124mTableInfos\u001b[39m\u001b[38;5;124m\"\u001b[39m, catalog_url\u001b[38;5;241m=\u001b[39m_get_catalog_url(catalog_url), \u001b[38;5;241m*\u001b[39m\u001b[38;5;241m*\u001b[39mkwargs\n\u001b[0;32m    408\u001b[0m     )\n\u001b[0;32m    410\u001b[0m     \u001b[38;5;28;01mif\u001b[39;00m \u001b[38;5;28mlen\u001b[39m(info_list) \u001b[38;5;241m>\u001b[39m \u001b[38;5;241m0\u001b[39m:\n\u001b[0;32m    411\u001b[0m         \u001b[38;5;28;01mreturn\u001b[39;00m info_list[\u001b[38;5;241m0\u001b[39m]\n",
      "File \u001b[1;32mc:\\Users\\c.hakker\\.pyenv\\pyenv-win\\versions\\3.10.11\\lib\\site-packages\\cbsodata\\cbsodata3.py:192\u001b[0m, in \u001b[0;36m_download_metadata\u001b[1;34m(table_id, metadata_name, select, filters, catalog_url, **kwargs)\u001b[0m\n\u001b[0;32m    189\u001b[0m     \u001b[38;5;28;01mreturn\u001b[39;00m data\n\u001b[0;32m    191\u001b[0m \u001b[38;5;28;01mexcept\u001b[39;00m requests\u001b[38;5;241m.\u001b[39mHTTPError \u001b[38;5;28;01mas\u001b[39;00m http_err:\n\u001b[1;32m--> 192\u001b[0m     \u001b[38;5;28;01mraise\u001b[39;00m requests\u001b[38;5;241m.\u001b[39mHTTPError(\n\u001b[0;32m    193\u001b[0m         \u001b[38;5;124mf\u001b[39m\u001b[38;5;124m\"\u001b[39m\u001b[38;5;124mDownloading table \u001b[39m\u001b[38;5;124m'\u001b[39m\u001b[38;5;132;01m{\u001b[39;00mtable_id\u001b[38;5;132;01m}\u001b[39;00m\u001b[38;5;124m'\u001b[39m\u001b[38;5;124m failed. \u001b[39m\u001b[38;5;132;01m{\u001b[39;00m\u001b[38;5;28mstr\u001b[39m(http_err)\u001b[38;5;132;01m}\u001b[39;00m\u001b[38;5;124m\"\u001b[39m\n\u001b[0;32m    194\u001b[0m     ) \u001b[38;5;28;01mfrom\u001b[39;00m \u001b[38;5;21;01mhttp_err\u001b[39;00m\n",
      "\u001b[1;31mHTTPError\u001b[0m: Downloading table '83130NED' failed. 404 Client Error: Not Found for url: https://dataderden.cbs.nl/ODataFeed/odata/83130NED/TableInfos?%24format=json"
     ]
    }
   ],
   "source": [
    "info = cbsodata.get_info('83130NED') # Returns a dict with info\n",
    "info['Title']\n",
    "info['Modified']\n"
   ]
  },
  {
   "cell_type": "code",
   "execution_count": 16,
   "metadata": {},
   "outputs": [],
   "source": [
    "data = cbsodata.get_data('83130NED')"
   ]
  }
 ],
 "metadata": {
  "kernelspec": {
   "display_name": "Python 3",
   "language": "python",
   "name": "python3"
  },
  "language_info": {
   "codemirror_mode": {
    "name": "ipython",
    "version": 3
   },
   "file_extension": ".py",
   "mimetype": "text/x-python",
   "name": "python",
   "nbconvert_exporter": "python",
   "pygments_lexer": "ipython3",
   "version": "3.10.11"
  }
 },
 "nbformat": 4,
 "nbformat_minor": 2
}
